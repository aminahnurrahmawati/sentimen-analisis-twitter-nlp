{
 "cells": [
  {
   "cell_type": "code",
   "execution_count": 188,
   "id": "6a8349ff",
   "metadata": {},
   "outputs": [],
   "source": [
    "#!pip install sklearn #jika belum punya library untuk mengeksekusi Naive Bayes dan algoritma machine learning lainnya"
   ]
  },
  {
   "cell_type": "code",
   "execution_count": 189,
   "id": "1c3ea165",
   "metadata": {},
   "outputs": [],
   "source": [
    "#!pip install imblearn #jika belum punya library imblearn untuk resampling dataset"
   ]
  },
  {
   "cell_type": "code",
   "execution_count": 190,
   "id": "f51188e1",
   "metadata": {},
   "outputs": [],
   "source": [
    "#!pip install nltk #untuk membersihkan teks (proses NLP)"
   ]
  },
  {
   "cell_type": "markdown",
   "id": "aed2161c",
   "metadata": {},
   "source": [
    "Note: semua library di atas bisa langsung diinstall di jupyter notebook, cukup hapus tanda # dibagian paling kiri \n",
    "lalu klik run"
   ]
  },
  {
   "cell_type": "code",
   "execution_count": 1,
   "id": "6ceae23a",
   "metadata": {},
   "outputs": [],
   "source": [
    "#mengimport library yang dibutuhkan\n",
    "import numpy as np \n",
    "import numpy as np\n",
    "import matplotlib.pyplot as plt\n",
    "import pandas as pd"
   ]
  },
  {
   "cell_type": "code",
   "execution_count": 2,
   "id": "300e49c2",
   "metadata": {},
   "outputs": [],
   "source": [
    "dataset= pd.read_csv(\"labeling_dataset.csv\")"
   ]
  },
  {
   "cell_type": "code",
   "execution_count": 3,
   "id": "0d26abc3",
   "metadata": {},
   "outputs": [
    {
     "data": {
      "text/html": [
       "<div>\n",
       "<style scoped>\n",
       "    .dataframe tbody tr th:only-of-type {\n",
       "        vertical-align: middle;\n",
       "    }\n",
       "\n",
       "    .dataframe tbody tr th {\n",
       "        vertical-align: top;\n",
       "    }\n",
       "\n",
       "    .dataframe thead th {\n",
       "        text-align: right;\n",
       "    }\n",
       "</style>\n",
       "<table border=\"1\" class=\"dataframe\">\n",
       "  <thead>\n",
       "    <tr style=\"text-align: right;\">\n",
       "      <th></th>\n",
       "      <th>full_text</th>\n",
       "      <th>sentimen</th>\n",
       "      <th>kategori</th>\n",
       "    </tr>\n",
       "  </thead>\n",
       "  <tbody>\n",
       "    <tr>\n",
       "      <th>0</th>\n",
       "      <td>Pada masa pandemi COVID 19 mendera, pembelajar...</td>\n",
       "      <td>positif</td>\n",
       "      <td>Confidience</td>\n",
       "    </tr>\n",
       "    <tr>\n",
       "      <th>1</th>\n",
       "      <td>@sultohn @Trollbukantroll @nandadaus @kpertiwi...</td>\n",
       "      <td>positif</td>\n",
       "      <td>Composure</td>\n",
       "    </tr>\n",
       "    <tr>\n",
       "      <th>2</th>\n",
       "      <td>Semenjak pandemi covid-19, penggunaan berbagai...</td>\n",
       "      <td>positif</td>\n",
       "      <td>Control</td>\n",
       "    </tr>\n",
       "    <tr>\n",
       "      <th>3</th>\n",
       "      <td>Dimasa pandemi covid, semua ruang gerak dibata...</td>\n",
       "      <td>positif</td>\n",
       "      <td>Comitment</td>\n",
       "    </tr>\n",
       "    <tr>\n",
       "      <th>4</th>\n",
       "      <td>Saat pandemi covid-19, proses pembelajaran dil...</td>\n",
       "      <td>positif</td>\n",
       "      <td>Comitment</td>\n",
       "    </tr>\n",
       "    <tr>\n",
       "      <th>...</th>\n",
       "      <td>...</td>\n",
       "      <td>...</td>\n",
       "      <td>...</td>\n",
       "    </tr>\n",
       "    <tr>\n",
       "      <th>1065</th>\n",
       "      <td>MY BEST, APLIKASI PEMBELAJARAN GA PAKE RIBET\\n...</td>\n",
       "      <td>negatif</td>\n",
       "      <td>Comitment</td>\n",
       "    </tr>\n",
       "    <tr>\n",
       "      <th>1066</th>\n",
       "      <td>Hari Pendidikan Nasional Saat Pandemi COVID-19...</td>\n",
       "      <td>positif</td>\n",
       "      <td>Control</td>\n",
       "    </tr>\n",
       "    <tr>\n",
       "      <th>1067</th>\n",
       "      <td>Pesan Mendikbud di Hari Pendidikan Nasional Sa...</td>\n",
       "      <td>positif</td>\n",
       "      <td>Control</td>\n",
       "    </tr>\n",
       "    <tr>\n",
       "      <th>1068</th>\n",
       "      <td>Sekolah Karakter GIS kembangkan pendidikan men...</td>\n",
       "      <td>positif</td>\n",
       "      <td>Confidience</td>\n",
       "    </tr>\n",
       "    <tr>\n",
       "      <th>1069</th>\n",
       "      <td>Sistem Pembelajaran Online Mata Kuliah \"Cultur...</td>\n",
       "      <td>negatif</td>\n",
       "      <td>Control</td>\n",
       "    </tr>\n",
       "  </tbody>\n",
       "</table>\n",
       "<p>1070 rows × 3 columns</p>\n",
       "</div>"
      ],
      "text/plain": [
       "                                              full_text sentimen     kategori\n",
       "0     Pada masa pandemi COVID 19 mendera, pembelajar...  positif  Confidience\n",
       "1     @sultohn @Trollbukantroll @nandadaus @kpertiwi...  positif    Composure\n",
       "2     Semenjak pandemi covid-19, penggunaan berbagai...  positif     Control \n",
       "3     Dimasa pandemi covid, semua ruang gerak dibata...  positif    Comitment\n",
       "4     Saat pandemi covid-19, proses pembelajaran dil...  positif    Comitment\n",
       "...                                                 ...      ...          ...\n",
       "1065  MY BEST, APLIKASI PEMBELAJARAN GA PAKE RIBET\\n...  negatif    Comitment\n",
       "1066  Hari Pendidikan Nasional Saat Pandemi COVID-19...  positif     Control \n",
       "1067  Pesan Mendikbud di Hari Pendidikan Nasional Sa...  positif     Control \n",
       "1068  Sekolah Karakter GIS kembangkan pendidikan men...  positif  Confidience\n",
       "1069  Sistem Pembelajaran Online Mata Kuliah \"Cultur...  negatif     Control \n",
       "\n",
       "[1070 rows x 3 columns]"
      ]
     },
     "execution_count": 3,
     "metadata": {},
     "output_type": "execute_result"
    }
   ],
   "source": [
    "dataset"
   ]
  },
  {
   "cell_type": "code",
   "execution_count": 4,
   "id": "5e151154",
   "metadata": {},
   "outputs": [
    {
     "data": {
      "text/plain": [
       "full_text    2\n",
       "sentimen     2\n",
       "kategori     6\n",
       "dtype: int64"
      ]
     },
     "execution_count": 4,
     "metadata": {},
     "output_type": "execute_result"
    }
   ],
   "source": [
    "#pengecekan missing values\n",
    "dataset.isna().sum()"
   ]
  },
  {
   "cell_type": "code",
   "execution_count": 5,
   "id": "0880f5c1",
   "metadata": {},
   "outputs": [],
   "source": [
    "dataset.replace('\\?', np.nan, regex = True, inplace = True) #untuk menghilangkan ambiguitas, maka semua tanda \"\\?\" atau karakter yang tidak dikenali diganti ke NaN"
   ]
  },
  {
   "cell_type": "code",
   "execution_count": 6,
   "id": "a76bfef6",
   "metadata": {},
   "outputs": [
    {
     "data": {
      "text/plain": [
       "full_text    77\n",
       "sentimen      2\n",
       "kategori      6\n",
       "dtype: int64"
      ]
     },
     "execution_count": 6,
     "metadata": {},
     "output_type": "execute_result"
    }
   ],
   "source": [
    "dataset.isna().sum() #missing value akhir"
   ]
  },
  {
   "cell_type": "code",
   "execution_count": 7,
   "id": "73c8ffdb",
   "metadata": {},
   "outputs": [],
   "source": [
    "dataset= dataset.dropna()"
   ]
  },
  {
   "cell_type": "code",
   "execution_count": 8,
   "id": "adaa5a77",
   "metadata": {},
   "outputs": [
    {
     "data": {
      "text/plain": [
       "full_text    0\n",
       "sentimen     0\n",
       "kategori     0\n",
       "dtype: int64"
      ]
     },
     "execution_count": 8,
     "metadata": {},
     "output_type": "execute_result"
    }
   ],
   "source": [
    "dataset.isna().sum()"
   ]
  },
  {
   "cell_type": "code",
   "execution_count": 9,
   "id": "a3a33fee",
   "metadata": {},
   "outputs": [
    {
     "data": {
      "text/html": [
       "<div>\n",
       "<style scoped>\n",
       "    .dataframe tbody tr th:only-of-type {\n",
       "        vertical-align: middle;\n",
       "    }\n",
       "\n",
       "    .dataframe tbody tr th {\n",
       "        vertical-align: top;\n",
       "    }\n",
       "\n",
       "    .dataframe thead th {\n",
       "        text-align: right;\n",
       "    }\n",
       "</style>\n",
       "<table border=\"1\" class=\"dataframe\">\n",
       "  <thead>\n",
       "    <tr style=\"text-align: right;\">\n",
       "      <th></th>\n",
       "      <th>full_text</th>\n",
       "      <th>sentimen</th>\n",
       "      <th>kategori</th>\n",
       "    </tr>\n",
       "  </thead>\n",
       "  <tbody>\n",
       "    <tr>\n",
       "      <th>0</th>\n",
       "      <td>Pada masa pandemi COVID 19 mendera, pembelajar...</td>\n",
       "      <td>positif</td>\n",
       "      <td>Confidience</td>\n",
       "    </tr>\n",
       "    <tr>\n",
       "      <th>2</th>\n",
       "      <td>Semenjak pandemi covid-19, penggunaan berbagai...</td>\n",
       "      <td>positif</td>\n",
       "      <td>Control</td>\n",
       "    </tr>\n",
       "    <tr>\n",
       "      <th>3</th>\n",
       "      <td>Dimasa pandemi covid, semua ruang gerak dibata...</td>\n",
       "      <td>positif</td>\n",
       "      <td>Comitment</td>\n",
       "    </tr>\n",
       "    <tr>\n",
       "      <th>4</th>\n",
       "      <td>Saat pandemi covid-19, proses pembelajaran dil...</td>\n",
       "      <td>positif</td>\n",
       "      <td>Comitment</td>\n",
       "    </tr>\n",
       "    <tr>\n",
       "      <th>5</th>\n",
       "      <td>📚Departemen Hubungan Internasional📚\\n\\nSebagai...</td>\n",
       "      <td>positif</td>\n",
       "      <td>Comitment</td>\n",
       "    </tr>\n",
       "    <tr>\n",
       "      <th>...</th>\n",
       "      <td>...</td>\n",
       "      <td>...</td>\n",
       "      <td>...</td>\n",
       "    </tr>\n",
       "    <tr>\n",
       "      <th>1065</th>\n",
       "      <td>MY BEST, APLIKASI PEMBELAJARAN GA PAKE RIBET\\n...</td>\n",
       "      <td>negatif</td>\n",
       "      <td>Comitment</td>\n",
       "    </tr>\n",
       "    <tr>\n",
       "      <th>1066</th>\n",
       "      <td>Hari Pendidikan Nasional Saat Pandemi COVID-19...</td>\n",
       "      <td>positif</td>\n",
       "      <td>Control</td>\n",
       "    </tr>\n",
       "    <tr>\n",
       "      <th>1067</th>\n",
       "      <td>Pesan Mendikbud di Hari Pendidikan Nasional Sa...</td>\n",
       "      <td>positif</td>\n",
       "      <td>Control</td>\n",
       "    </tr>\n",
       "    <tr>\n",
       "      <th>1068</th>\n",
       "      <td>Sekolah Karakter GIS kembangkan pendidikan men...</td>\n",
       "      <td>positif</td>\n",
       "      <td>Confidience</td>\n",
       "    </tr>\n",
       "    <tr>\n",
       "      <th>1069</th>\n",
       "      <td>Sistem Pembelajaran Online Mata Kuliah \"Cultur...</td>\n",
       "      <td>negatif</td>\n",
       "      <td>Control</td>\n",
       "    </tr>\n",
       "  </tbody>\n",
       "</table>\n",
       "<p>990 rows × 3 columns</p>\n",
       "</div>"
      ],
      "text/plain": [
       "                                              full_text sentimen     kategori\n",
       "0     Pada masa pandemi COVID 19 mendera, pembelajar...  positif  Confidience\n",
       "2     Semenjak pandemi covid-19, penggunaan berbagai...  positif     Control \n",
       "3     Dimasa pandemi covid, semua ruang gerak dibata...  positif    Comitment\n",
       "4     Saat pandemi covid-19, proses pembelajaran dil...  positif    Comitment\n",
       "5     📚Departemen Hubungan Internasional📚\\n\\nSebagai...  positif    Comitment\n",
       "...                                                 ...      ...          ...\n",
       "1065  MY BEST, APLIKASI PEMBELAJARAN GA PAKE RIBET\\n...  negatif    Comitment\n",
       "1066  Hari Pendidikan Nasional Saat Pandemi COVID-19...  positif     Control \n",
       "1067  Pesan Mendikbud di Hari Pendidikan Nasional Sa...  positif     Control \n",
       "1068  Sekolah Karakter GIS kembangkan pendidikan men...  positif  Confidience\n",
       "1069  Sistem Pembelajaran Online Mata Kuliah \"Cultur...  negatif     Control \n",
       "\n",
       "[990 rows x 3 columns]"
      ]
     },
     "execution_count": 9,
     "metadata": {},
     "output_type": "execute_result"
    }
   ],
   "source": [
    "dataset"
   ]
  },
  {
   "cell_type": "code",
   "execution_count": 10,
   "id": "90faf6d9",
   "metadata": {},
   "outputs": [
    {
     "data": {
      "text/plain": [
       "Composure      307\n",
       "Comitment      275\n",
       "Control        243\n",
       "Confidience    165\n",
       "Name: kategori, dtype: int64"
      ]
     },
     "execution_count": 10,
     "metadata": {},
     "output_type": "execute_result"
    }
   ],
   "source": [
    "#mengecek tipe kategori dari sentimen\n",
    "dataset['kategori'].value_counts()"
   ]
  },
  {
   "cell_type": "code",
   "execution_count": 12,
   "id": "4325cff2",
   "metadata": {},
   "outputs": [],
   "source": [
    "#visualisasi\n",
    "import seaborn as sns"
   ]
  },
  {
   "cell_type": "code",
   "execution_count": 13,
   "id": "d07c9de0",
   "metadata": {},
   "outputs": [
    {
     "name": "stderr",
     "output_type": "stream",
     "text": [
      "C:\\Users\\ACER\\anaconda3\\lib\\site-packages\\seaborn\\_decorators.py:36: FutureWarning: Pass the following variable as a keyword arg: x. From version 0.12, the only valid positional argument will be `data`, and passing other arguments without an explicit keyword will result in an error or misinterpretation.\n",
      "  warnings.warn(\n"
     ]
    },
    {
     "data": {
      "image/png": "[encoded data removed]",
      "text/plain": [
       "<Figure size 504x504 with 1 Axes>"
      ]
     },
     "metadata": {
      "needs_background": "light"
     },
     "output_type": "display_data"
    }
   ],
   "source": [
    "plt.figure(figsize=(7,7))\n",
    "sc= sns.countplot(dataset['sentimen'],hue=dataset['kategori'])\n",
    "for p in sc.patches:\n",
    "    sc.annotate(format(p.get_height(), '.2f'), (p.get_x() + p.get_width() / 2., p.get_height()),  ha = 'center', va = 'center', xytext = (0, 10), textcoords = 'offset points')\n",
    "plt.title(\"distribusi sentimen dan kategori\");"
   ]
  },
  {
   "cell_type": "code",
   "execution_count": 14,
   "id": "013fe042",
   "metadata": {},
   "outputs": [
    {
     "name": "stderr",
     "output_type": "stream",
     "text": [
      "C:\\Users\\ACER\\anaconda3\\lib\\site-packages\\seaborn\\_decorators.py:36: FutureWarning: Pass the following variable as a keyword arg: x. From version 0.12, the only valid positional argument will be `data`, and passing other arguments without an explicit keyword will result in an error or misinterpretation.\n",
      "  warnings.warn(\n"
     ]
    },
    {
     "data": {
      "text/plain": [
       "<AxesSubplot:xlabel='kategori', ylabel='count'>"
      ]
     },
     "execution_count": 14,
     "metadata": {},
     "output_type": "execute_result"
    },
    {
     "data": {
      "image/png": "[encoded data removed]",
      "text/plain": [
       "<Figure size 432x288 with 1 Axes>"
      ]
     },
     "metadata": {
      "needs_background": "light"
     },
     "output_type": "display_data"
    }
   ],
   "source": [
    "#visualisasi kategori sentimen\n",
    "sns.countplot(dataset['kategori'])"
   ]
  },
  {
   "cell_type": "markdown",
   "id": "61f0300e",
   "metadata": {},
   "source": [
    "dari grafik di atas tampak bahwa terjadi ketidakseimbangan kelas, maka dari itu dilakukan suatu penanganan, dalam hal ini \n",
    "dilakukan teknik resampling (RUS= Random Over Sampling). Namun proses ini akan dilakukan pada sesi terpisah, agar kita dapat melihat perbandingan nilai akurasi dari model Naive Bayes, sebelum dan setelah dilakukan resampling"
   ]
  },
  {
   "cell_type": "markdown",
   "id": "ff384515",
   "metadata": {},
   "source": [
    "Untuk step selanjutnya dilakukan transformasi dari data kategorical ke numerical terlebih dahulu"
   ]
  },
  {
   "cell_type": "code",
   "execution_count": 14,
   "id": "14616076",
   "metadata": {},
   "outputs": [
    {
     "name": "stderr",
     "output_type": "stream",
     "text": [
      "C:\\Users\\ACER\\AppData\\Local\\Temp\\ipykernel_1332\\3127710095.py:6: SettingWithCopyWarning: \n",
      "A value is trying to be set on a copy of a slice from a DataFrame.\n",
      "Try using .loc[row_indexer,col_indexer] = value instead\n",
      "\n",
      "See the caveats in the documentation: https://pandas.pydata.org/pandas-docs/stable/user_guide/indexing.html#returning-a-view-versus-a-copy\n",
      "  dataset['sentimen']= label_encoder.fit_transform(dataset['sentimen'])\n",
      "C:\\Users\\ACER\\AppData\\Local\\Temp\\ipykernel_1332\\3127710095.py:7: SettingWithCopyWarning: \n",
      "A value is trying to be set on a copy of a slice from a DataFrame.\n",
      "Try using .loc[row_indexer,col_indexer] = value instead\n",
      "\n",
      "See the caveats in the documentation: https://pandas.pydata.org/pandas-docs/stable/user_guide/indexing.html#returning-a-view-versus-a-copy\n",
      "  dataset['kategori']= label_encoder.fit_transform(dataset['kategori'])\n"
     ]
    }
   ],
   "source": [
    "#transformasi variabel categorical menjadi numerical\n",
    "import matplotlib.pyplot as plt\n",
    "from sklearn.preprocessing import LabelEncoder \n",
    "label_encoder= LabelEncoder()\n",
    "\n",
    "dataset['sentimen']= label_encoder.fit_transform(dataset['sentimen'])\n",
    "dataset['kategori']= label_encoder.fit_transform(dataset['kategori'])\n"
   ]
  },
  {
   "cell_type": "code",
   "execution_count": 15,
   "id": "5ce53cc1",
   "metadata": {},
   "outputs": [
    {
     "data": {
      "text/html": [
       "<div>\n",
       "<style scoped>\n",
       "    .dataframe tbody tr th:only-of-type {\n",
       "        vertical-align: middle;\n",
       "    }\n",
       "\n",
       "    .dataframe tbody tr th {\n",
       "        vertical-align: top;\n",
       "    }\n",
       "\n",
       "    .dataframe thead th {\n",
       "        text-align: right;\n",
       "    }\n",
       "</style>\n",
       "<table border=\"1\" class=\"dataframe\">\n",
       "  <thead>\n",
       "    <tr style=\"text-align: right;\">\n",
       "      <th></th>\n",
       "      <th>full_text</th>\n",
       "      <th>sentimen</th>\n",
       "      <th>kategori</th>\n",
       "    </tr>\n",
       "  </thead>\n",
       "  <tbody>\n",
       "    <tr>\n",
       "      <th>0</th>\n",
       "      <td>Pada masa pandemi COVID 19 mendera, pembelajar...</td>\n",
       "      <td>1</td>\n",
       "      <td>2</td>\n",
       "    </tr>\n",
       "    <tr>\n",
       "      <th>2</th>\n",
       "      <td>Semenjak pandemi covid-19, penggunaan berbagai...</td>\n",
       "      <td>1</td>\n",
       "      <td>3</td>\n",
       "    </tr>\n",
       "    <tr>\n",
       "      <th>3</th>\n",
       "      <td>Dimasa pandemi covid, semua ruang gerak dibata...</td>\n",
       "      <td>1</td>\n",
       "      <td>0</td>\n",
       "    </tr>\n",
       "    <tr>\n",
       "      <th>4</th>\n",
       "      <td>Saat pandemi covid-19, proses pembelajaran dil...</td>\n",
       "      <td>1</td>\n",
       "      <td>0</td>\n",
       "    </tr>\n",
       "    <tr>\n",
       "      <th>5</th>\n",
       "      <td>📚Departemen Hubungan Internasional📚\\n\\nSebagai...</td>\n",
       "      <td>1</td>\n",
       "      <td>0</td>\n",
       "    </tr>\n",
       "    <tr>\n",
       "      <th>...</th>\n",
       "      <td>...</td>\n",
       "      <td>...</td>\n",
       "      <td>...</td>\n",
       "    </tr>\n",
       "    <tr>\n",
       "      <th>1065</th>\n",
       "      <td>MY BEST, APLIKASI PEMBELAJARAN GA PAKE RIBET\\n...</td>\n",
       "      <td>0</td>\n",
       "      <td>0</td>\n",
       "    </tr>\n",
       "    <tr>\n",
       "      <th>1066</th>\n",
       "      <td>Hari Pendidikan Nasional Saat Pandemi COVID-19...</td>\n",
       "      <td>1</td>\n",
       "      <td>3</td>\n",
       "    </tr>\n",
       "    <tr>\n",
       "      <th>1067</th>\n",
       "      <td>Pesan Mendikbud di Hari Pendidikan Nasional Sa...</td>\n",
       "      <td>1</td>\n",
       "      <td>3</td>\n",
       "    </tr>\n",
       "    <tr>\n",
       "      <th>1068</th>\n",
       "      <td>Sekolah Karakter GIS kembangkan pendidikan men...</td>\n",
       "      <td>1</td>\n",
       "      <td>2</td>\n",
       "    </tr>\n",
       "    <tr>\n",
       "      <th>1069</th>\n",
       "      <td>Sistem Pembelajaran Online Mata Kuliah \"Cultur...</td>\n",
       "      <td>0</td>\n",
       "      <td>3</td>\n",
       "    </tr>\n",
       "  </tbody>\n",
       "</table>\n",
       "<p>990 rows × 3 columns</p>\n",
       "</div>"
      ],
      "text/plain": [
       "                                              full_text  sentimen  kategori\n",
       "0     Pada masa pandemi COVID 19 mendera, pembelajar...         1         2\n",
       "2     Semenjak pandemi covid-19, penggunaan berbagai...         1         3\n",
       "3     Dimasa pandemi covid, semua ruang gerak dibata...         1         0\n",
       "4     Saat pandemi covid-19, proses pembelajaran dil...         1         0\n",
       "5     📚Departemen Hubungan Internasional📚\\n\\nSebagai...         1         0\n",
       "...                                                 ...       ...       ...\n",
       "1065  MY BEST, APLIKASI PEMBELAJARAN GA PAKE RIBET\\n...         0         0\n",
       "1066  Hari Pendidikan Nasional Saat Pandemi COVID-19...         1         3\n",
       "1067  Pesan Mendikbud di Hari Pendidikan Nasional Sa...         1         3\n",
       "1068  Sekolah Karakter GIS kembangkan pendidikan men...         1         2\n",
       "1069  Sistem Pembelajaran Online Mata Kuliah \"Cultur...         0         3\n",
       "\n",
       "[990 rows x 3 columns]"
      ]
     },
     "execution_count": 15,
     "metadata": {},
     "output_type": "execute_result"
    }
   ],
   "source": [
    "dataset "
   ]
  },
  {
   "cell_type": "raw",
   "id": "21a3ad3e",
   "metadata": {},
   "source": [
    "Keterangan sentiment : \n",
    "\n",
    "0= commitment\n",
    "1= composure\n",
    "2= confidence\n",
    "3= control"
   ]
  },
  {
   "cell_type": "code",
   "execution_count": 16,
   "id": "47978239",
   "metadata": {},
   "outputs": [],
   "source": [
    "X=dataset['full_text'].values #variabel independen"
   ]
  },
  {
   "cell_type": "code",
   "execution_count": 17,
   "id": "9e37fdf1",
   "metadata": {},
   "outputs": [],
   "source": [
    "y=dataset['kategori'].values #variabel output (dependen) dalam hal ini berupa 4 kategori sentimen"
   ]
  },
  {
   "cell_type": "markdown",
   "id": "1806be5d",
   "metadata": {},
   "source": [
    "# Melakukan pembersihan text"
   ]
  },
  {
   "cell_type": "markdown",
   "id": "9b68e0b3",
   "metadata": {},
   "source": [
    "pemebresihan teks perlu dilakukan agar teks bisa diproses lebih lanjut, beberapa step yang dilakukan adalah penghapusan tanda baca seperti : koma, titik tanda kutip dsb."
   ]
  },
  {
   "cell_type": "code",
   "execution_count": 18,
   "id": "b6e0c1da",
   "metadata": {},
   "outputs": [
    {
     "name": "stderr",
     "output_type": "stream",
     "text": [
      "[nltk_data] Downloading package stopwords to\n",
      "[nltk_data]     C:\\Users\\ACER\\AppData\\Roaming\\nltk_data...\n",
      "[nltk_data]   Package stopwords is already up-to-date!\n"
     ]
    }
   ],
   "source": [
    "import re\n",
    "import nltk\n",
    "nltk.download('stopwords')\n",
    "from nltk.corpus import stopwords\n",
    "from nltk.stem.porter import PorterStemmer\n",
    "corpus = []\n",
    "for i in range(0, 990): #isi range harus sesuai dengan berapa banyak row data yang dimiliki, (awalnya 1070, namun setelah didrop missing valuenya menjadi 990)\n",
    "  review = re.sub('[^a-zA-Z]', ' ', X[i])\n",
    "  review = review.lower()\n",
    "  review = review.split()\n",
    "  ps = PorterStemmer()\n",
    "  all_stopwords = stopwords.words('english')\n",
    "  all_stopwords.remove('not')\n",
    "  review = [ps.stem(word) for word in review if not word in set(all_stopwords)]\n",
    "  review = ' '.join(review)\n",
    "  corpus.append(review)"
   ]
  },
  {
   "cell_type": "code",
   "execution_count": 19,
   "id": "76469ccb",
   "metadata": {},
   "outputs": [
    {
     "name": "stdout",
     "output_type": "stream",
     "text": [
      "['pada masa pandemi covid mendera pembelajaran lure offlin berubah menjadi dare onlin dengan segala konsekuensinya', 'semenjak pandemi covid penggunaan berbagai platform untuk pembelajaran onlin semakin meningkat selain membantu prose pembelajaran juga dapat meningkatkan skill dalam bidang teknolog digit apagunadigit onlineuntukapa http co osytpwygmx', 'dimasa pandemi covid semua ruang gerak dibatasi termasuk pembelajaran dimana semua dipaksa menggunakan teknolog onlin untuk tetap pembelajaran agar para siswa tidak tertingg apagunadigit onlineuntukapa http co bc hhew c', 'saat pandemi covid prose pembelajaran dilakukan dengan cara onlin karena itu literasi digit sangat diperlukan bagi pengajar untuk diterapkan sejak dini platejohnni kemkominfo http co ctfji iolj', 'departemen hubungan internasion sebagai konsiderasi ata dampak yang ditimbulkan oleh pandemi covid hingga mengharuskan terselenggarakannya pembelajaran kuliah onlin yang memakan waktu cukup banyak di depan layar para dosen departemen hi memutuskan untuk sedikit', 'bantuan kuota internet untuk dosen dan mahasiswa kemarin emg sangat membantu sekali pada saat masa pandemi covid karena semua prose pembelajaran dilakukan secara onlin pimpinpemulihan hardikna http co z mpofvub', 'mau kkn disana era terjadilah pandemi covid yang dimana seluruh kegiatan pembelajaran menjadi onlin dan mahasiswa melalukan pembelajaran dare dan terkecuali untuk mahasiswa yang kkn pl akan dilaksanakan secara offlin dan nerapin protokol yang ada di desa', 'pusat pembelajaran dare trisakti ppdt mengadakan acara sosialisasi media interaktif thinglink kepada seluruh pimpinan fakulta prodi dan dosen lingkup universita trisakti untuk melengkapi platform pembelajaran onlin yang selama ini sudah berjalan selama pandemi covid http co pfe xarg', 'pembelajaran masa pandemi ini selain covid itu sendiri tenyata merubah sistem pmbelajaran dr tatap muka menjadi onlin akibat susah sinyal pelajar di situraja sumedang manfaatkan wifi grati di sekolah inetmahalsinyalgomb inetmahalsinyalgomb http co zmhcoik iz', 'kebijakan belajar onlin imba pandemi covid ternyata dapat memicu anak kecanduan gadget dprd mendorong agar skema belajar anak kembali seperti semula menerapkan pembelajaran tatap muka ptm http co c ccixfi', 'extend penggalangan dana bantuan pulsa belajar onlin siswa snf feb ui pandemi covid masih mengharuskan pembelajaran snf dilakukan secara dare atau onlin http co yh ioynbf', 'ide judul skripsi pengaruh media pembelajaran onlin terhadap hasil belajar pendidikan agama islam pada masa pandemi covid studi kasu kela sma x kota n skripsi pendidikanagamaislam sugardadi kupingpanjang luhut bandungfullsenyum', 'pembelajaran secara onlin selama pandemi covid dinilai tidak maksim dan berimba pada siswa publisherstori http co ipc oevm', 'pendidikan di masa pandemi covid maka dari itu kegiatan pembelajaran di program studi sarjana kesehatan masyarakat fakulta kedokteran universita udayana terhitung mulai hari senin februari kembali dilakukan sepenuhnya secara dare onlin sampai ada perkembangan', 'sebab pandemi mengikuti pembelajaran via onlin indonesia madinah selama semest setelah itu memutuskan untuk menikah dulu karena kasu covid meningkat akhirnya dari pihak madinah disuruh cuti sekitar semest', 'tidak sedikit mahasiswa yang mengalami kesulitan hidup apalagi di tengah pandemi covid dan faktanya pembelajaran dare masih dilakukan karena regulasi offlin onlin yang belum jela mahasiswa juga tidak dapat mengaks dengan baik pelayanan akademik dan fasilita kampu', 'ketua ikatan dokter anak indonesia piprim basarah yanuarso mengatakan pihaknya tetap konsisten mendorong agar sekolah pada masa pandemi covid menerapkan metod hybrid yaitu persen onlin dan persen pembelajaran tatap muka terbata smartnew kompascom http co udkh xrkw', 'idai mendorong agar sekolah pada masa pandemi covid tetap mengakomodasi opsi pembelajaran jarak jauh atau onlin http co gkrydyrm', 'selamat tahun baru tak terasa sudah melewati tahun banyak hal yang terjadi dan berubah walaupun kita masih menghadapi pandemi covid dan pembelajaran secara onlin mari kita sambut tahun dengan penuh semangat dan senyuman http co tvwgv hgni', 'ia mengatakan peran seorang ibu dalam kondisi pandemi covid seperti saat ini penuh dengan tantangan selain menguru pekerjaan rumah tangga ibu juga haru mengasuh dan mendampingi anak dalam mengikuti pembelajaran onlin', 'pandemi covid mengubah cara pembelajaran yang tadinya offlin menjadi onlin pada onlin train sobat akan dipimpin langsung oleh seorang instruktur para peserta dapat melihat instruktur di layar mendengar audio instruktur http co ji nd kqfi http co ws syh wtc', 'hampir tahun pandemi covid telah memaksa peserta didik beradaptasi dgn model pembelajaran onlin kreativita dan ketekunan para guru menjadi ujung tombak kualita pendidikan kita karena itu terima kasih amp apresiasi yg tinggi utk seluruh pendidik bangsa', 'akademik dan profesi ukki proudli present mini edu talk assalamu alaikum warahmatullahi wabarakatuh haii teman teman mahasiswa pandemi covid membuat seluruh kegiatan pembelajaran dilakukan secara onlin namun bukan berarti mempersembahkan kegiatan http co mw khegrwl', 'pandemi covid mempengaruhi banyak sektor kehidupan bidang pendidikan misalnya pembelajaran tatap muka dihentikan peserta didik terpaksa haru belajar secara dare atau onlin pendidikan http co rlwhsh hdk http co xxfwkv gw', 'media partner akademik dan profesi ukki proudli present mini edu talk assalamu alaikum warahmatullahi wabarakatuh haii teman teman mahasiswa pandemi covid membuat seluruh kegiatan pembelajaran dilakukan secara onlin http co gqmskf xk', 'pandemi covid memaksa dunia pendidikan untuk bertransformasi ke platform digit sebagai media pembelajaran namun tak sedikit guru atau tenaga pendidik di indonesia yang belum lihai dalam pemanfaatan teknolog http co repwcokdp', 'covid sebagai pandemi global menetapkan statu darurat nasion hal tersebut membuat iklim pembelajaran yg semula merupakan dominasi klasik menjadi non klasik atau pembelajaran jarak jauh kini pembelajaran yang biasanya site menjadi onlin', 'aplikasi pembelajaran onlin untuk saat ini menjadi salah satu aplikasi yang pale banyak dicari terlebih di masa pandemi covid ini yang pembelajarannya dialihkan ke dare http co pze ylvyut promopuncak percumalaporpolisi', 'apalagi pada masa pandemi covid ini telah terjadi peningkatan dalam penggunaan situ situ onlin dalam kehidupan sehari hari seperti dalam pembelajaran jarak jauh atau dare memb kebutuhan dengan menggunakan aplikasi jual beli onlin penyimpanan data dan sebagainya', 'wednesday read ep produktif di tengah kuliah onlin halo geografi pandemi covid yang masih berlanjut hingga saat ini membuat semua kegiatan pembelajaran di kampu secara dare sehingga mahasiswa terpaksa melakukan kuliah dare dalam waktu cukup lama http co dfdillncl', 'rt bp statist pojok statistik offlin kemudian dikembangkan menjadi onlin atau virtual seir beralihnya metod pembelajaran sejak pandemi covid', 'penggunaan media onlin dalam pembelajaran pai di masa pandemi covid http co abptybxd', 'nah kepanjangan dari ptm adalah pembelajaran tatap muka kalau awal pandemi kan sekolah onlin untuk membatasi penularan covid maka ptm dilaksanakan begitu semua kondisi memungkinkan tetep kok proke jalan teru masker tetap wajib dipakai sekolahkusiapptm freepik http co z ew rbuti', 'pembelajaran tatap muka terbata merupakan sejarah baru setelah sekian lama anak anak terpaksa dan dipaksa belajar secara onlin gegara wabah covid ayuk terapkan proke covid karena pandemi masih terjadi http co qmwi um e', 'sekolah onlin atau pembelajaran jarak jauh pjj menjadi metod belajar yang dilakukan selama pandemi covid namun ternyata ada bahaya yang mengintai http co lmqscsp b', 'mahasiswa kkn btv iii unej dampingi guru gunakan aplikasi inovasi pendukung pembelajaran onlin dalam situasi pandemi covid http co jdzvdgtbna http co aghm hj bd', 'kela onlin iiit pandemi covid di seluruh dunia telah membawa perubahan radik di seluruh institusi pendidikan menuju pembelajaran berbasi dare mencakup lokakarya dan konferensi onlin sebagai satu situasi normal baru dalam prose belajar mengajar http co hpnzbhx mm', 'sejak awal pandemi covid pembelajaran onlin menjadi tantangan bagi tenaga pendidik orang tua dan juga peserta didik metod pembelajaran yang dilakukan secara onlin secara teru meneru dapat mempengaruhi kondisi psikolog anak http co z tscke', 'mahasiswa kkn btv unej kenalkan platform digit sebagai media pendukung pembelajaran dare onlin di masa pandemi covid http co kmb agilzh http co kmb agilzh http co fbgftxkye nguter sukoharjo beritasukoharjo', 'penel di hong kong melaporkan adanya peningkatan rabun jauh pada anak selama masa pandemi covid hal ini akibat pembelajaran onlin dan kurangnya aktivita anak di luar ruangan riset yang dipublikasikan di british journal ophthamolog ini http co aahpiclgm', 'ketua dpr ri puan maharani pembelajaran secara onlin yang dilakukan sejak pandemi covid dinilai telah mengakibatkan anak kehilangan kesempatan belajar peran dpr selain itu sekolah dare yang terlalu lama disebut mempengaruhi psikolog anak http co gegvqi p', 'satyakarta beraksi agar kualita pendidikan dimasa pandemi covid tidak menurun siswa dan pengajar haru sama sama aktif dalam melaksanakan kegiatan pembelajaran onlin satyakartaberaksi askaraindonesia sdg pkkmbuni http co bvnrxx', 'di tengah pandemi covid membuat kita semua haru melakukan pembelajaran secara onlin tapi itu semua tidak mengurangi semangat seperti pada pkkmb unj dengan para mahasiswa yang penuh semangat semoga pandemi cepat selesai akuunj pkkmbunj openingpkkmbunj http co npwevsfkz', 'magetan ada kabar baik untuk pelajar dan wali murid di magetan setelah sekian lama kegiatan belajar mengajar kbm dilakukan secara onlin atau dare akibat pandemi covid bupati suprawoto memberikan sinyal membolehkan pembelajaran tatap muka http co juymmyzkxw', 'selama pandemi covid kami sudah mendistribusikan lebih dari tablet android sebagai bagian dari bonu plastic bank indonesia untuk mendukung anak anak kolektor kami dalam mengikuti pembelajaran dare onlin http co f vwb mw', 'pendidik selamanya lakukan kegiatan studi mengajar di era pandemi ini bersama studi melalui pembelajaran onlin hal ini dijalankan untuk menekan angka kenaikan covid indonesiamemanggil tunjukkan peranmu http co zi qy pe g', 'pandemi covid dan pemberlakuan pembatasan kegiatan masyarakat ppkm di sejumlah wilayah membuat kegiatan pembelajaran masih haru dilakukan secara dare atau onlin jokowiberantaspandemi ampuhmelawan http co cifwn', 'penyaluran ini dilakukan dalam rangka mendukung kegiatan prose pembelajaran siswa di masa pandemi covid agar bisa tetap mengikuti kegiatan sekolah secara onlin bantuan gadget tersebut meliputi smartphon kuota internet dan laptop http co cyzmiajzj', 'dibalik musibah pandemi covid ada hikmah yg luar biasa kerjasama orang tua dan guru semakin baik dan menjadi kunci keberhasilan pendidikan anak pembelajaran onlin merupakan keniscayaan era digit rev ind tanpa pandemi covid dipastikan kita akan tertingg', 'pembelajaran dare siswa siswi sdplusigm ta tetap semangat belajar di rumah sdplusigm sekolahparajuara http co ftjrfowtpw', 'halo para generasi cakap digit indonesia sejak masa pandemi covid hampir seluruh sekolah di indonesia mengambil kebijakan untuk pembelajaran via dare onlin atau yang biasa juga disebut dengan pembelajaran jarak jauh pjj', 'peran orang tua dan guru terhadap penggunaan teknolog informasi sebagai media pembelajaran onlin di masa pandemi covid http co fswxox http co vypsnabi', 'nxdinxx salam perkenalan pada kesempatan kali ini saya akan membagikan sedikit pengalaman saya selama pembelajaran onlin selama pandemi covid ini jabarin harapan saya untuk pandemi covid agar pandemi ini segera berakhir ekonomi indonesia segera pulih demi membangun cont', 'menurut puan pada masa pandemi ini pembelajaran tatap muka jangan dulu diwajibkan karena masih dapat dilakukan secara onlin hingga pandemi covid benar benar dapat terkendali pdiperjuangan', 'selama pandemi covid pembelajaran di indonesia berubah menjadi dare onlin namun pembelajaran jarak jauh punya kendala karena itu kini pemerintah sedang menyiapkan kembali pembelajaran tatap muka terbata yg rencananya dimulai pada juli medcomad lawancovid id http co fcrsdvuie', 'njmyg bertanyarl bener udah tau covid pembelajaran onlin ibu ngajar aja secara onlin harusnya cukup dengan nonton video enak ga enak namanya juga lagi pandemi harusnya diakalin aja gimana cara nilainya', 'tip dan trik bagi pelajar amp mahasiswa dalam menghadapi pembelajaran onlin di masa pandemi covid http co yyvgbgn vq', 'salah satunya dengan membuat bpsdmtv guna mempublikasikan berbagai kegiatan yang berhubungan dengan asn melalui media ini kita dapat memberikan materi amp pembelajaran serta melaksanakan pendidikan dan pelatihan secara onlin dimasa pandemi covid', 'mutu pjj dare sma tn penghargaan dan apresiasi disampaikan oleh dina pendidikan provinsi jateng maupun orangtua siswa serta masyarakat terhadap pelaksanaan pembelajaran jarak jauh pjj secara dare onlin di sma taruna nusantara semasa pandemi covid http co rwmapylbfn', 'penerapan pembelajaran jarak jauh atau belajar secara onlin selama pandemi covid berdampak pada potensi berkembangnya sektor edtech di indonesia dilaporkan dailysoci dalam tiga tahun terakhir tercatat pendanaan yang melibatkan startup edtech lokal', 'andek mobil internet ini diuru dg baek pd waktu menteriny dr pk noh tentuny dimasa pandemi covid skrng ini saat pembelajaran sekolah pade onlin maka manfaatny terasa warbiasah tapi ma menteriny waktu itu pade sibuk ngelik akun pekob mulu gemblung dah gitu aja http co ggwc rynp', 'namun semenjak pandemi covid menyerang indonesia pemerintah mengubah sistem pembelajaran menjadi serba onlin sehingga penyampaian informasi menjadi kurang efektif khususnya tentang kegiatan pkm maka dari itu kami bem fh upnvj menyelenggarakan webinar dengan tema', 'sobatbkn dampak dari pandemi covid menjadikan hampir seluruh pembelajaran untuk mengembangkan kompetensi asn dilaksanakan secara onlin atau jarak jauh http co uqhcnaqebk', 'suasana pandemi covid babinsa koramil tampo serda rinadi mendampingi dan memfasilitasi pembelajaran onlin dengan menggunakan hotspot wifi pribadi kepada siswi smp towea sebanyak orang bertempat didesa renda kec towea kab muna http co rchpp hvi', 'mengingat pandemi covid masih berlangsung kata pun perbaikan infrastruktur yang merata di tanah air menjadi syarat mutlak berjalannya pembelajaran jarak jauh agar merata dan tidak terjadi kesenjangan infrastrukur pjj atau onlin antar daerah dan wilayah jela puan', 'beberapa tahun terakhir kita sama sama merasakan perubahan pendidikan di indonesia sebagai dampak pandemi covid sekolah yang berpindah ke sistem onlin dan materi materi pembelajaran yang dengan cepat berges ke arah digit menjadi tantangan bagi kita semua', 'pandemi covid telah mengakselerasi transformasi digit di dunia pendidikan secara global pembelajaran di sekolah yang tadinya dilaksanakan secara tatap muka kini berubah menjadi pembelajaran onlin dare', 'bupati tantri tinjau pelaksanaan uji coba pembelajaran tatap muka http co l jk ssidf bupatiprobolinggo covid pandemi pendidikan', 'konsolidasi kualita pembelajaran dare hidup mahasiswa hidup rakyat indonesia sudah lama kita semua menjalani perkuliahan onlin dikarenakan pandemi covid namun keefektivitasan pembelajaran dare ini masih perlu dipertanyakan http co w cvdkjn', 'halo semua saya sedang melakukan penelitian mengenai pendapat para pelajar terhadap metod pembelajaran onlin atau dare yang dilakukan selama pandemi covid ini untuk menyelesaikan studi saya', 'best aplikasi pembelajaran ga pake ribet di mana saat pandemi covid dengan memanfaatkan teknolog digit prose belajar mengajar tetap bisa dilaksanakan walau secara dare onlin begitupun dengan bsi yang teru berinovasi dalam http co jnwco q ni http co jctfjerjg', 'mengenai sekolah tatap muka ya emang kita semua sdh bosan dgn sekolah onlin pembelajaran tidak efektif banyak tuga dll tapi perlu diingat bahwa yang haru kita selesain adalah pandemi karena pandemi lah yang membuat kacau coba covid di indonesia sdh rendah sekali', 'ketika memasuki masa pandemi covid semua kegiatan pembelajaran sekolah diterapkan secara onlin atau yang lebih diken dengan sebutan pljj pembelajaran langsung jarak jauh maka kebutuhan akan kepemilikan handphon untuk anak semakin meningkat http co ypbkafbjm', 'penyaluran bantuan hp telah menjadi salah satu program dina pendidikan dalam membantu siswa agar dapat melaksanakan pembelajaran via onlin selama pandemi covid pdiperjuangan solidbergerak', 'inisiatif ini berfoku pada penyediaan materi pembelajaran tentang berpikir kriti dan literasi media serta membantu audien menavigasi tantangan yang dihadapi di lingungan pembelajaran onlin selama pandemi covid disadur dari materi tular nalar', 'selamat siang sobatkom pemerintah kembali melanjutkan program bantuan kuota internet grati bantuan kuota internet grati ini diberikan karena masih berlanjutnya prose pembelajaran jarak jauh pjj secara onlin karena situasi pandemi covid http co qa vivhcgx', 'program bantuan hp bagi siswa di solo telah menjadi program pemerintah kota surakarta selama pandemi covid yang mengharuskan pembelajaran via onlin di rumah mase mase solo wmp pdiperjuangan kawansuluhperjuangan berjuanguntukkesejahteraanrakyat', 'media onlin solusi pembelajaran masa pandemi covid di smpn tuntang http co h ega sgf', 'hello sobatbpsdmp sampai saat ini pandemi covid belum berakhir sehingga kegiatan belajar mengajar masih dilakukan secara onlin dengan metod pembelajaran jarak jauh http co l waclmujf', 'karena pandemi covid maka pembelajaran privat dapat dilakukan onlin maupun offlin tentunya dengan tentor yang sudah berpengalaman plihan pelajaran tutori iqra al quran bahasa arab bahasa inggri pelajaran umum calistung link pendaftaran http co h uaplvdn', 'halo hi er tak terasa sebentar lagi kita akan memasuki semest genap dan memulai kegiatan perkuliahan onlin berkaitan dengan hal itu terdapat panduan pembelajaran pada tahun ajaran dan akademik baru di masa pandemi covid ini', 'fvckinanxietyy sbmptnfess aku gap btw mnrt aku bkn masalah pembelajaran onlin tapi karna kmrin itu kan covid lg baru baru bgt kan ltmpt jg blm pnya rencana baru yg adaptasi sama masa pandemi itu biar ujian nya tp tka maka dari itu jalan nya ya hapu tka karna biar mempersingkat waktu pa te nya', 'bukalapak masmasjawabgt tuntutan ngajar di pandemi covid yg serba pake aplikasi onlin membuat media pembelajaran interaktif pakai aplikasi hp dan kondisi hp yg memprihatinkan begini semoga dari bukalapak bisa mengirimkan salah satu hp nya itu buat saya bukakuistwitt http co l zysdu el', 'bener bener kudu jadi priorita utama nabung nih ngajar dare dengan siswa tapi penyimpanannya hampir penuh gini tiap hari kudu hapu dan mindah data ke laptop enakan ngajar tatap muka asli http co trckbwpgzh', 'cara cerda mencegah kecanduan game pada anak di era pembelajaran jarak jauh pandemi covid kuliah onlin kulon neurosci app januari info wa http co panjnsotk', 'pembiasaan karakt pembelajaran onlin masa pandemi covid http co u ivshmbi', 'pandemi covid belum berlalu kurangi beraktivita berkerumun lebih baik membaca di rumah mengen pembelajaran onlin di edisi kedua buku ini dapat diunduh full text pada link berikut http co bphotdzbmi perpustakaandigit universitasterbuka http co x hlgbsjwa', 'mengingat pandemi covid maka pembelajaran masih tetap dare onlin maka dari itu sma muhammadiyah semarang melaunch platform baru bernama el smamsa bisa di aks melalui laman http co atu p dd cegahcovid ppdbsmamsa dirumahsaja http co tglibd w', 'saya berharap dengan adanya tablet android ini dapat menjadi penunjang dalam pembelajaran teknolog bagi para santri terutama pemanfaatan pembelajaran secara onlin di masa pandemi covid', 'bupati tantri putuskan tunda pembelajaran tatap muka http co itztbeerha covid pandemi pendidikan tatapmuka', 'di masa pandemi covid banyak kendala yang dihadapi dalam prose pembelajaran janganlah pandemi kita dijadikan alasan untuk teru berkeluh kesah tapi jadikanlah masa pandemi ini cambuk bagi diri kita untuk bisa belajar melalui media onlin wali kela', 'ditengah pandemi covid banyak orangtua yang kelawahan dalam membimb dan mengajar anaknya dikarenakan sistem pembelajaran yang onlin oleh sebab itu dengan adanya kegiatan mengajar dari rumah sangat bisa membantu para orangtua dalam mendidik anaknya http co ocnpxzwlfl', 'bangkitbersama kaleidoskop nasib pembelajaran di era pandemi covid via nu onlin http co pokomm ar', 'kaleidoskop nasib pembelajaran di era pandemi covid http co vqozdehjxn', 'mengajar dari rumah merupakan salah satu dari usaha pemerintah untuk membantu masyarakat dan juga anak anak kecil agar tetap bisa bertahan hidup ditengah pandemi covid dan sulitnya pembelajaran onlin yang dialami dikitmengajardarirumah dikitdutaedukasiperubahanprilaku http co ap ozi', 'setelah delapan bulan pembelajaran onlin pemerintah membolehkan kegiatan belajar tatap muka pada masa pandemi covid mulai januari ingatpesanibu cucitangan pakaimask jagajarak http co wvczjlced', 'sahabat inisi banyak perubahan di masa pandemi covid ini salah satunya untuk kali pertama sistem pembelajaran onlin secara penuh haru diterapkan di tanah air hal ini secara tidak langsung mempercepat transformasi digit dalam dunia pendidikan http co ffn rphz', 'bulan maret dikarenakan adanya pandemi covid pada bimtek kali ini menggunakan metod pembelajaran bland learn dimana menggunakan keunggulan metod pembelajaran tatap muka dan dare onlin sedangkan untuk ujian menggunakan comput assist test cat', 'penilaian saya terhadap pembelajaran dare onlin akibat adanya pandemi covid yang membuat masyarakat banyak menjalankan aktivita dan lebih banyak kerja di rumah demi menghindari penyebaran covid dan mengakibatkan semua perkuliahan menjadi terhenti', 'dan untuk memenuhi salah satu tuga mata kuliah pengantar ilmu komunikasi oleh dosen pengampuh ibu monika wutun so kom', 'apakah suka ataukah duka yang dominan kita haru menanggungnya suka duka yang saya rasakan selama menjalani pembelajaran secara onlin di masa pandemi covid ini banyak', 'dunia tampaknya berubah semuanya onlin kita dituntut haru menguasai semua teknolog ini dari yang muda sampai yang tua untuk bertahan hidup', 'guna menyelamatkan generasi muda dari ancaman pandemi covid pemerintah menerapkan sistem pembelajaran jarak jauh secara onlin dalam skala nasion regionalsummit', 'tidak terasa sudah delapan bulan pandemi covid berlangsung di indonesia selama delapan bulan itu juga sekolah dan kampu ditiadakan pembelajran secara tatap muka metod pembelajaran dilakukan secara onlin', 'ellvinacinta kok iso iku lho contoh yg sangat buruk pandemi gini harus kan pembelajaran onlin kudun disetelno video ae ben penularan covid g semakin lua', 'akademisi uki temukan hal hal positif dalam pembelajaran onlin saat pandemi covid http co f yoz ozhd', 'efektifita dan motivasi siswa dalam pembelajaran dare onlin pada saat pandemi covid http co dtxmzpd un', 'akademisi uki temukan hal hal positif dalam pembelajaran onlin saat pandemi covid http co f yoz ozhd', 'pembelajaran tatap muka targetkan bulan novemb dapat berlangsung hingga saat ini prose pembelajaran di kota blitar masih dilakukan melalui dare atau onlin lantaran pandemi covid selengkapnya http co vdrhfhtogt', 'terlebih di masa pandemi covid pelajar yang ada di girpasang tak puse lagi memb kuota dan haru menyebrang demi mengikuti pembelajaran onlin atau dare http co gg g', 'pandemi covid secara langsung akan membawa pengaruh ke pendidikan di masa yang mendatang sehingga kita haru bisa beradaptasi dengan pembelajaran onlin yuk cari tahu tip untuk unggul dalam belajar selama pembelajaran dare langsung dari para ahli bersama scomecimsa', 'pandemi covid memunculkan dampak di berbagai sektor polri berinisiatif mengupayakan berbagai solusi salah satunya untuk membantu pembelajaran onlin tonton selengkapnya di program polisiku bersama divhuma polri besok pkl wib stream http co itaxljpyq http co hsl', 'kementerian pendidikan dan kebudayaan kemendikbud memastikan penyaluran bantuan kuota data internet guna mendukung pembelajaran onlin atau dare di tengah pandemi viru corona baru covid http co awpkgh mg beritaterkini', 'advan merili gawai baru untuk menjawab kebutuhan pelajar di indonesia yang kesehariannya mengikuti pembelajaran onlin atau jarak jauh akibat pandemi covid hp http co g qorozfx', 'peran perpustakaan dimasa pandemi covid ini menyediakan layanan berupa perpustakaan onlin dalam menyebarkan informasi serta sebagai sarana dalam menunjang pembelajaran bagi para pelajar dan mahasiswa onlin kultwit literateproject prodiperpustakaan vokasiunair', 'pembelajaran onlin ditengah pandemi covid ternyata ini masalahnya http co zlj mib', 'sumedang pandemi covid telah membawa dampak pada seluruh sektor kehidupan manusia tak terkecuali pada sektor pendidikan sudah beberapa bulan sekolah sekolah haru melakukan pembelajaran jaringan onlin atau secara dare http co kpdaigcqoc', 'via media onlin sarana pembelajaran jarak jauh di masa pandemi covid tetap haru berjalan http co kpsd ii wv', 'strategi pembelajaran onlin mapel matematika di era pandemi covid http co b hmbc pm', 'pandemi covid menjadi alasan pihak kampu mengambil tindakan yaitu diliburkannya kuliah tatap muka dan diganti dengan kuliah onlin atau metod dare zoom wa http co dyku vjtj g class atau media lainnya yang disesuaikan dengan tujuan pembelajaran mata kuliah', 'pemanfaatan aplikasi sebagai upaya pembelajaran onlin di tengah pandemi covid dusun rangpanasan desa meteng http co mouagba ql', 'infogenwanipool kemendikbud mengungkap survei terkait cara siswa melaksanakan pembelajaran jarak jauh selama pandemi covid hasilnya banyak di antara mereka melakukan belajar onlin dengan memanfaatkan layanan whatsapp', 'berbicara mengenai pandemi covid yang menganjurkan generasi muda untuk memakai teknolog pembelajaran berbasi onlin hal ini juga memiliki dampak terhadap mental generasi muda banyak generasi muda yang sudah lebih menerima dengan baik cara pembelajaran dare dan akan lebih', 'penutupan workshop onlin video pembelajaran dimasa pandemi covid oleh ketua pgri kab situbondo yg berlangsung dari septemb alhamdulillah telah berjalan dengan lancar terima kasih pslcc pgri kab situbondo hidup guru hidup pgri solidarita ye pgri http co gfm ibnyut', 'pandemi covid yang semakin bertahan dari hari ke hari membuat pkkmb dilaksanakan melalui platform onlin diantaranya seperti zoom googl meet youtub dan masih banyak yang mendukung prose pembelajaran jarak jauh dariunsuntukindonesia mahasuramuda semarpedulisehat http co scbxeqc xp', 'pemerintah memberikan bantuan kuota internet grati kepada seluruh siswa guru mahasiswa dan dosen di indonesia guna mendukung aktivita belajar onlin atau pembelajaran jarak jauh pjj di masa pandemi covid http co ohst f', 'nomor tahun tentang petunjuk tekni bantuan kuota data internet tahun guna menunjang pembelajaran jarak jauh pjj atau belajar onlin selama pandemi covid baca selengkapnya di http co jalnqhwz report bagu prasetio muhammad yoga nugroho', 'kondisi pandemi covid ini mengakibatkan perubahan yang luar biasa termasuk dibidang pendidikan seolah seluruh jenjang pendidikan dipaksa untuk beradaptasi secara tiba tiba untuk melakukan pembelajaran dari rumah melalui media dare onlin', 'salam mahasura muda pandemi covid memberikan dampak bagi pendidikan seluruh pembelajaran terpaksa dilakukan dari rumah melalui dare onlin tentunya ini bukan hal yang mudah untuk dilakukan http co jsgjxisja', 'salam mahasura muda covid dalam pendidikan pandemi yang kita hadapi sekarang tak hanya berpengaruh pada tenaga kesehatan tapi juga berdampak ke berbagai bidang misal pendidikan hal pertama yang dirasakan ialah lahirnya pembelajaran secara onlin', 'kondisi pandemi covid ini mengakibatkan perubahan yang luar biasa sepertinya seluruh jenjang pendidikan dipaksa bertransformasi untuk beradaptasi secara tiba tiba drasti untuk melakukan pembelajaran dari rumah melalui media dare onlin', 'masyarakat dituntut untuk bisa beradapatasi atau menyesuaikan diri terhadap pandemi ini sistem pendidikan dare atau onlin learn menjadi pilihan yang di ambil pemerintah guna mencegah penyebaran covid semakin melua melalui kegiatan pembelajaran', 'salam mahasura muda meskipun pandemi covid melanda di indonesia kita haru tetap selalu semangat untuk menempuh pendidikan pembelajaran melalui onlin tidak menjadi hambatan semangat unsuntukindonesia mahasuramudaun unspedulipendidikan maretuniv generasiun', 'semangat mengejar dan mengajar ilmu pengetahuan hampir tidak ada yang menyangka pendidikan akan berubah drasti akibat pandemi covid walau sistem pendidikan onlin ini tidao mudah sebagai mahasiswaatau murid haru tetap semangat untuk mengikuti pembelajaran dan berusaha', 'salam mahasura muda dimasa pandemi covid yang belum berakhir hingga saat ini kemendikbud republik indonesia telah memberikan beberapa kebijakan terkait pelaksanaan pendidikan bagi para pelajar salah satunya adalah pembelajaran jarak jauh pembelajaran onlin', 'pembelajaran offlin pun menjadi tersendat dan un yang seharusnya masih ada tahun ini terpaksa haru dihapu karena adanya pandemi covid pembelajaran yang semula offlin bertatap muka langsung dialihkan menjadi pembelajaran onlin dare sarana yang digunakan yaitu', 'pengabdian dapat dimulai dari hal hal sederhana seperti pengabdian kita kepada keluarga yaitu membantu membimb salah satu anggota keluarga kita dalam pembelajaran secara onlin dimasa pandemi covid', 'dialog seputar protokol kesehatan di lingkungan sekolah serta prose pembelajaran secara onlin selama pandemi covid selasa polresjogja polsekjetisjogja bersamalawancovid covid', 'sejak pandemi covid kementerian pendidikan dan kebudayaan kemendikbud telah melakukan penyesuaian kebijakan pendidikan salah satunya dengan menerapkan pembelajaran secara dare atau onlin http co uowr vl ok http co g icbm lg', 'haimagazin lu kalo emang ngak punya kerjaan mend bantuin mikir gimana cara efektif pembelajaran onlin gimana solusi permasalahan sampah gimana solusi kekerasan anak amp perempuan gimana nasib pedagang yang terdampak pandemi covid atau sekalian mikir vaksin covid dll', 'masa pandemi gubernur harap pembelajaran dare jadi momentum menuju digitalisasi gubernur bali wayan koster mengatakan bahwa sistem pembelajaran secara dare atau onlin pada masa pandemi covid ini http co uvbnxclr c', 'denpasar gubernur bali wayan koster mengatakan bahwa sistem pembelajaran secara dare atau onlin pada masa pandemi covid ini sebetulnya dapat dijadikan momentum bagi dunia pendidikan menuju arah http co dxhsupkq', 'dunia pendidikan di indonesia banyak mengalami perubahan karena semenjak pandemi covid enam bulan terakhir sekolah sekolah terpaksa ditutup untuk mencegah penularan covid dan pembelajaran dilaksanakan secara onlin serta jarak jauh untuk menyesuaikan perubahan ini', 'dare potensi kekerasan anak dikna jatim distribusikan kio abm pro kontra pembelajaran di tengah pandemi covid http co p rdk zuyf dare pademicovid pembelajaranonlin', 'yup bener banget aplikasi viral video confer di era pandemi ini adalah zoom yang dinilai sangat membantu belajar siswa loh banyak fitur menarik bagi pengguna dan bisa membantu pembelajaran onlin kalian di tengah pandemi covid yang gak ada habisnya zoommeet http co qxi ywtmhv', 'merancang pembelajaran mandiri workshop onlin pertama yang diselenggarakan akademi salam sebagai upaya untuk menjawab permasalahan prose pendidikan yang terjadi selama pandemi covid ini daftar sekarang di http co nsyizaizhh atau hubungi narahubung di http co lhgkvvlob', 'perhatian istilah baru untuk kela onlin masa pandemi yang patut diingat model pembelajaran kurikulum penyesuaian wabah corona covid kela onlin kelon kela onlin antar negara kelonan moda dalam jaringan modar http co fzdpmguend', 'sma bruderan purworejo hadir bagimu semua ditengah situasi pandemi covid dengan mengembangkan konsep pendidikan yg memerdekakan dan sistem pembelajaran onlin mari bergabung bersama kami kami siap melayani siswa baru di tahun ajaran http co lgel fsefo', 'ikuti diskusi onlin efektifita pendidikan dan pembelajaran masa pandemi covid bersama muhammad sayuti anggota badan akreditasi nasion sekolah madrasah dan hasanudin kepala sekolah smp muhammadiyah depok sleman muhammadiyah covid pendidikan bersatuhadangcorona http co syqqen n', 'adanya pandemi covid akibatkan pembelajaran tatap muka di sejumlah sekolah dilakukan secara onlin tapi model pjj muncul berbagai permasalahan masalah kuota gadget dan sinyal internet adakah model http co u e vpxqu', 'pandemi covid membuat kebanyakan lembaga pendidikan mengalihkan pembelajaran tatap muka ke sistem jarak jauh secara onlin http co brmsngrsoo', 'islamlib pada situasi pandemi begini enggak ada metod pembelajaran yang ideal mau onlin atau offlin pasti ada plu minusnya coba dishar klo ada yang tau metod belajar yang aman dari covid', 'kuotainternetgrati pandemi covid telah memberikan tantangan baru bagi pendidikan di indonesia sistem pembelajaran yang biasanya dilakukan secara tatap muka kini haru berges ke sistem pembelajaran secara onlin http co bmtrxhfr', 'menyediakan layanan internet bergerak atau mobil commun access point mcap untuk mendukung pembelajaran onlin bagi pelajar di masa pandemi covid http co tawaekwvej pemkotpekalongan', 'ayo pelajari berbagai metod pembelajaran studia yang diterapkan berbagai universitasa selama masa pandemi covid ini baik itu berupa kela onlin person maupun hybrid bersama howard lee dari ucla hari http co uewnryiia', 'bendera emak adalah sebuah film pendek tentang seorang siswa bernama citra yang haru melakukan pembelajaran dare selama pandemi covid terjadi ia yang tidak memiliki gawai pintar untuk belajar onlin haru http co romfwvarn', 'pandemi covid membuat kementerian pendidikan dan kebudayaan memutuskan pembelajaran jarak jauh pjj dilanjutkan sekolah onlin diperpanjang dan bunda haru tahu lho pentingnya http co nllubykolv', 'alternatif pembelajaran yg ditawarkan ke pemuda sejak pandemi covid video lectur onlin test home assign youth amp covid impact job educ right mental well ilo url http co vi tjchq h http co hki juiz', 'day selama masa pandemi covid pemerintah mengeluarkan kebijakan baru yaitu pembelajaran jarak jauh dimana mengharuskan setiap siswa untuk belajar secara onlin silahkan simak videonya untuk mendapatakan informasi yang kami berikan kkmuntirtajawara kkmuntirta http co erdwyurdfc', 'sekolahonlin desyratnasari prose pembelajaran secara onlin saat pandemi covid bisa dijadikan pembelajaran soal kejujuran dan juga ketangguhan dalam menghadapi hidup http co fqq gqunkf', 'banyak keluhan dan siswa mulai bosan sistem pembelajaran masa pandemi covid perlu disiasati secara bijak headlin jawa tengah http co bnxq hk hi', 'pandemi covid yang terjadi di indonesia sejak maret membuat prose pembelajaran dilakukan secara dare masalah yang kemudian muncul lantaran tidak semua murid sanggup memb kuota internet untuk belajar secara onlin melihat permasalahan http co iwd p wwvx http co r p baltnj', 'menerapkan pembelajaran dengan sistem onlin atau dare selama pandemi covid seperti saat ini memang tidak mudah tidak semua sekolah memiliki anggaran memadai untuk menyiapkan sistem seperti learn manag system lm untuk sekolah http co oo uwi fk', 'orang tua murid di ambon keluhkan paket data hari kedua dimulainya tahun ajaran baru dengan penerapan pembelajaran jarak jauh pjj berbasi onlin di masa pandemi covid ini ternyata mulai dikeluhkan orang http co yb hdhqbaw', 'donasi itu untuk memberikan bantuan gadget kepada siswa di bandung raya demi mendukung sistem pembelajaran onlin di masa pandemi covid http co ggphr cv k', 'di tengah pandemi covid lpka kla kutoarjo menyediakan aks internet wifi grati demi membantu pelajar serta guru yang membutuhkan jaringan internet untuk keperluan pembelajaran dare atau onlin sekitar kutoarjo yuk simak lebih lanjut http co yvqnyszg', 'samsungid aku seorang pelajar kela semest ganjil di tahun ajaran baru yang bertepatan dengan adanya pandemi covid membuat sekolahku menerapkan metod pembelajaran jarak jauh pjj onlin menggunakan googl classroom satu satunya gadget yang kupakai ialah handphon lamaku ini yang', 'banyaknya keluhan siswa siswi dan wali murid ketika pembelajaran dare dalam jaringan atau pembelajaran onlin akibat pandemi covid membuat hati kepala desa gondowido kecamatan ngebel trenyuh simak berita selengkapnya di http co rz awyb e', 'banyak kendala memang yang selama ini diketahui para wali murid dan guru dalam pembelajaran onlin selama masa pandemi covid simak berita selengkapnya di http co knik epl', 'samsungid pandemi covid berdampak besar pada berbagai aspek kehidupan tak terkecuali pendidikan di indonesia sudah lebih dari bulan kegiatan belajar mengajar dilakukan dari rumah secara onlin perubahan metod pembelajaran menjadi onlin saat ini tentu menjadi tantangan tersendiri', 'biar gak gagap dalam kela onlin istilah baru untuk kela line masa pandemi beberapa akronim untuk istilah baru yg perlu difahami orang tua wali murid untuk model pembelajaran kurikulum penyesuaian wabah corona covid simak http co pek dkysk', 'rpp dare satu lembar mapel pai kela sd kurikulum rpp pai dan bp kela pembelajaran onlin meskipun prose pembelajaran selama pandemi covid dilaksanakan dengan pembelajaran jarak jauh atau dare khususnya guru mata pelajaran pendidikan http co gevcwr http co yt adb w', 'pandemi covid pelajar pelopor keselamatan llaj di banjarbaru jalani pembelajaran onlin http co ydq itqg http co kk oa ybqg', 'zoominar kali ini kami persembahkan bagi tenaga pendidik yang masih tetap bersemangat untuk membagikan ilmu kepada siswa siswi nya dalam masa pandemi covid ini mari belajar bersama dan berbagi pengalaman seputar pembelajaran secara onlin bersama kami http co tkxnjf ex', 'saat pandemi covid ini model pembelajaran yg diterapkan diantaranya bisa secara dare yaitu siswa belajar dirumah secara onlin dan lure yaitu guru mengajar secara kuril ke rumah siswa http co rkozecd h', 'pandemi covid mengharuskan kita beradaptasi dengan kebiasaan baru termasuk prose belajar mengajar secara onlin di indonesia sistem ini diken dengan pembelajaran jarak jauh pjj sistem pjj dinilai efektif untuk menghindari prose belajar mengajar tatap muka namun http co ngk aojnc', 'pendidikan menjadi sorotan pent di tengah pandemi covid siswa dan guru tidak dapat bertatap muka secara langsung di sekolah dan semua pembelajaran dilakukan secara onlin saya hari ini diberikan kesempatan http co yqbb fkysn', 'hardnew mendadak onlin colleg life di fakulta psikolog ugm adanya pandemi covid memaksa dunia pendidikan beralih ke metod pembelajaran dare fakulta psikolog ugm pun tidak terkecuali http co ygxvuiffiz', 'selain melalui pembelajaran dare atau onlin sejumlah guru di tk mardi wiyata kota malang mendatangi rumah siswa guna melihat dan mengenalkan metod pembelajaran siswa baru selama pandemi covid selasa ahh elshintaedisisiang http co anoajkyxao', 'selama pandemi covid saka bhayangkara pangkalan polr kediri kota melaksanakan diklat melalui pembelajaran onlin via whatsapp grup untuk diskusi dan share materi serta pelaksanaan ujian penempuhan skk sakabhayangkara pramukapeduli pramuka corona covid dirumahsaja http co cwnxqwepso', 'repost ananalwa apel senin pagi monev kegiatan guru di kela dalam prose pembelajaran jarak jauh alia dare alia onlin sekelumit kegiatan di sekolah masa pandemi covid semoga bs segera belajar tatap http co pne guctfi', 'repost rriprograma saat ini pembelajaran siswa melalui onlin atau dare memang sedang menjadi pro kontra banyak orang tua di masa pandemi covid apalagi jika kendalanya ada pada kuota internet yang http co pbbkhagi n', 'bhabinkamtibma desa kujon aipda gatot e bersama babinsa kujon sertu mariyanto pada hari sabtu juli dimulai pukul wib bertempat di aula smpn ceper melaksanakan sosialisasi pembelajaran dare onlin kepada orang tua siswa di masa pandemi covid http co gmksai hyd', 'pembelajaran onlin di tengah pandemi covid tantangan yang mendewasakan http co lh b rzirr', 'saat ini sebagian besar sekolah belum diizinkan beroperasi sejak terjadinya pandemi covid salah satunya di kabupaten ciami kegiatan pembelajaran jarak jauh secara dare atau onlin dinilai kurang efektif http co ofultjdybg', 'tak seberuntung pelajar pada umumnya yang bisa mengikuti sistem pembelajaran onlin selama pandemi covid dima haru bersekolah meski sendirian http co dxrm', 'sementara kpai mengatakan banyak siswa alami tekanan scr psikolog hingga putu sekolah krn berbagai masalah yg muncul selama ikuti pembelajaran jarak jauh pjj dare di masa pandemi covid mayorita dari mereka tdk bisa aks pembelajaran onlin pjjbikinstr jumat', 'assalamualaikum memasuki minggu kedua di semest tahun ajaran masih dengan pembelajaran onlin learn di masa pandemi covid guru sd bmd panjen teru berusaha meningkatkan skill dalam http co hozffnglkr', 'seminar onlin kali ini mengambil tema pembelajaran jarak jauh tentang peningkatan kualita air di indonesia di era pandemi covid dengan model water inquiri yang diikuti guru guru serta para penggiat lingkungan http co ggq zzrkwh', 'pada akhirnya sistem ini mau tidak mau tetap akan dijalankan selama wabah pandemi covid masih ada sistem bisa menjadi efektif dan bahkan bisa menjadi sesuatu yang melebihi pembelajaran onlin jika pelajar dan pengajar sale bekerjasama dalam prose belajar mengajar dare', 'day assalamualaikum wr wb hari ini saya mengikuti webinar pgmi strategi pembelajaran di mi sd pada masa pandemi covid dalam menghadapi pembelajaran onlin seorang guru dapat menggunakan beberapa http co yaw yr', 'berita tahun ajaran baru kali ini berbeda karena pandemi covid dunia pendidikan sangat terpengaruh guru amp siswa dituntut bisa menjalankan kbm onlin sehingga sman bandung melaksanakan iht untuk menghadapinya dengan topik pembelajaran di masa covid http co nzjaflzeix', 'masa pandemi covid ini masih membuat pembelajaran menjadi onlin hal itu membuat biaya semakin bertambah dan membengkak untuk itu pemerintah diminta subsidi internet untuk belajar onlin sourc http co soamfbx g http co e n kuh', 'terkendala gadget dan kuota kemenag kabupaten lebak kembangkan pembelajaran berkelompok era pandemi global covid memaksa banyak aktivita dilakukan secara dare dalam jaringan onlin namun di sejumlah http co u clww se', 'lantaran kegiatan pembelajaran di sekolah saat ini masih dilakukan secara dare atau onlin sebagai imba belum berakhirnya pandemi covid kapasita kalangan guru dalam melaksanakan tuga secara dare juga haru ditingkatkan http co vpin ecu', 'sesi kelima erga munggaran selaku cto harukaedu akan menjelaskan bagaimana dampak pandemi covid terhadap pembelajaran onlin indonesiaedutechday http co zh bsg wuz', 'sobat brainmat disaat pandemi covid ini kebutuhan terkait pembelajaran onlin semakin meningkat moodl bisa menjadi solusi untuk pembelajaran onlin moodl sudah digunakan untuk pembelajaran onlin selama http co vci yseuvh', 'mba risti orang miskin bisa sekolah sekolah yang biasa saja yang pakai buku paket sekela anak dsb yang jadi masalah ketika pandemi seperti covid ini datang dan pembelajaran jd onlin mereka ga sanggup beda lho ya ini konteksnya ketika pembelajaran jadi onlin', 'pandemi covid mengajak kita untuk mengen pembelajaran onlin mari buka bukunya lagi disini http co riumnnvgdd perpustakaandigit universitasterbuka newnorm http co pck c jrdv', 'program studi magist arsitektur menyelenggarakan seminar onlin tantangan pembelajaran dare di masa pandemi covid dan new normal melalui aplikasi zoom dan disiarkan langsung di channel youtub sabtu http co qqkgfz dv', 'contoh rpp lembar pembelajaran onlin untuk sd rencana pelaksanaan pembelajaran rpp lembar untuk pembelajaran jarak jauh secara onlin kreativita guru sangat menentukan kualita pendidikan di masa pandemi viru corona covid prose belajar http co syexiqgcth http co obobzpqopb', 'disdik kaltim akui tak semua daerah bisa jalankan pembelajaran onlin kala pandemi covid http co qvzcnpfo http co p rltsgcow', 'meningkatkan motivasi belajar siswa pada pembelajaran onlin akibat pandemi covid http co dsjbdbv http co vn cgfc', 'rt muhammadiyah ikuti diskusi onlin efektifita pendidikan dan pembelajaran masa pandemi covid bersama muhammad sayuti anggota badan akreditasi nasion sekolah madrasah dan hasanudin kepala sekolah smp muhammadiyah depok sleman muhammad http co hbmf g', 'fkip unila buka pusat layanan konsultasi pembelajaran onlin di paud selama pandemi covid http co ddw lu j http co bjillkbimq', 'mendikbud nadiem makarim izinkan pemanfaatan dana bo untuk kuota internet dana bantuan operasion sekolah bo diperbolehkan digunakan untuk pembelian kuota internet guna mendukung pembelajaran onlin dare selama pandemi covid cc pikiranrakyat http co fu e bjn', 'pasca pandemi covid pbm smpn makassar gunakan aplikasi pembelajaran onlin http co fgdtuo lfe http co lesdzxxfjj', 'memasuki tahun ajaran baru yang masih dalam masa pandemi covid pihak sekolah diminta menerapkan pendidikan yang mengasyikkan bagi anak terlebih sebagian besar pembelajaran siswa masih menggunakan metod dare onlin atikoh ganjarpranowo http co nbm hv v', 'jakarta pembelajaran secara onlin pada era sekarang menjadi model yang pale efektif dan efisien apalagi di tengah pandemi covid saat ini hal itu juga sebagai upaya agar indonesia mampu berkompetisi secara http co j nskf vk', 'prepar halok bersiap sekolah sementara masih berlanjut pembelajaran onlin dulu ya teman teman sambil menunggu perkembangan pandemi covid info lebih lengkap akan dijelaskan di wa grup kela http co jc rfoqt p', 'ditengah pandemi covid sdi bitoa makassar gelar pembelajaran secara dare http co iiltgutbx http co yusuczzz c', 'sebuah persiapan yang sangat baik dari campu raharja dalam menghadapi perkuliahan di masa pandemi covid dimana metod pembelajaran onlin saat ini menjadi sebuah keharusan pelatihan dosen terhadap system onlin semakin memberikan nilai tambah dalam kualita pengajaran http co dicvuxcni', 'pak mendingan urusin tuh ukt spp apalagi sistem onlin belum meratatolong perbaiki sistemnya nadiembelummendengar nadiemmanamahahasiswamerana mendikbud setelah pandemi covid pembelajaran jarak jauh akan permanen http co ppvmkr hk http co kusiltkf g', 'materi kedua pembelajaran onlin karena pandemi covid http co w zfhbqwic via youtub', 'jazulijuwaini tanyakan paket pulsa grati dr provid kerjasama dengan pemerintah utk siswa di tengah pandemi covid karena semuanya pembelajaran onlin', 'pandemi covid mengharuskan para pelajar dan mahasiswa melakukan pembelajaran dengan sistem onlin hal ini terbukti menjadi suatu kendala bagi para pelajar dan mahasiswa untuk tetap mendapatkan pendidikan yang layak thread', 'virtual learn dengan book yudhistira untuk pembelajaran onlin di masa pandemi covid barangkali berminat nganjuk http co dg k', 'plu minu pembelajaran onlin di masa pandemi covid http co arklaj rwr', 'http co txxvajatdt platform rapat amp kela onlin buatan anak banua dukung skb menteri pembelajaran di masa pandemi covid banjarmasin kp menyusul surat keputusan bersama skb empat kementrian terkait panduan http co icpuhb lj', 'di masa pandemi covid ini keputusan mendikbud nadiem makarim untuk pembelajaran di perguruan tinggi di semua zona masih wajib dilakukan secara onlin karena keselamatan adalah nomor satu ezyedu http co oz r uw', 'dunia pendidikan merupakan salah satu aspek yang sangat terdampak oleh pandemi covid dan sistem pembelajaran kuliah onlin dare merupakan salah satu terobosan pemerintah untuk memutu mata rantai covid pdiperjuangan covid http co sdizkcbevt', 'selama masa pandemi covid rumah telah berubah menjadi ruang belajar bagi anak penerapan pembelajaran jarak jauh dengan onlin learn ini jadi hal baru bagi banyak orang berikut tip belajardarirumah sebuah thread http co fhjo jim f', 'pendaftran gelombang dibuka berhubung tingginya animo pendaftar maka pendaftaran gelombang bimbingan tekni bimtek onlin tentang pembuatan media pembelajaran yang asyik di tengah pandemi covid dibuka http co iavbnpmp', 'help rt ya jadi aku lagi ngadain penelitian buat melihat adaptasi mahasiswa atau siswa sma yang melaksanakan pembelajaran secara onlin dikarenakan pandemi covid ini temen temen bisa ngisi link dibawah ini atau share ke grup kela atau adiknya http co li ahtq', 'mutualku yang baik dan budiman aku ngadain penelitian buat ngeliat adaptasi pembelajaran onlin siswa dan mahasiswa nih ada yang bisa bantu aku dan bersedia share dan ngisi link gform nya tida', 'situasi pandemi covid dgn pembelajaran onlin mestinya disikapi oleh kemen ristek dikti dgn memberikan subsidi utk ukt mahasiswa amp gaji honorarium pengajar amp pengelola kampu minta subsidi itu dr sebagian realokasi apbn yg mencapai rp jangan utk banso prakerja semua', 'pemerintah tengah menyusun protokol penerapan new normal di tengah pandemi covid termasuk sekolah fsgi minta pembelajaran onlin diperpanjang hingga kondisi membaik sebab khawatir sekolah amp madrasah mnjadi kluster terbaru penyebaran covid covid newnormalsekolah http co r jqt tauq', 'kami sedang melakukan penelitian mengenai pembelajaran berbasi onlin yang sedang berlangsung saat ini terkait terjadinya pandemi covid maka dari itu kami memerlukan pendapat serta penilaian dari kalian semua yang nantinya akan menjadi bahan penelitian kami kali ini', 'permasalahan ini juga diperparah dengan pandemi covid ini yang mengharuskan mahasiswa nya melakukan pembelajaran jarak jauh kuliah onlin guna memutu rantai penyebaran covid', 'diskusi nusantara pembelajaran onlin di masa pandemi covid http co yfygkxetd', 'pandemi covid memberikan dampak langsung terhdp pembangunan di indonesia tak terkecuali pembangunan sdm kelautan amp perikanan untuk itu kkpgoid meluncurkan terobosan baru sebuah sistem pembelajaran dare onlin electron milleni learn e milea pelatihanasn http co qr njkx gc', 'di tengah pandemi covid jogja smart indotama menawarkan program onlin train sebagai altern pembelajaran yang dapat digunakan untuk meningkatkan kompetensi sumber daya manusia sdm perusahaan tanpa haru http co scjsiefddm', 'selama pandemi covid pemerintah menutup sekolah dan meniadakan kegiatan belajar mengajar di kela meski begitu siswa tetap bisa belajar secara onlin dengan menggunakan aplikasi dan media pembelajaran onlin berikut lho http co deqqncpocx http co ghkeeenanc', 'talkshow onlin advokesma x somaliah kurang lebih sekitar bulan kita telah melaksanakan pembelajaran jarak jauh pjj sebagai bentuk adaptasi dalam menghadapi pandemi covid advocar departemensomaliah sosma bemfebu bemfebub kabinetsinektikasa http co cjw iu sh', 'aplikasi ujian onlin terbaik yang layak dicoba halo semuanya kembali sahretech pandemi covid memaksa kegiatan pembelajaran dilakukan secara onlin baik guru maupun dosen diharuskan untuk mampu menguasai aplikasi pembelajaran onlin http co p dlaigysd http co ctzjhtutc', 'dimasa pandemi covid babinsa koramil tampo sertu muriono mendampingi pembelajaran onlin dengan menggunakan hospot pribadi kepada siswa smp satu atap satu lasalepa sebanyak orang siswa didesa kombungo kec lasalepa kab muna http co cgjp bveo', 'andihiyat luckytribeid gw guru bang alhamdulillah tetap melaksanakan pembelajaran via onlin gw bareng siswa siswi bikin kampany sosial tentang cara kita menghadapi pandemi covid melalui media pantun sambil belajar sambil mengasah kepeduliah http co bdhttcwqri', 'kela onlin grati dr pp igtki pgri utk menambah pengetahuan keterampilan memotivasi guru tk dlm memberikan pembelajaran dimasa pandemi covid berlangsung mulai senin april rabu april pukul wib silahkan daftar melalui http co ducdg px http co ofelbaeaf', 'selama terjadinya pembelajaran onlin akibat pandemi covid tenaga pengajar guru atau dosen menghadapi berbagai keunikan yang muncul salah satunya adalah gener gap antara tenaga pengajar dengan peserta didik yuk cari tahu di link dibawah http co zkbxh derw http co pzi g gyr', 'menteri koordin bidang pembangunan manusia dan kebudayaan menko pmk menjelaskan bahwa di tengah pandemi covid metod pembelajaran yang semula tatap muka berganti menggunakan pembelajaran jarak jauh dare onlin learn http co lc ykein h', 'pandemi covid menyebabkan sekolah melaksanakan pembelajaran jarak jauh demi mencegah penyebaran menteri pendidikan amp kebudayaan mengatakan masih ada keluhan terkait pelaksanaan belajar secara dare onlin terutama kendala aks internet dan listrik http co kr vopx', 'prose pembelajaran dare atau onlin menjadi alternatif bagi lembaga pendidikan di tengah pandemi covid tak terkecuali di kota batu namun tak dipungkiri jika sampai saat ini masih ada saja persoalannya dalam http co fusxtylrc', 'penguatan pendidikan karakt melalui pembelajaran onlin di masa pandemi covid http co sub hwaa', 'nakula edu hadirkan pembelajaran onlin ditengah pandemi covid http co h jwl ad via rri co id', 'refleksi hardikna ditengah pandemi covid dina pendidikan sumenep ini pembelajaran bagi siswa ikuti protokol kesehatan memo onlin http co uenqag sb', 'di tengah pandemi covid sudah beberapa minggu atau bulan ini siswa haru belajar dari rumah pembelajaran onlin dare beberapa siswa dan orang tua banyak yang mengeluhkan karena kesulitan aks internet terutama yang di pelosok meski demikian pembelajaran haru berjalan http co tci w hla', 'belajar dari covid dalam kontek kegiatan belajar mengajar di masa pandemi saat ini kita dituntut untuk bisa beradaptasi dengan pembelajaran onlin sebagai metod pengajaran http co bep jejyua', 'donasi buku kepada smp n satap pedak alhamdulillah hima fisika berpartisipasi dalam berlangsungnya kegiatan pelatihan pembelajaran onlin melalui donasi buku untuk mendukung kegiatan belajar di rumah oleh ggd kab manggarai timur dalam masa pandemi covid semoga bermanfaat http co xucxn f', 'memperpanjang kembali waktu pembelajaran jarak jauh onlin bagi peserta didik sma smk mak dan slb mulai april mei selama pandemi covid dan ramadan kegiatan belajar mengajar sma smk dan slb di diy dilakukan secara jarak jauh onlin', 'menurunnya pemahaman pelajar pasca pembelajaran onlin di tengah pandemi penyebaran covid http co kxlxkpgid ngeblogdirumah', 'para guru tidak tetap gtt dan pegawai tidak tetap ptt di kabupaten mojokerto mengeluhkan beban biaya aks internet selama pembelajaran onlin saat pandemi covid bayaran we ndek ngisor umr sek http co wxejwgrc', 'selama pandemi covid siswa smk ti bali global badung aktif melakukan belajardirumah dengan menerapkan pembelajaran dare onlin di rumah mase mase dengan adanya teknolog informasi belajar selama http co lkvmhldpie', 'kalimantanpost kreativita guru kunci suks pembelajaran onlin saat pandemi covid http co bxskzpbgrb', 'semua lembaga pendidikan menerapkan sistem pembelajaran onlin selama masa pandemi covid meski begitu tidak ada pengurangan pembayaran biaya spp di sekolah swasta http co ztmblebvm', 'pandemi covid merevolusi cara pandang baru terhadap semua sendi kehidupan pembelajaran berbasi onlin perdagangan berbasi onlin par excel higienita tubuh dan lingkungan silaturahmi berbasi onlin rapat berbasi onlin dan lain sebagainya', 'komision kpai komisi perlindungan anak indonesia retno listyawati mengatakan ada pengaduan selama tiga pekan pembelajaran jarak jauh pjj atau belajar onlin dare selama pandemi covid http co easbkn', 'selama masa darurat pandemi covid hal ini merupakan aspirasi mahasiswa universita riau yang disampaikan melalui bem unri kepada pimpinan universita riau agar adanya sop panduan kuliah onlin serta platform utama sebagai acuan pembelajaran jarak jauh pjj', 'jurnal penel saya ini bisa dijadikan referensi untuk pembelajaran onlin di masa pandemi covid gt http co zxzxjvac', 'rapat pimpinan unud berlangsung secara onlin melalui cisco webex dipimpin oleh rektor prof raka sudewi membaha evaluasi sistem pembelajaran onlin dan dampak pandemi covid serta beberapa agenda lainnya http co dnpkobksex', 'selama pembelajaran berbasi onlin smk pariwisata dalung telah menggunakan berbagai macam aplikasi ini dilakukan ditengah situasi pandemi covid yang mengharuskan siswa untuk belajar di rumah secara http co ihoqwdh w', 'kuliah onlin hello industri engin sehubungan dengan adanya perubahan sistem pembelajaran menjadi perkuliahan dare selama pandemi covid maka yang perlu disiapkan untuk pelaksanaan kuliah dare yaitu kuota internet wifi http co tiugmr ywv http co hlqwpsqiun', 'pembelajaran onlin di tengah pandemi covid tantangan yang mendewasakan time indonesia http co pkrcpfyph', 'kementerian pendidikan dan kebudayaan meminta kepada guru agar pembelajaran dalam jaringan dare atau onlin yang dilakukan selama pandemi covid jangan dipersulit validnew http co lux ioojn', 'dengan adanya pandemi covid kampu iain tulungagung memilih jalur alternatif pembelajaran dare onlin keefektifan pembelajaran dare menjadi persoalan bagi beberapa dosen dan mahasiswa seperti banyaknya http co az dhe qwt', 'secara onlin dengan platform diatur oleh fakulta mase mase namun akan dievaluasi mengikuti perkembangan wabah pandemi corona viru diseas covid perlu disusun pedoman dan peraturan tentang pembelajaran jarak jauh pjj melalui sistem dare di universita riau', 'stoptunggangicorona mungkin adanya pandemi covid ini sebagai jawaban bagi seorang yang ngeyel bahwa pembelajaran onlin itu sangat efektif dan efisien modyar koee', 'pandemi corona covid di indonesia membuat banyak sekolah melakukan kbm secara onlin kemendikbud mengatakan telah melakukan kerja sama dalam penyelenggaraan pembelajaran secara onlin dengan berbagai pihak kemendikbud http co xg we f', 'wakil gubernur dki jakarta arizapatria mempersilakan siswa untuk memilih belajar dari rumah apabila khawatir terpapar covid terlebih lagi saat ini sudah ada kasu covid varian omicron yang dinilai jauh lebih cepat penularannya http co xpxtvqwha', 'belajar dari kasu banjir dan covid di malaysia secara infrastructur mereka memang lebih dulu membangun bahkan lebih modern jadi rumah untuk bangunan tertinggi terbanyak di dunia namun kalau tidak diimbangi dengan basic infra serta pemerintah yg tangguh maka kasihan rakyat', 'pandemi covid rupanya memberikan berkah bagi importir laptop kebijakan bekerja dan belajar dari rumah membuat impor alat kerja tersebut melonjak tajam sebuah uta hanyalokadata http co oxmzxwtufj', 'dua hari lalu pa momen hari anak berhasil membujuk adik adik ini untuk vaksin covid di posko solidarita psi yang berlokasi di smk strada bersiap agar bisa masuk sekolah ke sekolah gak belajar dari rumah aja yuk ajak anak anak vaksin di posko psi jakarta http co wgfq acqyi', 'kebijakan belajar dari rumah selama masa pandemi covid membuat kegiatan belajar mengajar dilakukan secara onlin sehingga intensita anak dalam mengaks gawai dan internet meningkat pesat http co gylffum yn', 'selamat hari pendidikan nasion reonit tetap semangat belajar bagi kamu semua yang saat ini haru menjalani kegiatan belajar mengajar dari rumah karena pandemi covid ini haripendidikannasion http co qzzmpogcv', 'belajar dari rumah saja cegah covid polsekpekutatanbersinar cegahcovid http co wmrnugrk r', 'patrick bamford mendonasikan uang sebesar atau sekitar juta rupiah kepada beeston primari school nantinya donasi dari bamford akan digunakan untuk memb ipad dan dipinjamkan kepada murid yang kesulitan belajar di rumah karena covid http co qsgligxnul', 'belajar dari rumah bisa memutu rantai penyebaran covid semangat belajar diktimengajardarirumah diktidutaedukasiperubahanperilaku http co iztch grki', 'belajar dari rumah selama masa covid memberi banyak pengalaman yg indah diktimengajardarirumah diktidutaedukasiperubahanperilaku http co zhmqwnmqrk', 'anjuran untuk bekerja dan belajar dari rumah di tengah pandemi covid mengajak kita untuk kreatif dalam mencari kegiatan yang produktif dan menyenangkan berikut kegiatan produktif yang bisa dilakukan dirumahaja magang internship thinktank wfh http co zrhn eyva', 'masa belajar dari rumah bdr akibat trend kenaikan angka kasu covid di lotim diperpanjang sampai tanggal agustu bupati meminta guru lebih rajin memberi bimbingan pembelajaran ke rumah siswa http co cprruo frd', 'hari ini kembali beraktifita lagi bersekolah sebelumnya saya belajar dari rumah karena ada klaster covid di sekolah semoga dengan lonjakan kasu covid bisa melakukan evaluasi lebih tega lagi apalagi kasu di kota saya tembu rekor selamat beraktifita fn http co gttqtunngc', 'sejak perintah kawalan pergerakan pkp dikuatkuasakan akibat pandemik covid hampir setahun yang lalu anak anak telah membiasakan diri belajar dari rumah guru guru mengajar memberi latihan dan nota ata talian http co xgc ep', 'seir dengan teru menurunnya kasu covid pemerintah memutuskan untuk membuka kembali pembelajaran tata muka tentunya dengan pembatasan dan terapkan protokol kesehatan ptm sangat baik untuk menumbuhkan karakt anak yg slama ini hanya belajar dari rumah http co jjgulki bl', 'share care kondisi indonesia akibat pandemi covid masih belum pulih menjalani home learn atau belajar dari rumah selama masa pandemi covid menjadikan anak anak sere menggunakan gadget untuk mendukung sistem belajar yang baru http co mvdsiqbp', 'sahabatpmk guna mendukung belajar dari rumah selama masa pandemi covid kemdikbud ri memiliki sejumlah modul pembelajaran yang bisa diunduh secara grati lho seperti emodul sma yang bisa sahabatpmk aks melalui laman http co lek riooo kemenkopmk merdekabelajar http co fhluk', 'selamat hari anak nasion untuk seluruh anak hebat di indonesia lebih dari juta anak indonesia merasakan dampak pandemi covid mereka tidak beba bermain dan sebagian haru belajar dari rumah bersama kita lindungi dan berikan cinta kasih pada anak mncnetwork http co lebu syaz', 'sobatvokasi kegiatan belajar dari rumah karena pandemi covid saat ini memang sangat berbeda dengan pertemuan belajar tatap muka amp tentu perlu adaptasi tapi ternyata belajar dari rumah memberikan segudang manfaat loh beritavokasi vokasiuntuknegeri http co clmnwhjdsp', 'senang sekali bisa mendampingi adek adek belajar walau belajar dari rumah dikarenakan adanya pademi covid antusia adek adek yang penuh semangat untuk belajar diktimengajardarirumah diktidutaedukasiperubahanperilaku http co qv pww bde', 'pada kesempatan ini saya sangat senang katena saya bisa membagikan ilmu yang saya dapatkan bagi keluarga saya apa lagi saat ini anak didik belajar dari rumah selama covid diktimengajardarirumah diktidutaedukasiperubahanperilaku http co x nysqht', 'senang sekali bisa membantu adik adik belajar dari rumah walaupun dalam kondisi covid saat ini tetap semangat belajar dan ingat pesan ibu diktimengajardarirumah diktidutaedukasiperubahanperilaku http co uuttbaj ur', 'belajar dari rumah selama masa pandemi covid ini memberikan ppengalaman baru dan mendampingi mereka selama belajar di rumah diktimengajardarirumah diktidutaedukasiperubahanperilaku http co qdogvk gsm', 'sudah bulan berlalu sejak para murid rumah belajar ycab belajar jarak jauh dari rumah karena adanya pandemi covid faozan adalah salah satu murid rumah belajar penyandang disabilita yang kurang beruntung dalam hal ekonomi http co rknbgnxhyj', 'melalui program ini saya bisa mengabdi untuk negeri terutama dalam bidang pendidikan dengan program belajar dari rumah ditengah wabah covid selalu tarapkan mencuci tangan memakai masker menjaga jarak diktimengajardarirumah diktidutaedukasiperubahanperilaku http co umcotcm', 'pandemi covid mengharuskan anak anak untuk belajar dari rumah guna memutu penyebaran viru corona sebagai seorang pemuda pemudi yang memberikan kontribusi kepada negeri saya memutuskan untuk mengikuti program mdr diktimengajardarirumah diktidutaedukasiperubahanperilaku http co e qd aifq', 'assalamu alaikum teman labschool memfasilitasi peningkatan mutu pendidikan di sekolah dasar khususnya pelaksanaan belajar dari rumah bdr pada masa pandemi covid direktorat sekolah dasar menyusun naskah praktik baik pelaksanaan belajar dari rumah http co j nojqiqtw', 'bismillah prose masa pengenalan lingkungan sekolah mpl sma smk di seluruh jawa timur dimulai hari ini senin karena masih dalam situasi pandemi covid maka mpl dilakukan secara virtual atau belajar dari rumah bdr http co cnfex v', 'china menghadapi situasi yang sangat sulit negara tersebut kembali mengalami peningkatan jumlah kasu covid di sejumlah kota pemerintah china kembali wajibkan warganya untuk melakukan te swab dan pelajar di china wajib belajar dari rumah melalui onlin', 'kasu covid di china kembali mengalami peningkatan kasu akibatnya pemerintah china tetap mempertahankan kebijakan nol covid di negaranya kabar terbaru menyebutkan china tutup semua sekolah dan kampu semua pelajar di china wajib belajar onlin dari rumah', 'kasu harian covid di ibukota beij kembali mengalami peningkatan kasu pemerintah kota beij desak warganya untuk kembali bekerja dan belajar dari rumah china kembali melakukan penutupan ibukota beij setelah adanya peningkatan kasu covid di beij', 'sejumlah siswa di beij china kembali belajar dare dari rumah sebab sekolah ditutup menyusul naiknya kasu covid tempodunia http co bsrf jbua', 'tbm ronaa luncurkan rumit rumpi literasi layanan siniar literasi masyarakat rumit rumpi literasi siniar podcast literasi sebagai bentuk inovasi dan bagian dari program layanan belajar dan informasi dari rumah di masa pasca pandemi pandemi covid http co jbi ydkwd', 'paud merupakan langkah awal yang pent bagi anak untuk mempersiapkannya memasuki dunia pendidikan orang tua pun perlu terlibat penuh dalam setiap prosesnya terutama ketika anak haru belajar dari rumah karena kondisi pandemi covid http co ucqnmpr v', 'penurunan mutu pendidikan pada saat pandemi covid karena banyak peserta didik tenaga kependidikan tenaga pendidik melaksanakan belajar dari rumah yang mana prose pembimbingan oleh guru menjadi kurang optim http co bitcuf bn', 'bayangin nih hell gw masih punya adek sd kemaren pa covid sekolah adek gw kan belajar dari rumah mau nggak mau gw haru bantu bantu deh ngajarin', 'di masa pandemi covid siaran radio juga digunakan sebagai salah satu sarana pembelajaran saat peserta didik haru belajar dari rumah bersama sama dengan berbagai platform digit yang sedang marak', 'salah satu impact pandemi covid yang pale berpengaruh di aku adalah mengharuskan belajar dari rumah apagunadigit onlineuntukapa http co neq dy qlw', 'pandemi covid ga selamanya berdampak negatif salah satu dampak positifnya adalah munculnya inovasi untuk belajar dari rumah lewat berbagai aplikasi seperti zoom dan googl meet apagunadigit onlineuntukapa http co ccyejevub', 'pada waktu masa wabah cobid olah raga cukup dilaksanakan di lingkungan sekolah jika ada kejadian akibat wabah covid maka olah raga dilaksanakan melalui dare siswa belajar dari rumah untuk menunggu wabah reda kembali agar dapat dikerjakan di sekolah lagi sebagai ptm', 'hari ini anak saya murid sd diberlakukan lagi bdr belajar dari rumah karena kasu covid naik lagi dia kehilangan semangat belajar karena yang biasanya interaksi dengan teman lalu mendadak sendiri', 'ssinfo murid sd di singapura kembali belajar dari rumah selama hari mulai akibat lonjakan kasu covid per jumat kasu positif di singapura mencapai kasu atau rekor tertinggi sejak april tahun lalu antara odp', 'jika orang tua murid belum mau anaknya mengikuti ptm terbata maka sekolah haru menyiapkan hybrid sebagian belajar tatap muka di sekolah sebagian dare dari rumah semoga pandemi covid segera tertangani semua aktivita berjalan normal peran dpr dpruntuknegeri', 'sudah masuk tahun ke belajar dari rumah pelajaran tunggang langgang yang ambil spm pun tak tahu jawab apa budak darjah tak reti membaca semua sebab kerajaangag uruskan covid tapi ahli parlimen kerajaan pula hantar anak sekolah luar negara kasihan rakyat', 'saya ke luar negera untuk daftar anak masuk sekolah ikut protokol nazri http co b cv gvpi', 'tujuan utama bantuan kuota kemendikbud ini adalah agar menunjang pelaksanaan belajar dari rumah dimasa pandemi covid ini http co mzvholcx', 'ternyata hasil survei menunjukkan mayorita psikolog siswa normal selama prose belajar dari rumah karena pandemi covid psikologianak pendidikananak sekolahindonesia semangatsekolah sekolahonlin trainingsekolah trainingguru parentingindonesia parentingtip http co zb grtwrgm', 'belajar dari rumah sangat strategi di lakukan di tengah pendemi covid untuk menghindari dan mencegah penularan covid dan orang tua murid sangat bangga dengan adanya belajar dari rumah diktimengajardarirumah diktidutaedukasiperubahanperilaku http co ilorxyd', 'buat adik adik tetap semangat meskipun belajar dari rumah dan terhalang oleh covid jangan pernah merasa bosan karena belajar itu pent diktimengajardarirumah diktidutaedukasiperubahanperilaku http co lfmzvhfq', 'pembelajaran tatap muka hari pertama dilaksanakan di kota pekanbaru setelah delapan bulan belajar dari rumah akibat pandemi covid siswa yang diizinkan kembali ke sekolah hanya siswa kela beritapku http co izxfnbgkxj', 'tip belajar dari rumah di masa pandemi covid halo salam sehat sekarang ini masih banyak teman teman yang belajarnya masih dari rumah selama masa pandemi covid ini nah berikut beberapa tip belajar dari rumah di masa pandemi covid http co dmm efc', 'selain itu presiden dan ibu negara juga mengajak anak indonesia untuk tetap semangat belajar dari rumah dan berdoa agar pandemi covid ini dapat segera berlalu sehingga anak anak indonesia dapat kembali berkumpul bersama guru dan teman nya di sekolah harianaknasion http co zhzbtoxhk', 'satga imbau siswa bergejala covid belajar dari rumah http co bbodw ro', 'detikcom detik jabar dengan kasu ini dan kasu kasu pembullyan lainnya ko bisa ya ni negara masi ngurusin covid gjl yg variannya makin kesini makin kesana kek nama nama zodiak abi itu anak anak sekolah suru pada belajar dirumah gak mikir ya ini semua juga impact dari belajar di rumah', 'tau sendiri kan pandemi tahun kemarin damagenya gede banget ga cuma tentang banyak orang tua yg kehilangan pekerjaan jualan sepi kantor pada wfh atau banyak orang yg terpapar covid sekolah pada diliburin yang artinya belajar dari rumah membatasi ruang gerak anak', 'setelah hampir tahun belajar dari rumah anak gw excit skrg udah offlin school gak taunya ada kasu covid lagi di sekolahan', 'walikota beij batal membuka kembali kegiatan belajar mengajar secara tatap muka di beij setelah adanya laporan tentang kenaikan kasu harian covid di ibukota china tersebut pelajar dan mahasiswa masih haru belajar dari rumah secara onlin di rumahnya', 'mau cerita dulu semenjak awal covid naik teru belajar dari rumah pola tidur gue mulai berantakan banget gue bisa baru tidur jam bahkan jam subuh setiap harinya', 'pandemi covid yang menimpa negara negara di seluruh dunia tentu membawa perubahan situasi dan kebiasaan awalnya masyarakat perlu membiasakan diri untuk bekerja dan belajar dari rumah dan melakukan komunikasi secara onlin http co cmhmbdg', 'india kembali mewajibkan warganya untuk memakai masker selama mereka bekerja di kantor atau tempat pekerjaan mereka para pelajar dan mahasiswa di india di wajibkan belajar dari rumah india kembali mengalami peningkatan jumlah kasu baru covid varian omicron ba', 'pantaugambut dulu saya sudah belajar dari rumah dan pakai masker sebelum covid wkwkw', 'deteksi kasu covid siswa di korut belajar dari rumah http co b pcrpauvl', 'collegemenfess engga sih kampusku dari sebelum covid udh nerapin ini pertemuan offlin pertemuan onlin waktu onlin sudah dikasih jela kapan mahasiswa ga perlu ke kela cukup belajar dari rumah jauh bagi mahasiswa kami ini worth karena bisa kuliah sambil nyantai', 'selamat hari pendidikan nasion pandemi covid mengajarkan kita untuk teru belajar dan menyesuaikan diri seperti kutipan dari ki hajar dewantara setiap orang menjadi guru setiap rumah menjadi sekolah mari tetap semangat dan giat belajar sahabat jec http co kergytkooz', 'wakil gubernur dki jakarta ahmad riza patria membolehkan siswa di wilayah ibukota untuk belajar dari rumah jika khawatir tertular covid megapolitan http co wmxgolnf', 'pemkot bandung menghentikan sementara ptm di sejumlah sekolah menyusul temuan kasu covid wah teman teman di bandung kembali belajar dari rumah lagi ya http co mvzczzff c', 'sudah hampir dua tahun kegiatan belajar mengajar formal tak lagi dilakukan secara tatap muka pandemi covid memaksa siswa belajar dari rumah saja elif http co e sgeqiw p', 'bantuan subsidi kuota internet diperpanjang seir dengan lonjakan kasu covid yang membuat pemerintah mengambil langkah ppkm darurat kebijakan ini mebuat kegiatan belajar dan mengajar kembali dilakukan dari rumah', 'asik pemerintah perpanjang subsidi kuota internet belajar hingga akhir http co idkjnrlzr http co sviecqevl', 'start today littl famili pkp kendiri week not sure yet mayb till covid case reduc bit aku amp wife kerja dari rumah dani belajar dari rumah eventho still boleh hantar g school decid not asytar pon kitorg x hantar ke babysitt', 'dengan adanya program mdr ini sangat membantu para peserta didik belajar dari rumah ditengah pandemi covid diktimengajardarirumah diktidutaedukasiperubahanperilaku http co p ejybdc', 'dengan adanya covid aktivita dirumah belajar dari rumah jangan lupa selalu berdoa agar covid segera hilang stay safeti diktimengajardarirumah diktidutaedukasiperubahanperilaku http co tsjnxlmpda', 'pengalaman baru mengajar dari rumah dengan mdr murid bisa belajar di pandemi covid ini walaupun dari rumah tetapi bisa membantu murid tetap bisa belajar diktimengajardarirumah diktidutaedukasiperubahanperilaku http co sabisyf', 'selamat memperingati hari guru nasion tahun ini prose belajar mengajar dilakukan secara dare belajar dari rumah untuk mencegah penularan covid namun kendala itu tidak menyurutkan semangat para guru untuk tetap memberikan transfer ilmu kepada murid muridnya http co knxm wuf', 'kolega dosen dari dept epidemiolog fkmunair aktif mengajar dari rumah sangat dicintai mahasiswa nya mengajar dengan sabar dan jela dg contoh wabah covid wabah telah menjadi contoh nyata agar semua bisa belajar data nyata bantu meningkatkan pemahaman ilmu yg komplek http co tqggzxcrz', 'selain mata lelah nyeri di leher dan di pinggang juga banyak dikeluhkan selama bekerja dan belajar dari rumah akibat pandemi covid kerja di rumah tentu berbeda dengan di kantor tak ada kursi kerja yang empuk dan nyaman dan layar monitor berukuran besar seperti biasanya http co zvzx qx', 'di tengah situasi pandemi covid siswa haru menyesuaikan diri untuk belajar dari rumah yuk ikuti kisah berani berubah mobil wifi penyelamat siswa http co qzgenkcj beraniberubah perubahanperilaku http co yrabmpjpuw', 'permasalahan yang muncul selama belajar dari rumah di era covid ini perlu perhatian dari berbagai pihak agar dapat diatasi sehingga anak anak mendapatkan pendidikan secara utuh http co bivegz td', 'kebanggaan diri bukan karena materi tapi seberapa banyak bisa mengabdi najwa shihab pengabdian dapat dimulai dari hal hal sederhana seperti membantu anak anak sekolah dasar belajar dari rumah ditengah pandemi covid http co rextsiweqa', 'dalam mendukung program belajar dari rumah di masa pandemi covid telkomsel mendukung adopsi literasi digit melalui bantuan kuota terjangkau http co yxt tg el', 'anak anak turut merasakan dampak dari pandemi covid kita haru jaga mereka tetap semangat belajar bermain dan berkreatifita dari rumah serta ajak mereka disiplin pakai masker cuci tangan jaga jarak dan hindari kerumunan anak terlindungi indonesia maju bungjubir http co kixxsbiaz', 'lebih juta anak indonesia merasakan dampak pandemi covid mereka tak beba bermain bersama kawan sebaya dan sebagian haru belajar dari rumah mereka haru terlindungi di pundak anak anak ini terpanggul harapan akan indonesia maju selamat hari anak nasion http co zhnyi tsow', 'tidak mudah menjalankan pendidikan belajar di rumah di daerah terdepan terluar dan tertingg bantu kami memberikan buku pelajaran amp alat tuli serta radio transistor untuk menjangkau anak anak di daerah yang sulit belajar dari rumah karena pandemi covid http co kbza hqcw', 'china tutup semua sekolah dan wajibkan jutaan pelajar di negara tersebut kembali belajar dari rumah melalui onlin china umumkan adanya kasu baru covid varian omicron di negaranya semua penerbangan dari dan ke china hongkong china dan macau china di tutup total', 'megat sharezman actual know peopl yg takda laptop time studi kat uni dia surviv sebab boleh guna pc kat librari pinjam laptop kawan kalau sebab covid kena belajar dari rumah mmg susah la', 'kerja dari ofi sebab rumah tempat rehat dari uni lagi aku punya mindset rumah tempat rehat aku tak pernah buat esaimen kat rumah sepanjang belajar sebelum covid sekarang kerja rumah adalah tempat untuk tenang dan berehat', 'syamilidri hahaha takyah laa covid ni sampai bila mel kita kena ada alternatif lain cth belajar dari rumah belajar benda onlin hahh gitu je', 'apa yg aku belajar dari viru covid ni adalah sekuat mana pun antibodi kau hebat mana pun badan kau pernah jadi close contact byk kali pun still neg jaga sop pun tak keluar rumah pun end tewa juga akhirnya march check http co zzehm pfih', 'bulan ni stretch sikit mama kene covid last saturday harini ayah pulak dapat covid dari kawasan rumah kat pantai allahuakhbar kene belajar redha dengan ujian ni', 'jumlah kasu covid di sabu raijua naik siswa kembali belajar dari rumah http co srmvdcqyhl', 'pandemi covid mempengaruhi seluruh aspek kehidupan tak terkecuali aspek pendidikan dampak dari pandemi covid pada aspek pendidikan adalah mengharuskan kegiatan belajar mengajar tetap berjalan meskipun peserta didik berada di rumah', 'payungbunga pjj kak alia belajar dari rumah alia onlin kan masih covid ptm terbata', 'tanyakanrl waktu itu mang ujang masih jadi siswa sma wkwkwk singkat cerita gara gara covid sekolah diliburkan alhasil haru belajar dari rumah awalnya mikir sih santai aja karena cuman minggu jadi kosan aman lah ya ditinggalin cuman minggu doang eh semakin kesini semakin cont', 'bagi satuan pendidikan yang warga belajarnya sudah terpapar covid diberlakukan belajar dari rumah bdr minim hari publisherstori http co lhwbthpn', 'covid di anamba melonjak siswa di kecamatan terapkan belajar dari rumah http co csdzf j n', 'idlecatz rizkidwika bener gw banyak belajar dari dia waktu seumuran dia gw masih hura hura bayangin dalam tahun itu dia nabung juga buat nikah tadinya cukup di kua aja covid tapi mertuanya minta bikin hajatan di rumah salut ase', 'belajar dari rumah diterapkan di jayawijaya bila covid tak turun http co sqxna oc q', 'kebijakan belajar dari rumah bekerja dari rumah dan ibadah di rumah perlu teru digencarkan untuk mengurangi pengurangan penyebaran covid ujar jokowi prayfromhom dari rumah untuk indonesia http co n n njhf', 'cempl k ya sbg orang tua kita haru berpikir positif bhw dgn kebijakan tsb negara memproteksi anak dr penularan covid memang ada sisi negatifnya anak belajar dari rumah perlu perhatian ekstra orangtua dilemati memang', 'covid memaksa juta pelajar indonesia belajar dari rumah di tengah kesenjangan digit kesejahteraan anak muda juga kian terancam dalam sistem perlindungan sosial yang timpang simak kila balik setahun pandemi di dunia pendidikan dan anak muda http co eruwuggkbx', 'covid angka merangkak naik masmen siswa sekolah dan kampu belajar dari rumah ya kemenko pmk bapak presiden memberikan arahan agar mulai dibuka prose kegiatan belajar mengajar di sekolah dengan pertimbangan pertimbangan tertentu buzzerp bulli amp olok olok masmen', 'program dan jadwal belajar dari rumah tvri telah tersedia untuk kami pandemi covid bukan halangan untuk belajar dan meningkatkan kompetensi http co zqjwntwkkr', 'adik aku tahun ni ada form amp form kesian diorang puny zaman sekolah menengah belajar dari rumah je semoga covid ni cepat la hilang ya allah aamiin', 'belajar dari rumah selama pandemi covid sebagian besar dari mereka diciptakan untuk menjadi seorang jeniu dan sebagiannya lagi menjadi mala kalau dikatakan bodoh sepertinya tiidak karna mereka hanya mala mala untuk berfikir menerima masukan dan mala untuk belajar', 'belajar dari rumah selama pandemi covid beberapa dari mereka diciptakan menjadi jeniu sebagiannya lagi mala kalau untuk dikatakan bodoh sepertinya tidak mungkin mereka hanya mala mala untuk berfikir mala untuk menerima masukan', 'pemprov dki memutuskan untuk tetap menerapkan belajar dari rumah untuk siswa sekolah soalnya pandemi covid belum aman dan sekolah masih haru ditutup pembelajaranjarakjauh http co hy dxbifqg', 'assalamualaikum wr wb hai saya farina naswa dari kela xi mia saya bersekolah di man demak kali ini saya akan berbagi sedikit pengalaman belajar dari rumah karena masa pandemi covid sekolah menerapkan sistem belajar dari rumah atau belajar onlin', 'setelah belajar dari rumah karena covid', 'hal ini untuk mendukung kegiatan belajar dari rumah bdr akibat pandemi covid publisherstori http co cg kketj', 'sebanyak juta siswa terpaksa belajar dari rumah akibat pandemi covid http co zjmxbjgmxw', 'thread wawasan dan keprihatinan pemandangan semacam ini sudah sere terlihat sebelum adanya belajar dari rumah bdr di masa pandemi covid ini keluh kesah pun tak seramai saat ini hanya beberapa pemerhati anak atau lembaga yang peduli kepada anak saja yang menyoroti http co mhdu vjmu', 'pembelajaran jarak jauh di tahun ajaran baru kembali digelar secara dare imba dari pandemi covid meski baru berjalan dalam hitungan minggu banyak orang tua murid yang mulai pasang bendera putih karena kesulitan mendampingi anak belajar di rumah http co ns oyeyjew http co p llwmverb', 'welcom danc dari salah satu muridku saat home visit untuk sosialisasi kegiatan belajar dari rumah selama pandemi covid karena speech delay luapan rasanya rindunya pada bu guru dan sekolah tumpah lewat tarian http co zy ytu az', 'webinar pp pemuda katolik gubernur jateng ganjarpranowo menyebut istilah politik kuota untuk mewujudkan keadilan digit dan keadilan di era digit kuota internet untuk siswa siswi yang belajar dari rumah karena pandemi covid dianggarkan dalam apbd http co weackagvnm', 'telah terbit majalah sma edisi tahun bertema belajar dari rumah pandemi covid mengubah byk hal termasuk dunia pendidikan demi keselamatan prose belajar mengajar dilakukan secara dare majalah dapat diunduh pada http co quxuu lh p atau http co fvtozneyaw http co uxbz wgq', 'kementerian pendidikan dan kebudayaan menerbitkan surat edaran nomor tahun tentang pedoman penyelenggaraan belajar dari rumah selama masa darurat penyebaran covid http co xs vb byzo http co f dcum ad', 'kasu covid teru meningkat pelajar kembali belajar dari rumah pemprov kaltim siap aktifkan lokasi isot http co spfbfb f', 'nake aja bisa terpapar covid walaupun udh divaksin ke tetapi masih aja menteri ini ngotot siswa dan santri untuk belajar di sekolah saya berharap pemerintah untuk menghentikan pergerakan siswa dengan belajar dari rumah ini bukan masalah pendidikan tapi nyawa', 'jumlah kasu covid di kota tasikmalaya teru meningkat drasti sejak awal januari sampai sekarang terbaru sebanyak tenaga kesehatan nake terpapar covid region http co cyrfydg', 'kompastv turun krn covid kalie org kantoran wfh siswa dn mahasiswa belajar dari rumah wkwkwk', 'covid kembali meningkat anak anak isi waktu dengan belajar desain grafi dari rumah http co h x qz ljx', 'guru terpapar covid siswa belajar dari rumah http co elkhubidsj', 'wakil gubernur dki jakarta akhirnya memutuskan untuk tetap melanjutkan pelaksanaan ptm terbata di dki jakarta dengan jumlah siswa yang boleh masuk dan sudah melakukan vaksinasi covid waktu jam belajar maksim jam selebihnya belajar dari rumah melalui onlin', 'walikota solo gibran rakabum resmi menghentikan sementara pelaksanaan ptm terbata di kota solo mulai senin februari atau hari ini semua pelajar di kota solo kembali belajar dari rumah melalui media onlin ptm terbata di hentikan karena lonjakan kasu covid', 'mulai besok semua pelajar dari tk hingga sma belajar di rumah menyusul kenaikan kasu covid di solo http co emxwh wwr', 'bupati sleman yogyakarta di kabarkan langsung menghentikan sementara waktu pelaksanaan ptm terbata di daerahnya setelah adanya laporan tentang adanya klaster penularan baru covid di sekolah di kabupaten sleman para pelajar di sleman kembali belajar dari rumah secara onlin', 'lonjakan covid sekolah negeri di cimahi kembali belajar dari rumah alonesia http co w duue ejc', 'honest dah masuk umur ni pun penat dah nak keluar setiap hari dah pua keluar dari siang subuh baru balik hostel pua dah melepak huha huha bila covid datang baru belajar duduk rumah baru tahu rasa tenang alon home', 'satu siswa dan dua guru terpapar covid belajar mengajar kembali dari rumah http co ahlr latho', 'walikota solo gibran rakabum mengkaji untuk kembali mewajibkan pelajar di kota solo untuk kembali belajar dari rumah secara onlin setelah banyaknya kasu baru covid di tengah pelaksanaan ptm terbata di kota solo terakhir terjadi penularan covid di sma di solo', 'walikota semarang resmi menghentikan sementara waktu pelaksanaan ptm terbata di kota semarang mulai senin pekan depan setelah tingginya kasu covid di tengah pelaksanaan ptm terbata di kota semarang walikota semarang menegaskan bahwa pelajar belajar dari rumah', 'walikota solo gibran rakabum menutup sementara waktu sekolah menengah ata di kota solo setelah adanya laporan tentang adanya klaster penularan baru covid di tengah pelaksanaan ptm terbata di tingkat sma di kota solo pelajarnya belajar dari rumah melalui onlin', 'kasu harian covid di kota semarang kembali melonjak membuat walikota semarang memutuskan untuk menghentikan sementara waktu pelaksanaan ptm terbata di wilayahnya pembelajaran tatap muka di ganti dengan belajar dari rumah melalui media onlin tega walikota semarang', 'orang positif covid seluruh siswa sma negeri selat belajar dari rumah http co x v xfnev', 'sekolah yang muridnya terkonfirmasi positif covid tak ditutup semua siswa belajar dari rumah http co agrida mfo', 'jiwa gotong royong telah berhasil melewati lonjakan kasu covid dua tahun terakhir belajar dari hal itu ditengah kondisi saat ini kecamatan pinang kembali gelar gotong royong dengan berbagi makanan siap saji ke rumah warga isoman selengkapnya di http co vinwrbjytm http co jadl sxwpf', 'kasu covid melonjak di tangerang pemerintah terapkan belajar dari rumah http co qsqlsfoh k megapolitan http co qsqlsfoh k covid covid http co dmqvdzctpg', 'mermaidsungai tahun terparah selama aku ngajar sekolah yaitu tahun yg mereka belajar dari rumah terdapat covid kl perkalian x aja gatau nangesss bgt', 'covid yang di pimpin oleh joko widodo menambah rumah sakit rujukan khusu covid membuat kebijakan belajar dari rumah bekerja dari rumah dan beribadah dari rumah mengkampanyekan pembatasan social untuk mencegah covid melakukan lockdown untuk daerah', 'singapura sekolah tutup belajar dari rumah mulai hb mei covid primari secondari school jc move full home base learn may http co xisvyqwyv', 'selamat pagi dalam psbb transisi ini pemerintah diajak untuk olahraga bekerja dan belajar dari rumah untuk menghindari covid jika terpaksa haru keluar rumah lakukan dan jangan berkerumun dengan orang lain untuk menghindari covid', 'selamat pagi hari ini mulai psbb transisi kembali mari biasakan diri kita untuk olahraga bekerja belajar dari rumah untuk menghindari covid jika terpaksa haru keluar rumah wajib untuk menghindari covid', 'pandemi mengubah cara hidup tiru kiat dampingi anak belajar dari rumah selama covid berikut ini http co ycodeq rc', 'tip belajar dari rumah di masa pandemi covid halo salam sehat sekarang ini masih banyak teman teman yang belajarnya masih dari rumah selama masa pandemi covid ini nah berikut beberapa tip belajar dari http co ayjjdfcupq', 'http co vhe x fg seorang guru sd di magelang suroto berinisiatif mendatangi siswa yang terkendala sinyal dan hp untuk belajar onlin dari rumah saat pandemi covid', 'potret kegiatan belajar dari rumah bdr selama pandemi covid http co evtt jv', 'mendikbud nadiem makarim meluncurkan podcast sandiwara sastra sebagai inovasi dari program belajar dari rumah pada masa pandemi covid yg bisa disimak mulai besok beberapa aktor terlibat dalam podcast tersebut seperti iqbaal ramadhan amp reza rahadian beritaterkinigenfm', 'selama kurang lebih tahun pandemi covid memaksa peserta didik menjalankan pembelajaran jarak jauh dari rumah secara dare rutinita belajar bermain dan bersosialisasi yang biasanya dilakukan di sekolah', 'lima sekolah di solo terkena kasu covid terpaksa belajar dari rumah lagi http co riugfmeut', 'mendikbud nadiem makarim permanenkan belajar dari rumah meski pandemi covid sudah berakhir http co nq xuovf via wartakotal matalokalmenjangkauindonesia', 'assalamualaikum semuanya guna mencegah penyebaran viru covid pemerintah telah mengeluarkan kebijakan physic distanc serta kebijakan bekerja belajar dan beribadah dari rumah', 'nadiem ungkap tantangan belajar dari rumah akibat pandemi covid http co hlfsczsnx indonesia', 'seorang siswa sma n selat dinyatakan positif covid satu kela kembali belajar dari rumah http co odrb b', 'lpa sepakat agar anak sekolah belajar dari rumah sampai covid berakhir http co mhhwm eixz', 'pemerintah aceh perpanjang kegiatan belajar dari rumah dalam masa tanggap darurat corona viru diseas covid di aceh hingga juni http co ubuvyjz xd', 'belajar dari rumah sebagai dampak pandemi covid tak berlangsung mulu di sejumlah wilayah nusantara sebagian pelajar di gunungkidul mesti naik turun bukit demi menjar sinyal nusantara adadikompa http co aw lglwwli', 'nadiem makarim ungkap hikmah positif belajar dari rumah saat pandemi covid http co lgshlxrxwb', 'bahwa dki jkt sdh banyak yg terpapar covid lagi saya sangat menghawatirkan utk anak sekolah mohon kiranya dpt belajar dari rumah kembali sampai situasi bisa aman terimakasih ata perhatiannya dkijakarta aniesbaswedan jokowi', 'yth nadiemmakarim disdik dki anak saya sekolah di smpn jaktim minggu lalu ada yg terpapar covid amp belajar dirmh hari dan skrg sdh ptm kembali kiranya mohon di kaji dan dipertimbangkan kembali agar dpt dare dari rumah yg mana kita tau dari berita dan data', 'sejak pandem covid melanda dunia kita telah terbiasa dengan norma baharu iaitu belajar dari rumah secara onlin sekarang sudah tiba waktunya untuk kembali ke sekolah dan memulakan chapter yang baru azam yang baru sempena tahun http co vb f envll', 'menteri koordin kemaritiman dan investasi luhut panjaitan memprediksi puncak gelombang ketiga covid di indonesia akan terjadi pada februari tahun ini jika itu terjadi maka semua warga haru kembali bekerja dari rumah beribadah secara onlin dan belajar dari rumah', 'ruangguru aku juga mau cerita sedikit tentang nilai rapot aku kali ini jadi nilai rapot aku kali ini tuh sedikit mengecewakan soalnya turun drasti karna selama covid ini aku susah bgt mau belajar dari rumah dan aku juga susah bgt buat memahami materi materi pelajarannya cont', 'salah satu hal yang gua syukuri dari adanya covid adalah adik gua bisa belajar di rumah setelah tahun belajar di rumah akhirnya akhir dari belajar di rumah itu datang besok adik gua mulai belajar tatap muka dan ketemu temen temen kelasnya lagi', 'dari pengalaman tahun lalu kasu covid di negara kita naik setelah libur nataru ya makanya belajar dari pengalaman sebaiknya liburan tahun ini kita di rumah aja lebih aman nyaman dan damai bekalbukankeb', 'defi ghost karena saya ga terlalu bisa bahasa inggri saya mau donasiin buat saudara saya yang anak yatim dia perempuan kela smp sekarang dia tidak punya hp jadi susah untuk belajar dari rumah karena covid yang mengharuskan belajar dari rumah', 'addien total focus sambung belajar dpt dean list setel tempoh penjawatan kerajaan beli rumah bawa mak jalan selesai bayar kereta last not least n hope sampai bila berjaya beba dari covid durjana wasnt bad alhamdulilah', 'diharuskan belajar dari rumah karena pandemi covid sejumlah pelajar di inhil terciduk satpol pp di warnet http co k gdyzmzi', 'awal covid dilarang masuk sekolah alia belajar dari rumah sekarag jadwal liburpun disuru masuk sekolah ya gitulah', 'kalau kamu ada adik perempuan dkt rumah yg tengah belajar univers belajar onlin dari rumah sbb covid would u expect cook clean expect everyon live hous hous chore regardless gender hous rule http co fkhmxd hd', 'belajar dari rumah merupakan pilihan tepat di masa pandemi covid seperti ini bagi orang tua yang menginginkan sistem belajar dari rumah bisa berjalan optim bisa menerapkan aturan aturan berikut waktunyalokadata medialawancovid sponsor http co uf evhiu', 'dengan adanya program ini saya sangat senang karena dapat membantu anak anak belajar dari rumah tetap semangat belajar dari rumah dimasa pandemi covid diktimengajardarirumah diktidutaedukasiperubahanperilaku http co gn f sbuyt', 'rt bp statist kondisi pandemi covid menuntut peserta didik mengikuti pembelajaran dari rumah secara dare sarana dan prasarana pendukung yang diperlukan untuk kelancaran prose belajar dare di antaranya adalah telepon selul komput dan http co jyznh pnsi', 'belajar secara dare dari rumah di masa pandemi covid menjungkirbalikkan keseharian anak anak berikut tip dari untuk membantu anak anak yang diharuskan sekolah dare melewati masa sulit ini jagajarak pakaimask cucitangan http co gueo kemi', 'kondisi pandemi covid menuntut peserta didik mengikuti pembelajaran dari rumah secara dare sarana dan prasarana pendukung yang diperlukan untuk kelancaran prose belajar dare di antaranya adalah telepon selul komput dan aks internet http co bqhrn ux', 'seperti diketahui pandemi covid memberikan dampak yang luar biasa hampir pada semua sektor salah satunya pendidikan akibatnya hampir seluruh peserta didik diharuskan belajar dari rumah secara onlin atau dare', 'berbagai masalah yang dihadapi siswa dan guru akibat covid sudah sekitar delapan bulan siswa menjalani belajar dari rumah karena sekolah haru ditutup untuk mencegah semakin menyebarnya viru corona atau covid namun belajar jarak jauh dari rumah http co nbr ojbh http co klqinrsrmk', 'tip bagi guru dampingi siswa agar belajar dari rumah bermakna sebagai fasilit belajar dari rumah saat pandemi covid guru punya peran pent guru haru mampu memberi pengalaman siswa belajar yang bermakna untuk siswa berikut tip dan panduan http co mcxvzhamof http co ovcxdfgslz', 'belajar dari rumah selama pandemi covid covid stayathomeandstaysaf http co obvg h v', 'para pelajar di sd inpr kolisia kec magepanda kab sikka ntt belajar tatap muka dgn guru di bawah pohon karena tidak ada aks internet untuk belajar dari rumah akibat larangan belajar pandemi covid http co lvfe v g winardhi anskan gregoriu hongkiy', 'siswa belum vaksin agar mengikuti belajar dari rumah bdr atau dare covid http co qhvcycd un', 'raja belanda wilhelm alexand meminta maaf kepada seluruh warga belanda yang haru kembali bekerja dan belajar dari rumah kasu harian covid di beka penjajah indonesia tersebut kembali mengalami peningkatan jumlah kasu dengan kasu kematian mencapai kasu', 'semua beraw dari covid semenjak covid bingung gimana caranya dapet uang dari rumah akhirnya mulai belajar ngulik saham dan crypto kurang lebih udah satu tahun mempelajari dua bidang investasi tersebut rasanya seperti mimpi pertama kali main crypto dengan dan sekarang http co l hrywunzk', 'buntut ditemukan kasu covid siswa smpn depok belajar dari rumah hingga novemb http co fphhwxixxx', 'dikarenakan adanya pandemi viru corona atau covid indonesia menerapkan sistem bekerja dari rumah belajar dari rumah dan beribadah dari rumah seluruh kegiatan dianjurkan untuk dilakukan di rumah saja karena viru ini dengan cepat dapat menginfeksi banyak orang dan dapat', 'cluster penyebaran viru covid sendiri bisa datang dari mana saja bisa dari orangtua sendiri orang lain di rumah tamu teman bahkan guru saat belajar ptm di sekolah rekomendasi vaksin anak pent agar vaksinlindungianak', 'karena pandemi covid semua hal haru dilakukan dari rumah maupun prose pembelajaran sejak belajar dare para murid merasakan kekurang efektifan dalam prose belajar mengajar termasuk saya', 'ya itu hari dimana bumi memberikan berita dukanya suatu viru yang menggemparkan dunia yang bernama covid yang sehingga mengharuskan semua pelajar di indonesia untuk belajar dari rumah', 'pandemi covid membuat sebagian besar masyarakat haru beraktivita dari rumah bai untuk urusan pekerjaan belajar hingga beribadah pada masa ini ternyata kulit berpotensi mengalami kerusakan http co uggbpsjk', 'savemoslem rahmargha tutup dan belajar dari rumah klaster covid pesantren sdh terjadi dimana asrama santri rentan juga disusupi orang tua wajib menjaga aset santrinya secara baik di rumah', 'anak anak sudah mulai bosan belajar onlin dari rumah tapi stayhom selama pandemi adalah safeti reason terbaik bila tidak ada keperluan dan kalau pun keluar tetap ikuti protokol kesehatan yuk dukung newnormallif untuk indonesia beba covid dengan disiplin http co kpknf qfjt', 'selamat hari anak nasion untuk seluruh anak anak hebat di indonesia tetap semangat belajarnya walaupun belajar dari rumah semoga pandemi covid cepat berlalu yaa sehingga kita bisa belajar lagi disekolah bersama guru dan teman teman semangat harianaknasion http co pfk cbcphj', 'googl classrom digunakan untuk belajar dari rumah selama pandemi covid http co agcnqojznf', 'cara telkomsel bantu belajar dari rumah saat pandemi covid mulai dari http co ky xsk fjb', 'info pencegahan sejak perintah kawalan pergerakan pkp dikuatkuasakan akibat pandemik covid hampir setahun yang lalu anak anak telah membiasakan diri belajar dari rumah guru guru mengajar memberi latihan dan nota ata talian http co w hugkg', 'repost divisihumaspolri tip hindari kelelahan diri dari pandemi covid refleksi diri belajar menerima dan sesuaikan ekspetasi dan kenyataan tetap aktif sesuai kemampuan berolahraga melakukan pekerjaan rumah atau meditasi http co kcdzcuq ij', 'padah fara sendiri belum ikut ptm loh fara masih trauma dengan yang kemarin saat ia positif dengan covid jadilah hingga hari ini fara tetap belajar onlin dari rumah', 'selama pandemi covid anak anak haru sekolah dari rumah karena tidak belajar di ruang kela seperti biasanya banyak orang tua di rumah lupa batasan http co qimlychxhu', 'satu siswa di smpn kota depok jawa barat terkonfirmasi positif covid kegiatan pembelajaran tatap muka ptm di sekolah sementara dihentikan untuk dilakukan mitigasi para siswa kembali melakukan belajar dari rumah depok http co ubkdectpzm', 'masa pandemi seperti ini berkegiatan dirumah menjadi hal yang dianjurkan pemerintah demi untuk memutu penyebaran viru covid mulai dari belajar beribadah hingga bekerja dari rumah yuk sahabat simak dan praktekan tip produktif bekerja berikut ini yaa sehatbersamacito http co ebrr gun l', 'ketua idi meminta agar masyarakat untuk tetap mematuhi peraturan protokol kesehatan dan selalu memakai masker selama berada di luar rumah kendati kasu covid di daerahnya cenderung melandai kita haru belajar dari kasu di singapura dan china yang kembali naik setelah turun', 'karena pandemi covid sekolah ditutup dan murid haru belajar dari rumah dengan sumber daya terbata tanpa interaksi langsung dengan guru dengan berlanjutnya pandemi risiko hilangnya pengalaman belajar menjadi lebih besar dan akan berdampak lebih panjang pula pembelajaran', 'hingga kini belum banyak bukti intervensi yang efektif di kontek pandemi covid untuk itu perlu sebuah diskursu terkait strategi pemulihan pembelajaran untuk siswa yang masih haru belajar dari rumah dan siswa yang sudah mengikuti pembelajaran bauran', 'pelajar di singapura wajib belajar dari rumah secara onlin selama penerapan ssm tahap kedua singapura resmi mengadopsi sistem pemberlakuan pembatasan kegiatan masyarakat yang terbukti telah menurunkan jumlah kasu covid di indonesia terutama di jawa dan bali', 'masa pandemi seperti ini berkegiatan dirumah menjadi hal yang dianjurkan pemerintah demi untuk memutu penyebaran viru covid mulai dari belajar beribadah hingga bekerja dari rumah yuk sahabat simak dan praktekan tip produktif bekerja berikut ini yaa sehatbersamacito http co za q ob dt', 'pjj pembelajaran jarak jauh atau brd belajar dari rumah tidak bisa ideal banyak hambatan dalam pjj sehingga ini ikhtiar dengan tetap membuka ptm pada level covid http co dzupzugtu ptmlancaraman disiplinprok taat http co zcssse zyn', 'masa pandemi seperti ini berkegiatan dirumah menjadi hal yang dianjurkan pemerintah demi untuk memutu penyebaran viru covid mulai dari belajar beribadah hingga bekerja dari rumah yuk sahabat simak dan praktekan tip produktif bekerja berikut ini yaa sehatbersamacito http co bsfjj guii', 'kasu covid varian delta di china kembali meningkat pemerintah setempat minta warganya untuk berada di dalam rumah dan apartemen mereka semua kantor hingga sekolah di tutup total semua warga wajib bekerja dan belajar dari rumah lewat onlin pemesanan makanan lewat onlin', 'kuota kemendikbud adalah bantuan kuota data internet selul yang diberikan kemendikburistek kepada siswa guru mahasiswa dan dosen untuk menunjang kegiatan belajar dari rumah di tengah pandemi covid', 'sayang sekali ya dikarenakan adanya pandemi covid yang memaksa kita untuk belajar dari rumah kalian belum bisa melihat dan merasakan bagaimana kondisi perkuliahan di kampu um kita tercinta', 'sepanjang pandemik covid sebelum ini mahasiswa terbeban dgn beberapa perubahan keputusan yang sebahagian dibuat saat akhir serta tekanan kewangan mereka dan keluarga kerana keperluan belajar dari rumah', 'amelluv mbahndi sd swasta itu kebanyakan lebih proke krna ortu siswanya crewet bahkan bnyk yg blm masuk tatap muka krn ortu tdk kasi ijin mereka dari kalangan punya duit belajar di rumah pun fasilita ada klo negri ortunya gak ada pilihan percaya gak percaya covid itu persoalan lain', 'schfess kebetulan waktu keluarga sepupu gue kena covid anaknya tinggal di rumah gue pertama sih bangunin niat dia aja mau belajar atau nggak kedua coba untuk mengulang kembali perkalian sama pembagian samp bisa perkalian ketiga belajar sedikit kpk amp fpb habi itu mulai dari', 'masa pandemi seperti ini berkegiatan dirumah menjadi hal yang dianjurkan pemerintah demi untuk memutu penyebaran viru covid mulai dari belajar beribadah hingga bekerja dari rumah yuk sahabat simak dan praktekan tip produktif bekerja berikut ini yaa sehatbersamacito http co to', 'tip mengatasi menghindari stre saat dampingi anak belajar dare http co zkqgsd gzp topswara com mendampingi anak saat sekolah dari rumah secara dare menjadi tuga baru bagi orang tua sejak pandemi covid tak http co kvhkc bhgf', 'kasu covid melonjak siswa sd di singapura belajar dari rumah jelang ujian nasion http co xajgc kick', 'sd di singapura akan memberlakukan aturan belajar dari rumah selama hari menjelang ujian nasion menyusul melonjakanya angka kasu covid selengkapnya singapura http co uend qsrnw', 'dalam pandemi ini sebagian anak anak masih haru belajar dari rumah tapi sebagian sudah dapat kembali ke kela temukan apa yang felishia ketahui tentang covid http co xn ylrsjip', 'makcik pakcik aku tak percaya covid vaksin anak dia nak masuk belajar kena vaksin pun dia tak bagi katanya biarlah duduk rumah tak belajar pun dari perlu ambil vaksin kesian anak dia weh', 'dunia ni penuh kepelbagaian ada orang yang takut covid sampai pakai berlapi mask sambil jalan sorang di park ada orang yang nak lari balik rumah dari icu walaupun oksigen dalam udara pao kot nak suruh timba ilmu bagi pandai sebab belajar lah juga jadi mcm tu', 'dalam pandemi ini sebagian anak anak masih haru belajar dari rumah tapi sebagian sudah dapat kembali ke kela temukan apa yang ibu guru nita ketahui terkait bagaimana mengedukasi anak tentang covid http co gqjkpisdqg', 'pandemi covid sudah berjalan hampir tahun semua aktivita mengalami perubahan seperti bekerja dari rumah maupun belajar secara onlin http co nkvodbu j', 'sejujurnya aku lg seronok duduk rumah sbb time covid ni memg duduk rumah jaa lp tu makanan pun ada wifi lg laa laju lg laju dari dkt kolej semua kelengkapan nk belajar semua ada cuma ja aku takut balik kolej sbb covid', 'schfess sekarang ini sekolah cuma jam dari jam per pelajaran cuma menit jadi berangkat dari rumah jam padah biasanya sebelum covid jam sedih yaa ga maksim belajar nya', 'penggunaan listrik rumah tangga meningkat selama pandemi covid karena banyak masyarakat yang melakukan aktivita bekerja hingga belajar dari rumah saksikan kembali insight desianwar http co dzm nv ow kilasbalikinsight', 'indra menyebut covid menyebabkan pengetahuan anak hilang karena belajar dari rumah pengetahuananakhilang http co zsfrmzowb', 'jennyjusuf cdrindonesia setahun sebelum kepala ngga punya uang karir blm settl karena cuma tenaga kontrak jauh dari pasangan tabungan habi buat berobat covid rumah ngontrak sandwich gener kadang masih nangisin hidup ku gini amat yah baru belajar pelan menerima keadaan', 'contohnya di aspek pendidikan karena viru covid ini menyebar melalui orang ke orang sehingga sekolah terpaksa ditutup dan para siswa belajar dari rumah', 'kegiatan ini bertujuan untuk meningkatkan kepedulian anak anak dalam menjaga lingkungan mencegah viru covid meningkatkan kreativita dan menambah semangat belajar di dalamnya anak anak membawa sampah dari rumah mase mase yang kemudian kami salurkan ke cont http co hkxcb ecq', 'akhirnya pemerintah memutuskan pelajar untuk belajar dari rumah dan orang kantoran bekerja dari rumah sempat di rumorkan pandem ini akan hilang dalam jangka waktu dekat tapi ternyata di indonesia di sekitar pertengahan tahun pasien covid makin meningkat dan banyak yang', 'bahkan sekolah sekolah pun juga belajar dari rumah karena hal tersebut banyak industri industri yang merumahkan karyawannya selain itu adanya covid ini meningkatkan penggunaan uang digit seperti diketahui bahwa viru corona dapat menempel di benda salah satunya uang', 'belajar dari pandemi covid pemprov akan menilai rs di dki setiap bulan dia menjelaskan nantinya dari penilaian itu pemprov akan mengklasifikasi rumah sakit mana yang akan dikembangkan untuk menjadi rumah sakit lapangan atau perluasan cakupan rumah http co leaqxw lna', 'tak ada gawai dan tv guru ujang setiawan kelil rumah murid untuk bantu belajar semenjak diberlakukan pembatasan kegiatan masyarakat karena darurat covid hampir semua sekolah di indonesia mengambil keputusan untuk belajar dari rumah atau disebut dengan istilah http co olh ewfodl', 'masa pandemi seperti ini berkegiatan dirumah menjadi hal yang dianjurkan pemerintah demi untuk memutu penyebaran viru covid mulai dari belajar beribadah hingga bekerja dari rumah yuk sahabat simak dan praktekan tip produktif bekerja berikut ini yaa sehatbersamacito http co rkesdkhip', 'guna mencegah penyebaran viru covid pemerintah telah mengeluarkan kebijakan physic distanc serta kebijakan bekerja belajar dan beribadah dari rumah namun bagi kalian yang haru banget beraktivita di luar rumah jangan lupa selalu pakai masker ya tmcpoldametro http co gzvmwnasr', 'sobatbelajar pandemi covid menjadikan kita terbata untuk bepergian anak anak belajar dari rumah orang tua bekerja dari rumah tetap bersabar dan semangat ya yuk ikuti memakai masker mencuci tangan menjaga jarak membatasi mobilita menjauhi kerumunan bersambung http co h xiqaqq n', 'di masa pandemi covid ini masyarakat memang haru bekerja dari rumah dan belajar onlin alhasil kebutuhan akan laptop pun meningkat sementara untuk memb laptop baru bagi sebagian masyarakat terasa berat http co id egj bx', 'belajar dari rumah yang dialami pelajar bisa menjadi salah satu beban anjrsyfaxx mengingatkan seberat apapun jangan sampai terjerumu penyalahgunaan narkoba bersih narkoba bersih covid saksikan di http co elyzusjyiu indonesiabersinar kobarbersinar warondrug http co tmtuutzzf', 'bantuan paket kuota data internet adalah bantuan yang diberikan kemendikbudristek kepada siswa guru mahasiswa dan dosen berupa kuota data internet selul dengan tujuan untuk menunjang pelaksanaan belajar dari rumah pada masa pandemi corona viru diseas covid http co nfup xnlaq', 'shajeu jgn pikir mcm tu kite kene teru belajar walaupun tgh covid kite boleh belajar dari rumah jgn ckp diri sendiri bodoh tak elok berusaha utk jadi pandai', 'masa pandemi seperti ini berkegiatan dirumah menjadi hal yang dianjurkan pemerintah demi untuk memutu penyebaran viru covid mulai dari belajar beribadah hingga bekerja dari rumah yuk sahabat simak dan praktekan tip produktif bekerja berikut ini yaa sehatbersamacito http co lmi brjmqn', 'sia sia jela aku belajar biolog kalau kau nak kata arang tu boleh bunuh semua viru covid dari masuk rumah', 'belajar jauh jauh sebab nak lari dari rumah secara halal sekali covid', 'convomf aku bosen astaga aku bosen main hp dan masak teru aku bosen belajar aku pengen keluar dari rumah aku ga mau ada covid aku pengen punya pacar aku merasa tahunku terbuang sia sia aku capek tanpa sebab hidupku enak tapi kenapa aku ngga bersyukur aku kenapa aku kenapa', 'tepat tenang dan foku belajar onlin di rumah supaya indonesia cepat beba dari viru covid semangat ya indonesiamemanggil tunjukkan peranmu', 'tip agar anak tidak bosan belajar dare di rumah rasa jenuh dan lelah pasti muncul namun demi kesehatan dan kepentingan bersama pjj dinilai masih efektif untuk menghindari anak dari bahaya viru covid yuk cek selanjutnya di http co lk lvyftf gayaid', 'sejak pandemi covid terjadi pada maret masyarakat lebih banyak beraktivita di rumah anak belajar dari rumah dan mengerem keinginan untuk keluar rumah misalkan berolahraga di lapangan atau jalan jalan pdiperjuangan http co h rllkwhw', 'benda yg aku belajar dari live shuib kuatkan imun badan ambil vitamin takd keperluan jangan keluar rumah pesakit covid make sure kena ada oximet', 'sejak pandemi covid terjadi pada maret masyarakat lebih banyak beraktivita di rumah anak belajar dari rumah dan mengerem keinginan untuk keluar rumah misalkan berolahraga di lapangan atau jalan jalan pdiperjuangan http co vccvlqhkq', 'pengembara warganegara dan bukan warganegara yang mempunyai kediaman di malaysia dibenar kuarantin di rumah sahaja ikuti berita terkini di http co ia kvam yd awaniterkini hapuscovid http co fvgrvb gzk', 'gak kena covid semoga sekeluarga sehat teru selama pandemi tapi belajar dari yang pada kena covid pentingnya dana darurat yang sangat mudah diaks dah lah di rumah aja jan pada kemana mana covid mahal', 'masa pandemi seperti ini berkegiatan dirumah menjadi hal yang dianjurkan pemerintah demi untuk memutu penyebaran viru covid mulai dari belajar beribadah hingga bekerja dari rumah yuk sahabat simak dan praktekan tip produktif bekerja berikut ini yaa sehatbersamacito http co e vqlia', 'dear parent lakukan cara ini buat bantu anak foku saat sekolah onlin pandemi covid di indonesia belum usai artinya sekolah onlin dari rumah masih tetap berlangsung kebijakan belajar dare di tengah pandemi covid ini guna pemutusan penyebaran viru corona http co uhyl ootfq', 'belajar dari bapak dirumah yang di positif covid haru isolasi mandiri di kamar gak ada temen orang rumah wajib jaga jarak keliatan banget rasanya kesepian tiduran teru mikir jadi beban istri', 'gue ga sekolah hari ini cz final gue pulang dari rs ga sempet belajar juga karena samp rumah haru beresin baju buat pindah ke rumah tant karena alhamdulillah hasil swab gue negatif covid walaupun rontgen paru paru gue hasilnya buruk wkwk tapi bersyukur aja ya kan', 'belajar asyik bersama rumah belajar sahabatsekolahdasar dalam rangka mengurangi terjadinya learn loss pada peserta didik akibat dari pandemi covid kementerian pendidikan kebudayaan riset dan teknolog melalui direktorat sekolah dasar bekerja sama dengan http co rodavdumnf', 'hafizraashid okay kita belajar dari covid survivor hg dlu fulli kt rumah ke', 'perkembangan covid di tanah datar meningkat belajar dari rumah diperpanjang kunjungi http co p idmi eym mbb tanahdatar http co z p kb n', 'dari covid ni lah kita belajar kalo rumah tempat pale nyaman gak perlu pake masker kalo di rumah', 'sudah hampir dua tahun kegiatan belajar mengajar formal tak lagi dilakukan secara tatap muka pandemi covid memaksa siswa belajar dari rumah saja elif http co kh pl ltm', 'kkn umi oprimalkan program belajar dari rumah pada masa pandemi covid http co cn h rwmig beritajogja jogja jogjaistimewa http co snp prhbgf', 'electrizen jangan sampai pandemi covid menyurutkan semangatmu dalam meraih cita cita ya meski di rumah aja kita haru tetap produktif dan memaksimalkan potensi yang ada seperti adik alenka yang tetap tekun belajar meski sekolah dari rumah aja harianaknasion http co crkxpznufd', 'sudah hampir bulan kegiatan belajar tatap muka berubah menjadi kegiatan bdr belajar dari rumah sebagai usaha untuk mengurangi penyebaran viru covid http co mlsxfqljn', 'pandemi viru corona covid membuat semua anak haru belajar dari rumah meskipun demikian anak anak tetap perlu didukung untuk tetap belajar walaupun sekolah ditutup salah satunya adalah mencari berbagai solusi terbaik untuk menjaga bumi dari pengaruh pemanasan global http co wofwutouya', 'sebelum jadi epicent covid di nyc sudah memberlakukan kerja amp sekolah di rumah dari awal maret dari sejak itu gue belajar utk adjust gimana beraktivita bareng keluarga amp tetep nyamandirumah http co lhouq mp', 'yeay mulai senin para siswa bisa belajar dari rumah lewat tv masmenteri nadiem makarim menginisiasikan program belajar dari rumah bersama tvrinasion utk mengatasi keterbatasan aks jaringan internet dan jg bahan pembelajaran dare selama wabah covid dirumahaja http co fx km lgn', 'sebagai bentuk dukungan penuh terhadap kebijakan pemerintah yang mengimbau masyarakat agar bekerja belajar dan beribadah dari rumah guna menghambat penyebaran viru corona covid mrt jakarta akan kembali melakukan perubahan kebijakan layanan http co kh ajyleof', 'kebijakan social distanc dari pemerintah terkait covid membuat instansi pendidikan mengeluarkan kebijakan sth atau studi home belajar dari rumah http co x bgw spbv', 'calon tuan rumah penyelenggaraan olimpiad musim dingin beij akan melakukan berbagai langkah untuk mengantisipasi penyebaran covid di tengah penyenggelaraan olimpiad musim dingin beij tahun depan beij sudah belajar dari pengalaman tokyo dalam menangani covid', 'sebagian org yg gue kenal dan udah pernah covid kok gue liat malah gak belajar dari kesalahan ya mean sebelumnya mereka itu sere nongkrong keluar rumah mulu jajan di luar dan pa kena covid lgsg blg stay safe ya kalian covid itu ada', 'dari covid kita jadi ga ada semangat buat belajar dan lain lain rasanya kalau gak bosen ya jenuh kayak ngapain sih belajar orang di rumah covid jahat banget yang dulunya ointer sekarang jadi nurun gara gara covid', 'electrizen jangan sampai pandemi covid menyurutkan semangatmu dalam meraih cita cita ya meski di rumah aja kita haru tetap produktif dan memaksimalkan potensi yang ada seperti adik alenka yang tetap tekun belajar meski sekolah dari rumah aja http co bniehswmoo', 'bertanyarl aaa kangen banget eskul semenjak covid eskul juga diberhentiin dari sekolah rasanya cape banget sekarang belajar doang di rumah dulu kalo abi pulang ngumpul buat eskul kangen bangettt', 'banyak anak yang mengalami masalah pengasuhan karena orang tuanya positif covid anak kurang kesempatan bermain dan belajar serta meningkatnya kasu kekerasan selama akibat diterapkannya kebijakan belajar dari rumah', 'di saat adanya pandemi covid sekarang ini jangan sampai anak anak indonesia menjadi putu harapan untuk menggapai cita cita melainkan kita haru memberikan semangat dalam belajar meskipun haru dari rumah saja http co cwvlu pfm', 'presiden jokowi berpesan agar seluruh anak di indonesia tetap semangat belajar dari rumah di tengah pandemi covid temponasion http co bnn vyfeir', 'anak anak adalah masa depan bangsa perlindungan terhadap anak adalah tuga pent semua pihak ditengah pandemi covid jangan sampai anak anak indonesia putu asa karena keterbatasan berekspresi dan belajar sebab itu jaga semangat mereka meskipun haru dari rumah saja http co evhyswud', 'hari anak nasion selamat hari anak nasion ditengah pandemi covid seperti sekarang ini jangan sampai anak anak indonesia menjadi putu asa melainkan mereka tetap semangat dalam belajar meskipun haru dari rumah saja harianaknasion hmtl kabinetudagana http co kbfxyqfyfa', 'selamat hari anak nasion untuk seluruh anak hebat di indonesia anak terlindungi indonesia maju lebih dari juta anak di indonesia merasakan dampak pandemi covid mereka tdk beba bermain dan sebagian haru belajar dari rumah mari kita lindungi anak anak indonesia http co ut cjvv f', 'selamat hari anak nasion untuk seluruh anak hebat di indonesia lebih dari juta anak indonesia merasakan dampak pandemi covid mereka tidak beba bermain dan sebagian haru belajar dari rumah bersama kita lindungi dan berikan cinta kasih pada anak mncnetwork http co fnj hr qf', 'muhammad iqbal hasan az kadin saya siswa mi taufiq siap belajar dari rumah dengan semangat smoga pandemi viru covid alia corona segera berakhir aamiin http co gyo hfhru', 'belajar dari rumah sebuah tameng yg dipakai untuk menahan tuduhan bahwa selama covid sistem pendidikan vakum', 'kasu covid meningkat unsrat terapkan belajar dari rumah http co lq oy xpu', 'hai sobat mahasiswa beberapa bulan ini pandemi ini sedang meningkat dan peraturan ppkm diterapkan oleh pemerintah guna mengurangi angka penyebaran covid mimin sedih sih karena belakangan ini kita semua belajar dari rumah via onlin yuk liat pendapat mahasiswa stif syeikh http co vygqsud p', 'bantuan kuota pendidikan mahasiswa halo nutrilici ada kabar gembira nihh bantuan kuota internet hadir kembali lohh bantuan kuota data internet diberikan kepada mahasiswa dengan tujuan untuk menunjang pelaksanaan belajar dari rumah pada masa pandemi covid http co ykkljsslwp', 'pendapatan rumah tangga diband sebelum covid mayorita merasa pendapatan sekarang ini turun diband sebelum adanya imbauan pemerintah bekerja dan belajar dari rumah dari yang turun mengalami sangat banyak cukup banyak penurunan pendapatan rumah tangganya http co orm xcazf', 'aku takut betul nak keluar rumah sejak balik dari teluk intan beberapa bulan lepa aku takut sebab kalo kena covid nanti kena tangguh lagi belajar tp harini aku betul rasa nak keluar nak hirup udara selain dari udara rumah rasa mcm sesak nafa duduk tempat sama lama sgt', 'sumber octavia j r hartono amp dkk panduan ergonomi learn home perhimpunan ergonomi indonesia prasetyaningtya n pelaksanaan belajar dari rumah bdr secara onlin selama darurat covid di smp n semin jurnal karya ilmiah guru vol', 'jangan ngeyel belajar dari pengalaman idul fitri kemarin dan melanggar untuk tidak mudik akhirnya lonjakan covid terjadi untuk idul adha kali ini pemerintah juga menghimbau sholat idul adha di rumah dan tidak mudik jokowi lawan pandemi http co aousorddrn', 'sdh hampir setahun kampany nyata anti covid sudah dimana mana bahkan sdh sampai ke rumah sakit oleh aktivi tapi msh ada org dungu tdk mau belajar dari sana msh saja percaya ttg beginian dasar tolol http co yasn uhe z', 'sahabatbaikhati sukseskan vaksinasi covid untuk pelajar smp dan pelajar sma di provinsi daerah episentrum serta program vaksinasi dari rumah ke rumah bagi warga masyarakat salam sehat salam merdeka belajar http co ihzmfgjmni', 'karena pandemi covid masih belum terkendali kaka de masih belajar dari rumah sekolahnya lokasinya di kebagusan jakarta selatan dan belajarnya dari megamendung bogor schoolfromhom cipendawa farmer http co fwzfral u', 'detikcom warga dilarang lewat tol yaa jalan arteri kalo perlu jalan tiku pun di jalanin demi looooooong weekend idul adha nanti pulang balik ke rumah bawa covid dahh belajar dong dari liburan idul fitri kemarin gak kepengen apah indonesia beba covid dan tidak bermask http co bhi vunign', 'lo di suruh di rumah lo bilang pemerintah jahat lo kena covid lo salahin pemerintah padah lo sendiri yang keluyuran haha hihi ngopi cantik sambil mengeluarkan fakta terbaru konspirasi pandemi dari youtub atau sumber invalid lo yang salah belajar ga nyalahin orang lain', 'bangga sama nyokap ga pernah berhenti buat selalu belajar dan didik anaknya dari gw yg benci banget sama covid soalnya peraturan rumah ketat bgt semenjak ada covid samp gw ada di mindset bisa menghargai orang lain dengan menjaga sikap diri sendiri', 'kita bisa belajar dari pandemi covid bawasannya pandemi ini tidak membunuh manusia melainkan membunuh rasa kemanusiaan tingkat ekonomi masyarakat kita beragam tidak semua bisa untuk di suruh di rumah aja tega boleh tapi yg solutif dong', 'aewin percaya bahwa jokowiatasipandemi karena selama ini beliau teru berusaha untuk mengatasi covid sejak tahun lalu sampai saat ini dari mulai adanya lockdown sampai dengan vaksin kemudian ppkm darurat pendirian rumah sakit darurat dan masih banyak lagi beliau juga teru belajar', 'hari pendidikan nasion tahun ini jatuh pada sabtu mei bertema belajar dari covid tetap semangat belajar di rumah jaga jarak dan berani berjuang melawan covid ini ini merupakan pelajaran utk kita semua http co bcgiumo z', 'keluarga besar komunita generasi muda nu mengucapkan selamat hari pendidikan nasion mei tetap semangat meski belajar dari rumah mari belajar menjaga alam belajar menjaga kebersihan lingkungan dan belajar dari covid hardikna generasimudanu http co oosamfdjez', 'hai temanpemilih mari ttp semangat menambah ilmu selama dirumahaja seperti kata ki hajar dewantara dengan ilmu kita menuju kemuliaan setiap orang mnjdi guru setiap rumah mnjdi sekolah belajar dari covid slmt hari pendidikan nasion hardikna kpumelayani http co unmg glpae', 'articl relay salah satu kebijakan pent yang disampaikan presiden jokowi terkait mencegah penyebaran covid adalah dengan bekerja belajar dan berdoa dari rumah untuk menghindari kontak langsung dengan banyak orang http co evsfuicb', 'lembaga penyiaran publik tvrinasion sebagai bagian dari media offici gugu tuga percepatan penanganan covid akan menyiarkan program program pendidikan dalam rangka mendukung upaya belajar dari rumah di tengah pandemi covid yang akan disiarkan mulai hari ini http co hkhnussnz', 'buat yang punya adik anak paud sd bisa mengikuti belajar dari rumah melalui tvrinasion mulai jam semoga ini membantu prose belajar anak adik kita di tengah wabah covid dengan belajar dirumahsaja http co gzwxsppa', 'tuga kita bersama adalah untuk kembangkan minat baca buku khususnya pada anak anak buat adik adik yang sedang belajar dari rumah karena viru covid ini selamat hari buku anak sedunia juga jangan lupa untuk rajin baca buku di rumah ya http co iy cahmk j', 'melihat perkembangan penyebaran dan ihktiar pencegahan covid kebijakan belajar dan bekerja dari rumah diperpanjang waktunya belajar di rumah diperpanjang sampai april bekerja di rumah diperpanjang sampai april http co ov thxeoej', 'beritaunsyiah memberlakukan jam malam sementara di seluruh wilayah aceh untuk mencegah keramaian hingga krisi covid berakhir memperpanjang masa belajar dari rumah bagi anak anak sekolah dan perluasan masa bekerja dari rumah bagi pegawai pemerintah http co khqmyif qu http co ksd qxmcb', 'demi mencegah penyebaran covid para siswa telah belajar di rumah di antara mereka juta siswa seharusnya mengikuti ujian nasion dari satuan pendidikan di tanah air karena itulah pemerintah memutuskan untuk meniadakan ujian nasion un tahun http co ledc diwjg', 'work home cegah penyebaran corona covid kita diminta sebisa mungkin tidak keluar rumah terkait penyebaran wabah covid saatnya kita kerja dari rumah belajar dari rumah ibadah di rumah ujar jokowi dalam konferensi per di istana bogor minggu http co hfkhinm ui', 'terima kasih para dokter perawat paramedi dan seluruh jajaran rumah sakit untuk kerja kera penuh dedikasi dalam melayani pasien covid mari bantu mereka dengan belajar dari rumah bekerja dari rumah dan beribadah di rumah semoga kita semua tetap sehat dan prima http co awymk c', 'kami sudah menjalani te deteksi covid alhamdulillah hasilnya negatif mari sama sama mencegah penyebaran covid dengan belajar dari rumah bekerja dari rumah dan ibadah di rumah http co olfr ps', 'hai sahabat perempuan dan anak sesuai arahan presiden ri jokowi masyarakat dihimbau untuk meminimalisasi dan mencegah penyebaran viru covid di indonesia dengan mulai bekerja belajar dan ibadah dari rumah socialdistanc atau menjaga jarak sosial http co sd vy', 'sahabatkemhan dalam konferensi per mengenai perkembangan viru covid di indonesia pada minggu di istana bogor presiden joko widodo jokowi menghimbau kepada seluruh masyarakat indonesia untuk kerja dari rumah belajar dari rumah dan ibadah di rumah http co ohkwioulwz', 'sebagai upaya melindungi dan menjaga warga dari risiko penularan covid semua jenjang sekolah di dki jakarta ditutup mulai maret dan para pelajar dapat belajar di rumah dengan pembelajaran jarak jauh jakartatanggapcorona dkijakarta covid jaki http co oq fkvclyy', 'di masa pandemi covid seperti sekarang ini yang mana kampany selalu di gaung gaungkan tentang beraktivita dirumah mulai dari belajar di rumah bekerja di rumah dan beribadah di rumah sehingga untuk tetap dapat surviv melangsungkan pemenuhan kebutuhan hidup', 'gegara covid kembali pelajar paud hingga sltp se natuna belajar dari rumah http co bgrrsbxci lewat kabarterkini co id http co sltiju', 'terima kasih para dokter perawat paramedi dan seluruh jajaran rumah sakit untuk kerja kera penuh dedikasi dalam melayani pasien covid mari bantu mereka dengan belajar dari rumah bekerja dari rumah semoga pandemi cepat berlalu terimakasihnak http co su nusaigu', 'kegiatan belajar dari rumah terhitung mulai tanggal juli dan akan dievaluasi dengan memperhatikan situasi kondisi dan statu wilayah penyebaran covid publisherstori http co hhr nae', 'belajar lagi dari china rumah sakit darurat covid http co ofvixdzuav http co nhfg fapxq', 'malam tadi ada org tanya rabi still cod unikl rcmp ke tak buat masa ni rabi tak cod kat sana tau sebab ada kat kampung belajar onlin dari rumah je sama la kita doa supaya covid pkp ni semua habi cepat nak balik sana balik http co fqrkanqg', 'disaat indonesia darurat covid dan siswa haru belajar dari rumah kami guru malah mendapat perlakuan tdk baik dari pemimpin kami sk honor diberhentikan dan dilarang lagi mengajar hanya krn pilkada apa kami sdh kehilangan hak dalam memilih pemimpin saveguruhonor', 'kalau masuk tahun kedua covid kita masih lagi bercerita siapa patut berkuasa tak mustahil kita boleh masuk fasa kemarau panjang seperti yang disebut ad dukhan dah bolehlah simpan basik setiap rumah belajar berkebun dari sekarang duit ada tapi takleh beli apa pun x guna kan', 'belajar dari penanganan pandemi di wuhan pemerintah tiongkok bergerak cepat bangun infrastruktur rumah sakit untuk pasien covid indonesia pasti bisa dengan meningkatkan fasilita kesehatan perbanyak rumah isoman amp kebutuhan oksigen dll bakomstrademokrat http co c hpwidjjb', 'karena kasu covid yang melonjak sekolah tatap muka akhirnya dibatalkan dan siswa kembali belajar onlin eit tapi jangan sedih dulu ada tip nih buat kalian yang suka merasa bosan belajar dari rumah alia belajar onlin', 'tip membuka toko buku dan alat tuli kondisi perekonomian cukup terguncang sejak covid terjadi akibat pandemi ini juga seluruh kegiatan masyarakat menjadi terhambat contohnya saja anak sekolah yang sampai saat ini haru belajar dari rumah untuk mengurangi http co vy uitecfl', 'bagian kota pati yg sepi tapi syukur alhamdulillah mulai berlakunya ppkm darurat bberapa hari ini untuk hari ini tidak ada pesanan di toko kami u keperluan jenazah covid dari umum maupun dr rumah sakit sedikit bernafa lega dan alhamdulillah bisa tidur siang http co bkegnrinq', 'arysasyazwina meleurr kan dah masuk asrama tapi sebab covid semua belajar dari rumah', 'handajani hilmi tariuntari gue setuju bukan berarti gue kaum bipang harusnya yg gak setuju belajar dari pengalaman tahun kemarin udah berapa banyak cluster rumah ibadah pa covid', 'kemenparekraf kegiatan dimasa pandemi covid ini bersama anak anak di rumah aja membimb anak belajar lewat media digit tuk mengisi waktu membuat ala duduk dari bungku kopi dgn anak semoga covid ini cepat hilang aminnn saatnyarekreasi kemenparekraf', 'rumah adalah istana pandemi covid seakan mengingatkan kita semua pd esensi sejati sebuah hunian aman damai bernama rumah home maka kita sptnya diajak belajar lagi segala nya ttg hidup dari rumah saja lagi berdoa belajar bekerja dll enjoy time http co g sh h yg', 'cepat la habi covid nak juga belajar jauh tak nak onlin nak keluar dari rumah', 'tatriariesta si bobo dari sini kita belajar bahwa ketika udah memutuskan untuk pergi keluar rumah keluar kota atau kemana pun berarti kita sudah siap dengan resiko covid itu', 'kebijakan bekerja dari rumah saja tak cukup untuk mencegah penularan covid ini baru akan efektif jika setiap rumah mempunyai fasilita bekerja dan belajar yang memadai sarana hiburan tetangga yang sale dukung opini adadikompa http co ifqpua h q', 'bagi saya anak anak selalunya adalah cahaya kemajuan dan penentu masa depan bangsa meski saat ini anak anak indonesia haru belajar dari rumah karena situasi pandemi covid namun saya berharap motivasi belajar dan semangatnya untuk berprestasi tidak boleh berkurang http co idmhiriyf', 'hi tembang yuk yang tiap hari dirumahaja tonton live stream tembang talk belajar dari rumah pada kondisi pandemik covid http co tej uexyk', 'pendidikan dalam masa darurat covid sesuai dengan anjuran dina pendidikan segala kegiatan yang berkaitan dengan pendidikan seperti un us prose belajar dari rumah dan ppdb mengikuti protokol untuk mencegah penyebaran covid pendidikanindonesia kkndriainbatusangkar http co gi arw oc', 'sahabatpauddikmasdiy kemendikbud menerbitkan surat edaran nomor tahun tentang pedoman penyelenggaraan belajar dari rumah dalam masa darurat penyebaran covid yuk simak informasinya pada grafi berikut unggahulang kemdikbud ri http co jzvvw ntg', 'bhnasion covid covid yuran ipt wajar kurang jika belajar dari rumah http co sy weyq http co dpu bixg', 'infografi pedoman pelaksanaan belajar dari rumah selama darurat bencana covid di indonesia berikut ini adalah infografi pedoman pelaksanaan belajar dari rumah selama darurat bencana covid di indonesia berdasarkan surat edaran sekretari jendral http co hadasteb http co zzqm dwzi', 'infolombaunsyiah yuk ikut lomba video pencegahan covid dengan tema belajar asyik dari rumah terhindar covid unsyiahcegahcovid http co qktb rai w', 'radio republik indonesia rri membuat program belajar bersama untuk mendukung program pemerintah belajar dari rumah dalam rangka memutu rantai penyebaran covid selain melalui radio kalian juga bisa mendengarkan melalui aplikasi rri play go http co feehwrqjjk', 'selamat hari pendidikan nasion pendidikan dapat muncul dari mana saja dan sekarang saatnya bagi kita belajar dari covid semangat belajar kita tengah diuji agar tidak redup meski diterpa pandemi belajar dari mana saja bahkan dari rumah hardikna pemkabbantul http co er bdkfi c', 'faq kemendikbud tidak menetapkan bata waktu untuk belajar dari rumah lebih lanjut hal tersebut diatur oleh dina pendidikan di daerah mase mase mengingat kondisi terdampak covid antarsatu daerah dan daerah lainnya berbeda selengkapnya dalam edaran berikut ya kak http co fjaobw cqq', 'u r e r n nomor hk usakti r iii tentang perpanjangan masa belajar dan bekerja dari rumah terkait covid http co jcojwgyt', 'jaga jarak minimum meter dengan orang lain tunda aktivita di keramaian belajar dan bekerja dari rumah dapat turunkan kurva penularan covid bersama kita lawan penyebaran viru covid medialawancovid amandirumah http co zpcgqx w', 'di tengah penyebaran viru covid telkomgroup sebagai bumn mengambil peran dalam menyediakan konektivita dan layanan edukasi jarak jauh agar pelajar tetap dapat efektif belajar dari rumah indonesiabersatu bumnatasicorona http co wgxcuzl', 'updat situasi covid di sumbar bukittinggi meliburkan kegiatan belajar selama hari dari tingkat paud sampai smp serta bimbel le dan mda mohon kerjasamanya untuk anak anak agar tetap di rumah http co qhfi c', 'dampak covid mengharuskan anak anak untuk belajar dari rumah simak perbincangan ibu atikoh ganjarpranowo dengan isti ilma patriani mpsi seorang psikolog klini sekaligu anggota pokja tppkkjateng selasa juni pukul ada giveaway menarik buat kamu http co eaukc pk r', 'apa kesulitan orang tua untuk membantu anak belajar dari rumah dalam masa pandemi covid ini dan bagaimana cara yang tepat untuk membantu anak belajar di rumah dengarkan dan beri komentar mu di kopi pagi rri kupang indonesiatatanankehidupanbaru http co yi kusezr', 'yuk mahasiswa univ syiahkuala ikutan lomba video pencegahan covid dengan tema belajar asyik dari rumah terhindar covid unsyiahcegahcovid http co ahl hm ud', 'setiap tindakan kecil yang sahabatdata lakukan dapat mengurangi risiko penyebaran covid mulai dari rajin mencuci tangan dengan sabun hingga social distanc seperti bekerja belajar dan beribadah di rumah mencatatindonesia sp http co opotj ijsq', 'walaupun sedang pandemi tetaplah belajar dari rumah karena pandemi covid bukanlah halangan untuk tetap mengutamakan pendidikan diktimengajardarirumah diktidutaedukasiperubahanperilaku http co ighma e', 'selamat hari pendidikan nasion mei tema belajar dari covid prose belajar mengajar tetap berjalan ayo kobarkan semangat belajar dari rumah jangan kendor karena covid indonesiakuat http co ahxjiovao', 'kerja dari rumah belajar dari rumah ibadah di rumah agar covid bisa ditangani dengan maksim awasprovokasisaatpandemi http co pdk aha e', 'untuk sobat ojk yang sedang belajar dari rumah tetap sehat dan semangat belajar ya jangan biarkan covid menghalangi langkah kita meraih cita selamat hari pendidikan nasion mei ojk ojkindonesia keuangan hardikna belajardaricovid http co drqbwoftbi', 'dalam pelaksanaan belajardi rumah selama pandemi covid banyak remaja sekolah yang mengikuti belajar dari rumah melalui media televisi ternyata banyak manfaatnya wagimandeep ambarwatirexi wr ag http co xvqnuj cbv', 'hai yoter pandemi covid membuat berbagai aktivita di seluruh dunia menjadi terhenti para pekerja mulai bekerja di rumahnya mase mase para murid dan mahasiswa mulai belajar dari rumah di tengah covid ini kami menginisiasi suatu kegiatan untuk melakukan http co goqd gdjwj', 'dirumahaja menjadi kampany yang teru disuarakan pemerintah di tengah penyebaran viru covid semua karyawan mahasiswa dan pelajar diharuskan bekerja dan belajar dari rumah agar memutu penularan bumnuntukindonesia bumnatasicorona untukindonesia selaluada http co z knq jj', 'kerja dari rumah belajar dari rumah ibadah dirumah agar covid bisa ditangani dengan maksim joko widodo lawancorona http co z qnkon ht', 'jaga jarak minimum meter dengan orang lain tunda aktivita di keramaian belajar dan bekerja dari rumah dapat turunkan kurva penularan covid jaga jarak tidak selalu buruk bersama kita lawan penyebaran viru covid medialawancovid amandirumah terhubungdarirumah http co mdciu', 'kerja dan belajar dari rumah gegara covid gunakan teknolog ini http co rpvrpu ajr http co ulzf sijo', 'menjelang shalat dzuhur di mtsn sumedang jumat februari minggu sebelum belajar dari rumah bdr karena pandemi covid http co mfnjbmncio', 'day wfh cours tetap kena pergi ofi tapi selang better la belajar bersyukur je skrg least week tu kali je aku keluar rumah jauh kan la aku keluargaku dan rakan rakan ku dari jangkitan covid ni ya allah http co jddiptlnbq', 'di tengah situasi pandemi covid siswa haru menyesuaikan diri untuk belajar dari rumah kebutuhan akan aks internet meningkat padah banyak daerah yang masih kesulitan untuk mendapat internet dengan mudah dan murah http co pisf alrtw beraniberubah perubahanperilaku http co xh qdwkcc', 'pandemi viru corona atau covid menyebabkan anak anak amp remaja haru belajar dari rumah untuk memudahkan mereka unicef memiliki beberapa saran bagi sekolah agar anak anak amp remaja bisa belajar dgn efektif meskipun dari rumah via unicefindonesia http co mhm tmjfrb', 'mari hargai kerja kera para dokter dan paramedi belajar bekerja dan beribadah dari rumah sahabatdikbud dapat memperoleh informasi pendidikan dan kebudayaan pada masa pandemi covid di http co harwdbg fd merdekabelajar bersamahadapikorona http co gzwdrropva', 'tvri bekerjasama dgn kemendikbud ri teru berupaya meningkatkan sistem pembelajaran jarak jauh di tengah pandemi viru covid melalui program belajar dari rumah saksikan setiap hari senin minggu mulai april hanya di tvri belajardarirumah http co ayhhvfavrx', 'achmad yurianto patuhi kebijakan pemerintah belajar dari rumah bekerja dari rumah dan beribadah di rumah hindari kerumunan dan jaga jarak ini pent untuk mencegah covid dengerinelshintadirumahaja http co th sb oxlf', 'presiden jokowi menyerukan kepada seluruh rakyat indonesia untuk tetap tenang tidak panik presiden juga meminta agar pola kerja belajar dan ibadah dari rumah agar masalah covid bisa tertangani dengan maksim biroperssetpr dengerinelshintadirumahaja http co ckmsqb r c', 'jaga jarak aman dengan sekitar tunda aktivita di keramaian belajar dan bekerja dari rumah dapat mencegah penularan covid viru korona jaga jarak tidak selalu buruk bersama kita lawan penyebaran covid covid coronaviru amandirumah medialawancovid http co efexbxg', 'jokowi presiden jokowi kebijakan belajar dari rumah bekerja dari rumah dan ibadah di rumah perlu teru digencarkan untuk mengurangi pengurangan penyebaran covid biroperssetpr elshintaedisisor covid http co dophu biy', 'modul belajar dari rumah untuk kela tema unduh file pdf modul ayo belajar dari rumah untuk kela tema kegemaranku agar prose pembelajaran jarak jauh pjj atau belajar dari rumah bdr pada masa pandemi covid berjalan lancar telah http co wmk lqgjcl http co xbh ylctdn', 'di masa pandemi covid saat ini masyarakat di harapkan tetap melaksanakan protokol kesehatan social distanc amp phsycal distanc dg tetap bekerja dari rumah amp belajar dari rumah agar memutu penyebaran covid teknolog informasi jadi kebutuhan utama http co wi yauryv', 'infografi pedoman pelaksanaan belajar dari rumah selama darurat bencana covid di indonesia berikut ini adalah infografi pedoman pelaksanaan belajar dari rumah selama darurat bencana covid di indonesia berdasarkan surat edaran sekretari jendral http co zh ftl ke http co rsefqivz', 'kegiatan belajar secara virtual dari rumah selama pandemi covid menimbulkan masalah ketimpangan aks internet menjadi permasalahan utama karena masih terdapat penduduk yang bukan merupakan pengguna internet infografik http co rknmezmgt http co wd eiw yzk', 'semua perubahan diawali dari ilmu teruslah belajar menimba ilmu dan sebarkan manfaatnya untuk orang banyak selamat hari pendidikan nasion belajar dari covid belajarlah di rumah saja pendidikannasion covid http co afv eehw v', 'selamat hari pendidikan nasion jadikan setiap tempat sbg sekolah jadikan setiap orang sbg guru ki hajar dewantara belajar dari rumah belajar dari covid belajar pada siapa saja berikut info stok darah sehat utdpmipemalang salamkemanusiaan ayodonordarah http co k egttepjo', 'kerja dari rumah belajar dari rumah ibadah di rumah agar covid bisa ditangani dengan maksim gerakansolidaritassosi http co aoay xcadz', 'pemerintah aceh perpanjang kegiatan belajar dari rumah http co ulyujq iz belajardirumah covid sekolahdirumah kutarajapost pemerintahaceh arianto p http co yeucjlpqzh', 'tak semua siswa di jawa timur bisa mengikuti kebijakan pemerintah untuk belajar dari rumah akibat pandemi covid mereka yang mengalami itu kebanyakan berada di desa terpencil baca selengkapnya klik http co q u qre yy newson dampakcovid updatecorona covid http co kitp lrmwm', 'sesuai dengan surat edaran wali kota bekasi nomor disdik tanggal maret tentang perpanjangan belajar dari rumah home learn pada masa darurat covid di kota bekasi waktu belajar dari rumah home learn di perpanjang sampai april http co mvj oxfmex', 'kerja dan belajar dari rumah gegara covid gunakan teknolog ini http co wpfxhnfkyf http co zzm ebrvdz', 'belajar meski dari rumah tetaplah pent bagi anak agar mereka bisa mendapatkan pembalajaran yang layak tetapi tetap aman dan tercegah dari covid kita selalu menerapkan dalam program mdr diktimengajardarirumah diktidutaedukasiperubahanperilaku http co dhkjxnn er', 'ayo bergabung dengan mona rataliu dr yogi prawira dan para narasumb lainnya dalam program ayo cari tahu covid edisi pendidikan di episod kali ini mari cari tahu cara menghadapi situasi belajar dari rumah cara mengatasi stress dan tetap sejahtera di saat pandemi http co lgltsurvji', 'disaat pandemi covid guru rela untuk mendatangi rumah murid dengan belajar kelompok anak tetap haru memperoleh pendidikan bekal ilmu lebih baik dari pada bekal harta tppilumajang tppijawatimur http co ktoqlv fob', 'situasi pandemi covid kita semua mesti tetap berada di rumah bekerja dari rumah san belajar dari rumah http co rgwpsthvxp', 'salah seorang guru sekolah dasar di kabupaten sumenep jawa timur patut diapresiasi pasalnya sejak pandemi covid terjadi dan program belajar dilakukan dari rumah ia haru kelil satu persatu rumah siswanya agar siswanya tetap belajar http co g pjdoomsb http co ephhkn k', 'rindu suasana belajar di sekolah dengan siswa siswi kami tercinta namun demi indonesia kami haru belajar dari rumah semangat teru untuk pak ganjarpranowo dan semua para pahlawan bangsa ayo cegah penyebaran covid jatenggayeng dirumahajaya http co ad h rjil', 'tvri bekerjasama dgn kemendikbud ri teru berupaya meningkatkan sistem pembelajaran jarak jauh di tengah pandemi viru covid melalui program belajar dari rumah saksikan setiap hari senin minggu mulai april hanya di tvri belajardarirumah http co tjriu wnb http co mlovzio q', 'penyebaran viru covid yang begitu cepat membuat pemerintah mengeluarkan kebijakan work home wfh atau bekerja dari rumah begitu pun para pelajar yang haru belajar di rumah bumnuntukindonesia bumnatasicorona untukindonesia selaluada http co x rxtgyhyz', 'berikut ini adalah sebagian kecil dari kegiatan belajar di rumah ananda di smp islam tugasku langkah ini sebagai upaya pemerintah dlm penghentian penyebaran viru covid selama pekan maret april semoga kita semua selalu dlm lindungan allah swt amin http co qimw stptz', 'setiap orang bisa ambil bagian dalam mengurangi penyebaran covid jika ia konsisten mengikuti anjuran untuk jaga jarak sosial bekerja dari rumah belajar dari rumah dan ibadah di rumah solid tapi berjarak editorialmediaindonesia indonesiamelawancovid http co gqfj fqq h', 'kita semua haru sadar dan tergerak untuk social distanc dg tidak membuat datang ke kerumunan bekerja dan belajar dari rumah karena jika kita nekat maka bukan tidak mungkin penyebaran viru covid akan lebih lua amp banyak aksinyatalawancorona http co oywcdfv yf', 'menghadapi covid beberapa negara memutuskan untuk lockdown di indonesia imbauan presiden untuk bekerja belajar dan beribadah dari rumah justru menuai polemik karena tak disusul dengan kebijakan konkrit ikuti matanajwasetopcorona matanajwa menit lagi http co wcfneoufxl', 'presiden jokowi kebijakan belajar dari rumah bekerja dari rumah dan ibadah di rumah perlu teru digencarkan untuk mengurangi pengurangan penyebaran covid elshintaedisipagi coronavirusoutbreak http co twpt giy u', 'kebijakan belajar dari rumah bekerja dari rumah dan beribadah di rmh perlu teru untuk kita gencarkan utk mengurangi tingkat penyebaran covid dgn tetap mempertahankan pelayanan kepada masyarakat baik itu urusan kebutuhan pokok layanan kesehatan dan layanan publik lainnya http co bhzw ydh', 'melihat kebutuhan internet di kala covid yang mendorong belajar dari rumah sempat mengkhawatirkan sejumlah warga anggota fraksi nasdem dprd dki jupit bergega memberikan bantuan wifi grati di beberapa titik di jakarta barat dpwnasdemjkt nasdem fraksinasdemjkt http co zqpzfabw w', 'dalam rangka adaptasi kebiasaan baru dari pandemi covid polr cianjur peduli bidang pendidikan polr cianjur membuat inovasi dengan meminjamkan handi talki agar mempermudah prose belajar di rumah wujudkepedulianpolri http co ybdk uurh', 'bantuan modem internet grati dari polda metro jaya untuk siswa siswi smp sd agar belajar secara line dari rumah di masa pandemik covid http co cukmeooddj', 'di tengah pandemi covid tiga orang mahasiswa di pasuruan jawa timur yang tengah belajar di rumah mengisi waktu luangnya dengan memproduksi abon dari pepaya muda produk camilan ini mendapat respon positif ad fithealthytasti http co kidiapgjx fitbar http co bnl ntj uo', 'pandemi covid yang melanda indonesia memunculkan beragam reaksi masyarakat pandemi memaksa kita untuk beraktivita dari rumah belajar bekerja berdagang berkreasi bermain dan banyak hal lain yang bisa dilakukan di rumah rekampandemi http co ccyzoj jh', 'haiii semuanya salam sehat selama pandemi covid telah terjadi perubahan besar terhadap aktivita kita termasuk rutinita yang dilakukan terpaksa haru belajar dari rumah akibat penerapan physic distanc ini kini lebih banyak menghabiskan waktu di depan gadget http co ocxxd tkn', 'covid memaksa banyak orang haru bekerja belajar dan beribadah pun dari rumah meski dalam kondisi demikian jangan lupa untuk tetap mandi bersih bersih diri yang pasti biar bekerjadarirumah haru tetap gaya ya salam bekerjadarirumah lawancovid http co scuiqdj c', 'hari pendidikan nasion tahun ini tentu berbeda karena kita masih berada dalam masa pandemik covid mari maknai hardikna yang diperingati sebagai hari lahir ki hajar dewantara dengan semangat kekitaan untuk tetap belajar sebanyak banyaknya dari rumah hardikna http co f inmuht', 'selamat hari pendidikan nasion pendidikan merupakan upaya untuk memajukan budi pekerti dan kesempurnaan hidup dalam pandemi covid mendikbud ri mengajak kita semua untuk lebih kreatif dan inovatif gat belajar meski belajar dari rumah hardikna belajardarirumah http co mhggap', 'ikuti teru program belajar dari rumah sebuah program persembahan kemdikbud ri dan tvri dalam rangka menjamin keberlangsungan program belajar mengajar selama pandemi covid belajardarirumah indonesiamelawancovid http co u nwbnwrpz', 'sahabatdisdik teman teman kita dari smpn mengajak kita untuk tetap patuh dan tetap mengikuti anjuran pemerintah dalam rangka penanganan covid ini yuk tetap dirumah aja belajar bekerja dan beribadah dari rumah sebagai bentuk kepedulian kita dengan sesama jaki http co qojycvb l', 'kementerian pendidikan dan kebudayaan ri teru mendukung pembelajaran jarak jauh di masa pandemik ini sebagai upaya dalam memutu mata rantai penyebaran covid di indonesia saksikan program belajar dari rumah mulai senin april setiap hari hanya di tvri isbibandung http co q r zdsmp', 'sejak memberlakukan penerapan kebijakan belajar dan bekerja dari rumah mencegah penyebaran covid di indonesia usaha transportasi berbasi onlin yang mendapat imba yang cukup besar simak ulasannya dalam insight desianwar besok pukul wib hanya di transvisionid http co tcnwwi vb', 'pada masa covid indonesia membutuhkan kita patriot merah putih untagsurabaya untuk bekerja belajar dan ibadah dari rumah stayathom dan physicaldistanc untuk melakukan aktivita di rumah mari optimi indonesia bisa http co kpvrqlttdi', 'sahabat selama masa pandemi ini hindari kontak fisik sebisa mungkin seperti mengubah cara bersalaman atau juga menjaga jarak sahabat dengan orang di sekitar selain itu yuk mulai bekerja dan belajar dari rumah guna mengurangi kemungkinan penyebaran covid http co lpxhrx cmo', 'mari belajar dari italia mulai dari sendiri untuk kita semua covid seharusnya tak jadi masalah jika kita tak menganggapnya remeh mulai dari hal sederhana cuci tangan dan isolasi diri di rumah pergi keluar jika perlu saja jaga kesehatan dan kebersihan stay safe kawan http co hesstmla', 'yuk temani anak anak belajar di rumah selama mereka tidak ke sekolah larena covid ini tip dari japelidi japelidilawanhoakscovid bersamalawancorona japelidi http co n yrgqubbf', 'kemendikbud menerbitkan surat edaran nomor tahun tentang pedoman penyelenggaraan belajar dari rumah selama masa darurat penyebaran covid cnnidaft http co ns oyeyjew http co cnbmfjast', 'sahabat konservasi berikut ini salah satu video kegiatan anak keluarga besar balitek ksda bernama hanifa zakiyah ramadhani yang biasa dipanggil nifa nifa merupakan siswi sdit al auliya ii balikpapan dan saat ini haru belajar dari rumah karena pandemi covid http co nmbgv xl', 'wabah covid telah memaksa masyarakat untuk melakukan aktivita di rumah baik itu bekerja dari rumah maupun belajar di rumah adanya wabah ini adalah terkait persoalan dan penanganan sampah ityyogyakarta tekniklingkungan covid dirumahaja iti yogyakarta http co hpwigclv v', 'di masa pandemi covid sekarang ini bekerja belajar dan beribadah pun dirumahaja jangan khawatir sensu penduduk tetap dapat dilakukan secara onlin dari rumah hingga mei di http co ntqyt okt dirumahaja sensuspenduduk mencatatindonesia http co zf ibgj ya', 'belajar dari covid belajar di rumah belajar menahan ego belajar bersabar belajar memanfaatkan situasi utk aktifita positif berbagi dgn sesama amp sale mendoakan selamat hari pendidikan nasion hardikna kitabosowa bosowasemen berdirikerasdankuat ramadhan h http co xtzbrxpb', 'hai orang tua murid membacakan cerita ramadan adalah program baru dari http co bdweh yang dibuat khusu untuk menemani kegiatan bermain dan belajar orang tua bersama anak selama bulan puasa yang dalam kondisi pandemi covid pasti akan lebih sere bersama di rumah http co ogdjsubugc', 'mari sahabat sonora kita lawan covid dengan menjaga jarak belajar bekerja dan beribadah di rumah kita putuskan rantai penyebaran viru indonesia bisa lawan covid ini tip dari julianjac selama dirumah beritasonora radiosonora sonorafm kabarbaik http co llfosmuubr', 'hai perempuan hebat mari kita sale mengingatkan satu sama lain untuk melakukan pencegahan agar rantai penyebaran viru corona covid terputu dengan cara jaga jarak social distanc belajar ibadah dan bekerja dari rumah saja amandirumah medialawancovid mytv http co icxblqpxud', 'pernyataan walikota cimahi ajaympriatna tentang siswa atau pelajar yang belajar di rumah berkenaan dengan kondisi terkini penyebaran viru covid di jawa barat melihat perkembangan dari viru covid viru http co k gfb mteu http co mw w x', 'dalam rangka akb dari pandemi covid polr cianjur peduli bidang pendidikan dimana sekarang prose kbm melalui dare polr cianjur membuat inovasi dengan meminjamkan ht milik bhabinma kepada guru dan murid agar mempermudah prose belajar di rumah wujudkepedulianpolri http co rr sgueyxx', 'persembahan lagu rumah kita dari murid kela dan serta guru bahasa di scott head public school nsw untuk siswa siswi yang saat ini masih belajar di rumah agar menjadi penyemangat belajar di tengah pandemi covid semangatbelajar bahasaindonesiadiau http co abdvqqq l', 'jokowi karya peserta didik saya sman jakarta dalam upaya membantu penyampaian informasi covid kepada teman teman sekolah dalam tuga berkelompok belajar dari rumah c http co k fg eoi z', 'saatnya kita kerja dari rumah belajar dari rumah ibadah di rumah presiden jokowi informasi seputar covid silahkan kunjungi http co rfkmaa fi infopublik gprindonesia viruscorona covid lawancovid dirumahaja sumber foto antarafoto publikinfo http co hyrcdyfbj', 'dunia pendidikan saat ini sedang menggeliat selepa dari pandemi covid yang beberapa waktu mewabah di indonesia percepatan dalam bidang pendidikan menjadi dipandang perlu demi mengejar ketertinggalan bupati pesawaran dendi ramadhona http co goygfip', 'dunia pendidikan saat ini sedang menggeliat selepa dari pandemi covid yang beberapa waktu mewabah di indonesia percepatan dalam bidang pendidikan menjadi dipandang perlu demi mengejar ketertinggalan bupati pesawaran dendi ramadhona http co mdwn ze pu', 'guru adalah sumber kekuatan bangsa dalam memajukan sdm unggul terlebih di masa pandemi covid saat ini peran guru dalam mengaw pendidikan menjadi pilar utama dalam mencerdaskan kehidupan bangsa selamat hari guru nasion bergerak dengan hati pulihkan pendidikan http co tlg srf', 'bantu rt halo teman ada banyak anak yatim baru akibat covid yang masih memerlukan bantuan jangka panjang buat pendidikannya tahap satu santunan sudah disalurkan dan saat ini sedang persiapan untuk bantuan pendidikan bantu yuk di sini http co hkmawycgci', 'perlindungan anak saat pandemi mencakup kebutuhan kesehatan pendidikan dan perhatian puan maharani meminta anggaran covid digunakan utk perlindungan anak saat pandemi cukupi kebutuhan pendidikan mereka berilah makanan cukup gizi siapkan lingkungan yg aman dan nyaman http co cgkup yred', 'saat jenasah alm bapak yang berpulang karena covid di sholatkan oleh cucunya yang mengenyam pendidikan di salah satu pesantren sementara anak beliau yang nasrani mendaraskan doa dari kejauhan di pelataran rumah sakit stayhealthi coviditunyata http co h iv erqmg', 'dalam hidup kita tidak boleh berhenti untuk menuntut ilmu bahkan dalam keadaan seperti saat ini pun kita haru tetap semangat belajar pandemi covid jangan menyurutkan semangat kita untuk menambah ilmu dan memperoleh pendidikan selamat hari pendidikan nasion mei http co rhbwzifslh', 'saat ini situasi negara sedang tidak baik covid naik teru ekonomi resesi sistem pendidikan terganggu hidup rakyat sedang susah hutang negara menggunung bencana alam dll semestinya seluruh elemen diajak bersatu mengatasinya bukan tambah masalah', 'generasi corona sebutan itu sangat menggambarkan kondisi pendidikan saat ini akibat pandemi covid pembelajaran maupun pelatihan keahlian generasi didik mengalami disrupsi di saat yang sama ancaman kecanduan gadget mengintai anak anak tonton di mmc http co opemtid dp http co sov hmmpa', 'selamat siang sahabat kami partai demokrat selalu peduli terhadap dunia pendidikan karena itu di saat pandemi covid yang masih melanda negeri tercinta ketum demokrat menyampaikan pesan untuk para pelajar indonesia simak pesan ketum agusyudhoyono berikut http co zvajaeqhm', 'dalam forum cendekia kela dunia tahun bertemakan penguatan kolaborasi riset dan pendidikan untuk penciptaan inovasi indonesia saya kembali menekankan foku pemerintah saat ini adalah menangani pandemi covid dan dampak sosial ekonomi yang ditimbulkan http co j jeg f', 'nawakngalam sebagai bentuk kepedulian kepada mahasiswa rantau yang terdampak pandemi covid saat menempuh pendidikan di kota malang pemerintah kota malang melakukan langkah nyata dengan memberikan bantuan sebesar rp kepada perguruan tinggi jumat http co rr bgtmyui', 'anggaran sebesar rp disetujui kementerian keuangan amp saat ini sudah ada di dipa kementerian agama anggaran ini untuk membantu puluhan ribu pesantren amp ratusan ribu lembaga pendidikan keagamaan islam terdampak covid semoga pandemi covid segera berlalu aamiin http co kjyrurx', 'chri gault seorang dokter muda yg kini mjd anggota ordo dominikan di irlandia saat covid utk sementara ia mjd dokter lagi amp membantu menangani pasien covid di rs mater misericordia belfast irlandia utara kini chri kembali ke dublin amp melanjutkan pendidikan imamatnya http co jl gtrg', 'syaikhul munib mahasiswa pascasarjana iain tulungagung ini selesaikan disertasinya strategi peningkatan mutu pendidikan pada satuan pendidikan berprestasi studi multikasu pada man arif nu kota blitar saat jalani isolasi covid simak http co jzuvlctklx', 'saat ini masih berlangsung rapat kerja antara kementerian agama dengan komisi viii dpr di gedung dpr senayan jakarta usai raker rencananya akan diumumkan panduan penyelenggaraan pembelajaran pada pesantren dan pendidikan keagamaan di masa pandemi covid http co fbvx gdtpr', 'pemerintah saat ini foku menangani pandemi covid tapi agenda strategi yang berdampak besar bagi kehidupan rakyat haru tetap berjalan misalnya agenda di bidang pendidikan peningkatan kualita sumber daya manusia hingga kesehatan http co oh c p zx', 'barusan telah selesai webinar dengan tema tantangan penyelenggaraan pendidikan saat pandemi covid yang diadakan upt kemendikbud prov di yogyakarta tadi mengisi acara bersama sekda pemprov diy pak baskara aji http co g vx k e', 'ui berkomitmen memberikan kontribusi bagi dunia pendidikan indonesia terutama ketika kita semua menghadapi masa sulit akibat pandemi covid seperti saat ini kontribusi yang diberikan ui melalui aktivita inovasi riset dan pengabdian masyarakat http co xs yggbmgg', 'dina pendidikan jatim telah melakukan banyak langkah dan program inovasi untuk menyelesaikan persoalan learn loss saat pandemi covid http co uzzlprv', 'dina pendidikan jatim telah melakukan banyak langkah dan program inovasi untuk menyelesaikan persoalan learn loss saat pandemi covid http co tgidcoslcd', 'itheunk rmsigaling yurissa samosir bospurwa kalau elo goblok jangan asal komentar intelektu dan pendidikan elo pastinya taraf sd ya hahahaha baca iti berita yang dimuat media cnn saat ini juta korban covid yang terjadi di negara china elo kagak usah banyak koment kalau tidak punya data otentik', 'akhirnya pendidikan udah slesai dan dia ditugaskan di p da makassar dan saat itu udah tu ke aku sama dia aku pda saat itu bru semest pada sat itu lagi musim covid jdi aku kuliah onlin yg mengharuskan aku tnggal dirumah jdi plng kampung', 'dari repli nya dan keresahan ke generasi pendidikan covid kayanya kita mirip banyak negara asia maju dan mundur di saat bersamaan', 'http co urblgfx e', 'pendidikan kesehatan amp ekonomi termasuk yang pale gonjang ganj karena covid tetapi pak jokowi termasuk berhasil membuat sektor ini stabil dengan beberapa kebijakan yang dibuat saat itu jokowi pulihkan krisi publikpua http co xlufnkk qf', 'penurunan kualita pendidikan juga dirasakan oleh para peserta didik di indonesia berdasarkan data badan pusat statistik bp saat ini ada setidaknya juta siswa indonesia yang bersekolah di tengah pandemi covid', 'sampai saat ini covid belum selesai kita jangan sampai lelah mulai dari stakehold dina pendidikan sampai dina kesehatan merupakan ujung tombak untuk tetap selalu waspada masyarakat turut serta dalam pencapaian vaksin booster tangkalcoviddenganprok http co vtquw f', 'tanpa diberi waktu yang banyak untuk kedua orang tua dikarenakan pandemi covid pada saat itu saya hanya menyerahkan barang barang yang tidak perlu ada di tempat pendidikan nantinya', 'hi blibliobesti pandemi covid yang dialami oleh seluruh umat manusia tanpa terkecuali ini mengubah banyak hal jujurli lembaga pendidikan formal pun sampai saat ini belum sepenuhnya keluar dari badai pandemi kerapkali ada guncangan', 'covid menyebar via aerosol di udara seperti asap rokok netizen covid nyebar via asap rokok itulah kenapa read comprehens saat pendidikan dasar sangat pent tingkat literasi masih sangat rendah', 'saat ini angka kasu covid kembali meningkat dan dunia pendidikan kembali khawatir kasu ini menyebar ke siswa http co dfsynxmrm', 'l attent bonjour teman teman mahasiswa pendidikan bahasa pranci mengingat kasu covid yang akhir akhir ini meningkat mari kita tingkatkan lagi protokol kesehatan saat berada di tempat umum terutama di wilayah kampu http co zugvm ujl', 'fjrillahi kalo menurut pendapat gw sih yg pertama kali kudu di check itu kaya gimana ortunya ngedidik anaknya karna pendidikan mor dan etika itu sepenuhnya tanggung jawab ortu di rumah apalagi saat jaman covid seharusnya lebih mudah buat ortu ngontrol etika dan moral anaknya continu', 'collegemenfess skripsi anak pendidikan era pandemi dengan meluasnya viru covid dan adanya pemberlakuan pembatasan kegiatan masyarakat maka dengan ini pembelajaran tatap muka diganti menjadi pembelajaran dare hal tersebut merupakan suatu tantangan bagi dunia pendidikan untuk saat ini', 'mutu pendidikan di daerah sudah kembali ke angka jd pada saat pandemi covid mutu pendidikan di angka dan sekarang sudah karena sudah mulai normal', 'menteri pendidikan kebudayaan riset dan teknolog mendikbudristek nadiem makarim positif terpapar covid hal itu dinyatakan nadiem saat mengikuti rapat kerja dengan komisi x dpr ri secara virtual selasa http co pgi yjjay', 'andisinulingga teru photo yg elo post apa ada efeknya utk kebutuhan hidup masyarakat menteri pendidikan yg sekarang bukan rektor beliau mampu bekerja saat covid terjadi selama tahun bandingkan dgn mantan rektor saat menjadi menteri pendidikan dan langsung dipecat', 'menteri pendidikan nadiem anwar makarim mengatakan pandemi telah membawa momen refleksi bagi sistem pendidikan pandemi covid telah membawa momen refleksi kepada berbagai pihak mengenai tantangan sistem pendidikan yg dihadapi dunia saat ini jokowi gaspol pendidikan http co r gxoicsm', 'nasib pendidikan saat pandemi covid http co ugz ikgco http co wz tbqw', 'presiden jokowi mengakui bahwa pandemi covid telah ikut mempercepat terbentuknya pola pendidikan yang berbasi teknolog untuk itu saat ini indonesia haru bisa menjadi bagian dari produsen teknolog transformasi digit indonesiaroadto g kemkominfo platejohnni http co srp jvyvpr', 'satuan pendidikan di tingkat paud hingga sd tak memaksakan diri untuk menggelar pembelajaran tatap muka sebab hingga saat ini belum ada vaksin covid yang bisa disuntikkan kepada kelompok umur di bawah tahun http co j kwzu sqv', 'pk mengkritisi ruu tentang ibu kota negara kami memberikan catatan agar pada saat ini kita jangan dulu membaha ruu tentang ibu kota negara ungkap aleg fpk lediahanifa http co xhmkg hro', 'tiap sy foto outdoor semua di dlm domain pendidikan artinya sy foto saat antar anak sekolah musik antar terapi logopedista amp neuropsichiatria krn di italia pendidikan sd amp inform tetap berjalan dgn protap ketat bukan nekat jln piknik ky warga ngehek pa covid longgar http co oansqcboi', 'upaya mencetak sdm indonesia yang unggul tak boleh surut dan berhenti meski dilanda pandemi covid presiden jokowi memandang bahwa situasi pandemi saat ini justru merupakan momentum tepat untuk memperbaiki ekosistem pendidikan nasion http co ssc aegxlp http co udmr w p p', 'menurut kang wahyuwijaya bantuan wifi grati ini wujud kepedulian partai demokrat terhadap pendidikan yang digaungkan melalui instruksi ketum agusyudhoyono dalam bentuk gerakan nasion partai demokratwifigrati guna membantu pembelajaran jarak jauh saat pandemi covid http co qwwrzp pu', 'pelayanan pendidikan saat covid http co xpu msqr http co ful ixu', 'gerakan nasion demokrat wifi grati ini dilkasanakan serentak di seluruh indonesia sebagai bentuk kepedulian demokrat terhadap dunia pendidikan di mana saat ini para siswa sekolah diharuskan mengikuti pembelajaran jarak jauh pjj akibat pandemi covid wifigratisdemokrat http co rhxsxq', 'saran aja kalau pemerintah punya mau para dokter perawat dan tenaga medi lainya korban tertular covid yang wafat saat berjuang membantu pasien bukan hanya bintang jasa yg diberikan tapi pendidikan biaya grati bagi anak anak mereka yg ditinggalkan', 'salah satu yang gak seru dari pendidikan onlin di rumah adalah gak dapet pelajaran kosong inilah pelajaran yang juga salah satu saat silaturahim terseru di sekolah semoga covid segera hilang sehingga anak anak kita kembali merasakan nikmatnya pelajaran kosong hensat', 'pendidikan di saat covid seharusnya di eveluasi menyeluruh untuk mengurangi jumlah pelajaran bagi tingkat sd smp smu politeknik amp universita pelajaran mengacu perkembangan industri amp ilmu pengetahuan giatkan guru atau dosen tamu dari kalangan pakar praktisi sebulan sekali http co ofrbhj gbo', 'dirut pln erickthohir men kemenbumn mhn dipertimbangkan listrik untuk lembaga pendidikan saat pandemi covid utk diberikan potongan mengingat penerimaan turun drasti krn mhsw siswa yg tdk mampu bayar cukup besar yy pendidikan memberikan keringanan agar dishar jg', 'saat ngopi bareng lalu rg bilang dokter yang meningg saat menangani pandemi covid bukan meningg karena covid tetapi karena kebijakan yang buruk selengkapnya di http co dk wqhrpau dan sampai ketemu kami mei tema pendidikan bersama prof fizfirmanzah hensat http co swewcek kv', 'sahabatmatika dalam rangka memperingati hardikna pada pekan pendidikan jogja ke upt kemdikbud diy akan menyelenggarakan webinar dgn tema tantangan penyelenggaraan pendidikan saat pandemi covid sabtu mei untuk lebih detailnya silahkan lihat di gambar http co kxvsaisr', 'jika bu sri mulyani mengatasi defisit dengan gunkan dana abadi pendidikan miri korbanx pasti penerima beasiswa lpdp amp sebagian sekolah yg disubsidi saat covid memukul pendapatan ekonomi rakyat maka wajar jika mendikbud gratiskan biaya pendidikan slama semest', 'saat ini kegiatan belajar mengajar dalam dunia pendidikan telah diperpanjang oleh pemerintah hingga penyebaran viru covid menurun bumnuntukindonesia bumnatasicorona untukindonesia selaluada http co tour p r', 'lagi lagi pesantren adalah tempat yg tidak terpengaruh dengan kebijakan yg berkaitan dengan pendidikan saat covid haru onlin pesantren masih tatap muka saat kebijakan sekolah hari pesantren juga masih sama dgn jadwalnya', 'pendidikan saat pandemi covid haru utamakan kesehatan dan psikolog anak http co pp l loxhc', 'ani baswedan memberikan beasiswa pendidikan kepada anak nake yang gugur saat menangani covid total ada anak yang tahun ini menerima http co qginmcrjpz', 'ning ita puspitasari walikota info mojokerto berbagi situasi pendidikan saat pandemik covid fjpindonesia x idntim http co dayv aknp', 'live webinar hut ke idn time agasemangat dunia pendidikan saat covid youtub http co vl h rcoq facebook http co osfg j http co py k sbkbl', 'pendapatan sehingga rm sebulan malah disediakan penginapan yang selesa dengan kemudahan asa serta pendidikan anak anak juga terjaga di saat rakyat malaysia kurang pekerjaan akibat pandemik covid inilah peluang yang terbaik komunikasikita jabatanpenerangan', 'benar hancur dunia kampu dn pendidikan dgn keberadaan pandemi covid yg sampai saat ini masih belum berkurang serta korupsi berjamaah dana banso dn di lembaga bumn lainnya pkihancurkanindonesia pkihancurkanindonesia http co lgfromsaw', 'guru besar undiksha singaraja kritisi prose pendidikan saat covid pakar pendidikan dan guru besar dari universita pendidikan ganesha undiksha singaraja kabupaten buleleng bali prof dr wayan lasmawan pd mengkritisi prose pendidikan http co nwvu qi http co uhkbcgleu', 'babinsa koramil tempul ini upaya kita untuk peduli pendidikan saat pandemi covid http co c ihrbmqgt http co srooytrx', 'webinar prodi magist pendidikan matematika tentang penelitian pada saat covid jambi webinar nasion prodi magist pendidikan matematika unja dengan tema penelitian pada saat covid berlangsung pada kami kegiatan dibuka oleh dr ir noferdiman p wakil http co ie hbj', 'pendidikan saat pandemi covid nadiem apresiasi usul komisi x dpr http co piytzxayyh http co ryxqhfuem', 'febiuinsauntukindonesia masyarakat indonesia masih juga berjuang untuk memulihkan kembali kehidupan secara normal baik perekonomian pendidikan juga infrastruktur pasca pandemi covid dampak dari pandemi covid juga masih dirasakan hingga saat ini', 'bagi yg berada di zona hijau amp mulai kegiatan sekolah tatap muka tetap waspada jgn lupa pakai masker amp jaga jarak bagi yg ada di pelosok amp hingga saat ini msh berada di zona rawan covid namun masih kesulitan melakukan pendidikan jarak jauh semoga bisa segera ada jalan keluar', 'namun saat pandemi covid melanda seluruh negeri hingga berakibat pada terjadinya pembatasan interaksi antar sesama manusia yang dalam kasu sektor pendidikan ini seluruh kegiatan belajar mengajar secara tatap muka dihentikan total', 'strategi kampu optimalkan penerimaan dana mahasiswa melalui bantuan dana pendidikan saat covid http co lrukkloj http co zrcgpnpdu', 'ga gitu juga mbakk istri saya dekat dengan guru sd anak saya yg nasrani sale menguatkan dan mengingatkan beliau dekat dan peduli dgn pendidikan anak saya saat beliau berduka kehilangan suaminya karena covid kami menguatkannya', 'pembelajaran tatap muka saat pandemi covid perlu dibarengi kesiapan satuan pendidikan dalam memastikan kesehatan siswa revitalisasi usaha kesehatan sekolah diperlukan untuk memperkuat promosi kesehatan warga sekolah dikbud adadikompa http co basuynpvd', 'wajah pendidikan di pelosok saat pandemi covid http co glrdvuj tv', 'pembelajaran tatap muka saat pandemi covid perlu dibarengi kesiapan satuan pendidikan dalam memastikan kesehatan siswa revitalisasi usaha kesehatan sekolah diperlukan untuk memperkuat promosi kesehatan warga sekolah dikbud adadikompa http co flrfngwrmm', 'selamat memperingati hari pendidikan nasion saat pandemi covid sekolah perempuan muda pulau sabutung pangkep sulsel membantu anak sekolah yg kesulitan mengerjakan tuga sekolahnya silahkan simak videonya http co znitdzghtw sekolahperempuanpulau hardikna http co k ffnd jf', 'pembelajaran tatap muka saat pandemi covid perlu dibarengi kesiapan satuan pendidikan dalam memastikan kesehatan siswa revitalisasi usaha kesehatan sekolah diperlukan untuk memperkuat promosi kesehatan warga sekolah humaniora adadikompa http co jm mku', 'muslim indonesia mengaku semua atau sebagian besar teman terdekatnya adalah sesama muslim persahabatan antar umat langka dan kalau kita percaya hipotesi kontak yang teruji secara empirik ada hubungannya dengan toleransi dan diskriminasi http co em l g', 'hai sobat dikpora di era pemulihan pasca pandemi covid saat ini pembelajaran di satuan pendidikan tidak bisa dilepaskan dari penggunaan gadget hal ini tentu saja menjadi kekhawatiran tersendiri bagi orang tua http co nefgoqjjlh', 'target pendapatan itu haru tercapai meskipun pandemi covid ui tetap berupaya menyelenggarakan prose pendidikan berkualita dan mencapai peringkat berkela dunia ini semua memerlukan kerja kera dan biaya yang tidak sedikit baiklah kami coba sesuaikan suc ui saat ini', 'dunia pendidikan diuji saat pandemi covid http co oshg cq vstori', 'nada bicara sri mulyani sempat meninggi saat merespon kabar boikot pajak terutama ketika menjelaskan bahwa pajak merupakan sumber dana untuk membiayai pendidikan masyarakat penanganan pandemi covid hingga pembangunan', 'saat ini semua bcr dampak negatif covid hampir tdk ada yg bicara dampak positif covid tulisan ini coba ungkap dampak positif covid bagi dunia pendidikan misalnya para ilmuan tdk boleh sombong dan mr hebat krn viru ini belum ditemukan obatnya http co zckay ig', 'mendikbud terbitkan se pelaksanaan kebijakan pendidikan saat covid http co mm sakqvpd http co yczdiz eru', 'mendikbud terbitkan se pelaksanaan kebijakan pendidikan saat covid http co ni ybrwttl http co nrqtj ldak', 'halo mb puti mohon maaf menyela twit yg mb like kebetulan beberapa kali muncul di timelin saya sehubungan dgn covid mungkin bisa dibaca ulasan bagu dari kakak kela saya indyrin yg saat ini menempuh pendidikan di kobe http co xj oq', 'penundaan pemulihan pendidikan akibat pandemi covid diperkirakan bisa merugikan kekayaan generasi anak sekolah saat ini sekitar triliun dolar untuk itu pemulihan dengan pembelajaran tatap muka sangat urgen dikbud adadikompa http co pmorj bgq', 'penundaan pemulihan pendidikan akibat pandemi covid diperkirakan bisa merugikan kekayaan generasi anak sekolah saat ini sekitar triliun dolar untuk itu pemulihan dengan pembelajaran tatap muka sangat urgen dikbud adadikompa http co pbzl higjh', 'keringanan ukt halo warga sosiolog pada pandemi covid saat ini banyak mahasiswa yang keberatan membayar ukt dikarenakan keadaan ekonomi serta kuliah onlin yang membutuhkan kuota banyak maka dari itu kementerian pendidikan dan kebudayaan memberikan keringanan ukt http co ds io ij', 'menteri pendidikan yang kemarin membagikan kuota untuk pelajar saat pandemi covid sekarang lagi ulang tahun yg ke loohh hbd nadiem http co aosqvlmwn', 'pemulihan pendidikan saat ini difokuskan untuk mengatasi ketertinggalan pembelajaran atau learn loss yang terjadi bukan hanya karena pandemi covid melainkan sudah terjadi selama tahun terakhir dikbud kompa http co xnaxd hgz', 'narasi indonesia ema seperti yang kita ketahui saat ini regulasi regulasi yang berkaitan dengan pembatasan kegiatan akibat covid telah mulai dilonggarkan hal ini juga akan kembali berdampak salah satunya pada bidang pendidikan', 'kasu harian covid di dki jakarta tembu angka kasu pada hari ini membuat gubernur dki jakarta ani baswedan menjadi khawatir dengan kondisi saat ini mantan menteri pendidikan nasion tersebut meminta warga jakarta lebih mengoptimalkan pemakaian masker di luar ruangan', 'hal ini semakin terasa saat pandemi covid melanda seluruh dunia dan memaksa sektor pendidikan untuk berjalan secara dare', 'athia yumna wakil direktur bidang penelitian dan penjangkauan smeru research institut akan memaparkan studi tentang pendidikan jarak jauh saat pandemi covid yang didanai ksi studi ini berhasil memengaruhi penyusunan kebijakan di kemendikbud', 'dua tahun sepanjang tempoh pandemik covid adalah saat pale sukar buat kementerian pendidikan kpm kata menteri kanan pendidikan datuk dr radzi jidin beliau berkata ia berikutan tempoh itu tidak pernah dilalui oleh mana mana menteri dan menjadi sejarah negara http co wuofvjskp', 'sejarah bangsa indonesia dr hingga ini pemerintah saat ini sdg berusaha kera membuat landasan agar pendidikan perekonomian rakyat bergerak maju secara bertahan mendpt hambatan munculnya wabah covid perlu kerja lebih cerda amp dukungan penuh dr seluruh rakyat', 'dilema pendidikan di saat covid http co tmlsh rsdv', 'menteri nadiem buka bukaan soal pendidikan saat pandemi covid http co aamxgfo', 'walikota jaga kualita pendidikan saat pandemi covid http co fka ple te', 'walikota jaga kualita pendidikan saat pandemi covid http co p jaei u', 'pendidikan saat covid bupati dharmasraya perlu kolaborasi pusat dan daerah http co fvoesvoq', 'kreativita menjadi kunci bagi wawan mendampingi anak berkebutuhan khusu agar tetap mengeyam pendidikan seutuhnya saat pandemi covid kebiasaannya berkreasi mengurangi beban anak berkebutuhan khusu sosok adadikompa http co jjffnwk sl', 'lagu kesadaran seorang anak adalah yang pale pa untuk mengingat kembali masa masa saat di madrasah muallimin jogja http co kxzfdzpcal muhammadiyah pendidikan covid', 'bachok dua tahun sepanjang tempoh pandemik covid adalah saat pale sukar buat kementerian pendidikan kpm kata menteri kanan pendidikan datuk dr radzi jidin http co qsoebtiof', 'anggota komisi x dpr kunjungi pemkab tangerang pantau program pendidikan saat covid http co x bj h', 'pengaruh teknolog pendidikan di indonesia pada saat pandemi covid http co urr nbrlb', 'pandemi covid saat ini membuat seluruh instansi pendidikan mengadakan pembelajaran jarak jauh pjj yang mengharuskan mahasiswanya untuk berkuliah melalui laptop atau handphon dengan berbagai platform seperti zoom meet googl meet googl classroom ataupun sebagainya http co aj kuyytwv', 'nak orang tuamu kepayahan saat covid kerja susah usaha tak seperti biasa untuk biaya pendidikan dan isi perutmu itu kamu malah bertindak arogan seolah ketololan adalah nama tengah mu', 'guru berperan pent tiktok prioritaskan konten pendidikan saat pandemi covid http co asyan r', 'di halal dikata katain http co n yeajfni', 'hari pendidikan nasion walau pandemi covid ini belum berakhir pendidikan yang layak dan maju perlu didapatkan oleh seluruh generasi peneru negeri ini jangan sampai keterbatasan yang terjadi saat ini mematahkan semangat untuk teru belajar http co opmdtdf', 'peduli pendidikan saat pendemi covid polr siak siapkan internet grati bagi pelajar http co r dmlpxmz', 'hal ini bertujuan agar sergai cepat pulih dari viru covid dan semua masyarakat bisa beraktivita kembali seperti biasanya selain itu pembangunan infrastrukur jalan pertanian pendidikan kesehatan dan program lainnya merupakan program yang sedang berjalan saat ini', 'jika aku menjadi menteri pendidikan saat masa pendemik covid ini liat kondisi fasilita ini daripada bingung rubah persentas pencapaian setiap matpel saatnya manfaatkan waktu panjang ini untuk meningkatkan keterampilan membaca berbicara dan menuli anak indonesia dulu', 'pendidikan kunci meraih kemajuan pada saat covid tidak boleh berhenti belajar justru dimanfaatkan untuk menimba ilmu sebanyak banyaknya guna mempersiapkan diri daftar ke uic untuk mempersiapkan diri menggapai masa depan gemilang http co znf xq sky', 'donadam menteri pendidikan bukan tempat yang tepat untuk nadiem saat pandemi covid dengan pendidikan onlin rakyat butuh kehadiran negara untuk memfasilitasi sarana yang dibutuhkan jangan sampai siswa tidak mampu berhenti bersekolah', 'dinilai tak seriu uru pendidikan saat pendemi covid azyumardi azra nilai raport nadiem makarim merah http co iuil gfdkg http co b v zpv tg', 'ini panduan untuk pesantren dan pendidikan keagamaan saat covid http co cglolavvw http co ykxynzmjf', 'potret pendidikan indonesia saat covid melanda http co fxbg lhu l', 'di saat sulit pandemi wabah covid nafkah guru malah dipotong potong kata fikri selasa politisi pk ini menyoroti pemotongan khususnya di sektor pendidikan tunjangan guru malah dipotong hingga triliunan rupiah ujarnya http co wopzn erj', 'mendikbud terbitkan se pelaksanaan kebijakan pendidikan saat covid http co wogzhn aq', 'beberapa dekad terakhir kemajuan besar telah dicapai melalui kerjasama dgn berbagai pihak utk meningkatkan aks pendidikan bg penyandang autism namun saat pandemi covid muncul di thn sebagian besar negara mengambil langkah utk menutup sekolah amp mengubah metod belajar', 'walikota jaya negara menerangkan bahwa meski dalam situasi pandemi di kota denpasar yang telah melandai namun dalam dunia pendidikan dengan kondisi covid saat ini masih belum bisa berjalan normal', 'krn pandemi covid telah membawa momen refleksi kepada berbagai pihak mengenai tantangan sistem pendidikan yang dihadapi dunia saat ini g bersamaindonesia', 'mendikbudristek ri nadiem makarim mengatakan pandemi covid telah membawa momen refleksi kepada berbagai pihak mengenai tantangan sistem pendidikan yang dihadapi dunia saat ini g bersamaindonesia', 'besok saat g akan ada negara dengan agenda utama yaitu membaha pendidikan teknolog digit pendidikan solidarita dan kemitraan dan transformasi pendidikan pasca covid daat ini g bersamaindonesia http co queunpswi', 'pandemi covid telah membawa momen refleksi kepada berbagai pihak mengenai tantangan sistem pendidikan yang dihadapi dunia saat ini ujar nadiem saat membuka g educ work group edwg pada rabu maret http co mempap wlv jokowi ga pol pendidikan http co cw ladlx', 'dina pendidikan dan kebudayaan kota sorong mengatakan meski kasu aktif covid di kota sorong menurun sementara pembelajaran di semua sekolah saat ini mengutamakan penerapan protokol kesehatan tidak ada pelonggaran disiplin proke di sekolah ayovaksincovid http co godncudzm', 'pandemi covid telah membawa momen refleksi kepada berbagai pihak mengenai tantangan sistem pendidikan yang dihadapi dunia saat ini http co lqagwm hmr', 'pandemi covid telah membawa momen refleksi kepada berbagai pihak mengenai tantangan sistem pendidikan yang dihadapi dunia saat ini http co huqor wli', 'pemerintah perlu lakukan inovasi pendidikan saat pandemi covid http co dfccxw xah', 'dr koko tp pendidikan pjj saat covid ini kayaknya gimanaaaaaa gitu dok bnyk yg modelnya kasih tuga via wa kerjain selesai', 'ringankan biaya pendidikan saat pandemi covid mahasiswa venu one tourism academi bayar kuliah dengan buah kelapa http co ic ubn', 'tkk penabur apresiasi para pahlawan pendidikan saat pandemi covid lewat lagu http co ellkekpetd', 'colek kemdikbud ri rt mediacenterjkw prof azyumardi desak mendikbud lebih seriu garap pendidikan saat covid colek pak jokowi http co zezgjhdvf', 'din syamsuddin pendidikan saat covid haru tetap beragenda membangun karakt seperti disuarakan bung karno http co qqbmusbtv', 'din syamsuddin pendidikan saat covid haru tetap beragenda membangun karakt seperti disuarakan bung karno http co upuimac', 'bencana nasion covid lewat intern share session unitomo kupa eksistensi pendidikan saat pandemi covid kuatkitabersinar http co lylr yfwyp', 'intern share session unitomo kupa eksistensi pendidikan saat covid http co cdtatkhl', 'mendikbud terbitkan surat edaran pelaksanaan kebijakan pendidikan saat covid http co spkztwvsi nusantara nkri nasion', 'ini rincian isi surat edaran mendikbud pelaksanaan kebijakan pendidikan saat covid http co p aoczico', 'mendikbudristek nadiem makarim mengatakan pandemi covid telah membawa momen refleksi kepada berbagai pihak mengenai tantangan sistem pendidikan yang dihadapi dunia saat ini pak jokowi ga pol pendidikan http co cxpaloshbd', 'pendidikan masyarakat di saat pandemi covid http co uoi dulmp', 'menurut nadiem pandemi covid telah membawa momen refleksi kepada berbagai pihak mengenai tantangan sistem pendidikan yang dihadapi dunia saat ini http co brbbgrmhf', 'menteri pendidikan kebudayaan riset dan teknolog nadiem makarim mengatakan pandemi covid telah membawa momen refleksi kepada berbagai pihak mengenai tantangan sistem pendidikan yang dihadapi dunia saat ini sumber http co eop uw', 'perempuan yang akrab disapa liani itu menuturkan ia membuka rumah baca itu pada juli saat itu covid sedang merebak di kabupaten manggarai barat hampir semua sektor kehidupan lumpuh termasuk pendidikan region jernihkanharapan http co uejvdfc', 'lpdpren ternyata dengan memanfaatkan teknolog digit yang saat ini ada kita dapat berkontribusi untuk bangkit bersama dalam pemulihan pasca pandem covid recov togeth recov stronger lembaga pengelola dana pendidikan lpdp pk zoraga http co divepygdrq', 'kuliah kerja nyata kkn mandiri pendidikan masyarakat di saat pandemi covid http co otapddegym', 'dina pendidikan dan kebudayaan lampung barat sejak memasuki ppkm level iii lalu atau sejak maret lalu hingga saat ini masih memberlakukan ptm secara terbata yaitu dari kapasita ruangan belajar akibat dampak covid lampungbarat lampungpostid http co irvbzfqnsf', 'tangkapgubernurpenipubaumayat jika itikadnya murni mengapresiasi nake yang gugur saat menangani covid bentuknya bisa berupa santunan bantuan pendidikan anak anak nake sempat polemik nama nake covid wafat diabadikan di jpo pinisi dki http co oniu tjuuu', 'vaksin sangat pent melindungi anak anak kita saat mengikuti pendidikan tatap muka bisa terlindungi dari covid indonesia disiplin proke http co znca mdnd', 'fenomena permasalahan pembelajaran pendidikan agama islam pada saat covid masih banyak sekali hambatan yang dialaminya seperti pada pembelajaran onlin melalui media googl classroom ini banyak sekali siswa yang belum mengerti cara menggunakan googl classroom', 'pendidikan masyarakat di saat pandemi covid http co evqnavibf', 'sekolah kelil ini meluncur dari desa ke desa tiga kali seminggu memberikan pendidikan bagi anak anak miskin di dekat kota tagkawayan saat sekolah ditutup akibat covid kumparannew http co ai darbfkq', 'sekolah sekolah di kota semarang saat ini mulai mempersiapkan pelaksanaan ptm terbata setelah selama dua pekan dilaksanakan pembelajaran jarak jauh pjj akibat kasu covid meningkat dan muncul klaster pendidikan http co hubl cv', 'widyolita betul mba contoh nyata bahwa bukan cuma social bulli tp juga keterbatasan aks ke pendidikan kesehatan bantuan dsb adalah saat covid dan ekonomi terhenti sedikit yg menerima bantuan', 'dina pendidikan kota madiun jawa timur mencatat lima sekolah yang sejumlah siswa guru maupun pegawai lainnya terpapar covid saat dilakukan pembelajaran tatap muka ptm terbata http co ktoqk yee', 'lg covid begini sekolah tidak maksim lagi lagi smpn jayanti tangerang banten pungut buat poto buat apa aja sih uang bo nya sekolah ini bingung juga wali murid saat sulit seperti ini tolong sidak kepala dina pendidikan kabupaten tangerang banten', 'mantan menteri pendidikan nasion ani baswedan menyarankan agar pembelajaran tatap muka terbata tidak begitu di paksakan apalagi saat ini kasu covid di tengah pelaksanaan ptm terbata di sejumlah daerah makin tidak terkendali dan makin banyak jumlah kasusnya saat ini', 'menteri pendidikan nasion nadiem makarim menegaskan bahwa pembelajaran tatap muka terbata tetap berjalan sesuai jadwal meskipun saat ini kasu covid di tengah pelaksanaan ptm terbata di sejumlah daerah di indonesia makin bertambah banyak terparah ada di dki jakarta', 'covid saat ini sedang menempuh pendidikan dan sudah berjalan tahun lebih saat ini covid sedang magang di pt omicron doakan saja covid leka lulu dan wisuda supaya pergi dari dunia ini', 'anggota komisi dprd kota depok supariyono meminta pemerintah kota pemkot depok segera menghentikan ptm di semua jenjang pendidikan mengingat saat ini kasu covid di kota depok sedang mengalami peningkatan kotadepok http co robp lc kf', 'perhimpunan pendidikan dan guru p g meminta pemprov dki jakarta tidak ragu untuk menghentikan sementara pembelajaran tatap muka berkapasita persen di sekolah ia menambahkan saat ini posit rate covid di dki jakarta sudah mencapai persen smartnew kompascom http co pw hjgzia', 'terkait ptm terbata sekretari jender sesjen kementerian pendidikan kebudayaan riset dan teknolog kemendikbudristek suharti menyatakan bahwa kemendikbudristek memahami bahwa saat ini terjadi lonjakan kasu covid di beberapa daerah', 'dina pendidikan dki jakarta menyampaikan laporan terkait temuan kasu positif covid saat pelaksanaan pembelajaran tatap muka ptm persen terbata kumparannew http co pb zil dp', 'perhimpunan untuk pendidikan dan guru p g meyakini bahwa saat ini kasu covid di provinsi dki jakarta tak hanya terjadi di sekolah covid ptm persen omicron jernihkanharapan http co isluhj sm', 'pembagian masker dalam rangka pencegahan viru covid bagi para pelajar yang saat ini sudah menerapkan prose pembelajaran tatap muka ptm secara simboli bantuan masker dilalsanakan di aula dina pendidikan kabupaten sergai di sei rampah', 'kepala bidang pencegahan pengendalian penyakit p p dina pendidikan dki jakarta dwi octavia meyakini bahwa saat ini covid sudah menyebar begitu lua di jakarta ia bahkan mengatakan viru corona sudah ada di lingkaran utama mase mase warga jakarta smartnew http co v xoaokq', 'perhimpunan untuk pendidikan dan guru p g meyakini saat ini kasu covid di provinsi dki jakarta tak hanya terjadi di sekolah http co um bw fqj', 'kampu unm akan buka program studi pendidikan kedokteran begini keseriusannya meskipun pandemi covid masih menyelimuti dunia pendidikan saat ini namun berbagai universita di tanah air tetap http co welkvcjn news kampusunm prodipendidikankedokteranunm', 'pemerintah kota pemkot jakarta selatan saat ini masih menunggu aturan dari dina pendidikan disdik dki jakarta mengenai rencana pembelajaran siswa setelah ditemukan kasu covid http co fklvvowq', 'sebenarnya covid yg pale berbahaya dan menakutkan itu adalah dr beritanya tdk ada sejumlah peneliyian saat ini dalam jangka panjangnya dpublikasikan cuma rakyat cerda curiga tiba landai tiba turun anjlok tiba naik klo rakyat mnim pendidikan masih percaya saja', 'dua pasien omicron yang meningg dunia memiliki penyakit komorbid ini komorbid yang memperparah kondisi mereka http co qxjwtpmmkp', 'menteri pendidikan pranci dikritik karena umumkan aturan covid saat liburan di ibiza nusakini http co ygvqnfur p', 'menteri nadiem makarim memastikan skb menteri soal ptm mengandung antisipasi ancaman peningkatan kasu covid akibat varian omicron skb menteri itu mengakomodasi seluruh skenario aktivita pendidikan saat pandemi juga ketika pandemi sudah melandai jokowi lawan pandemi http co vtxpubacg', 'dina pendidikan disdik dki jakarta teru mendorong vaksinasi pada anak usia tahun terlebih saat ini sedang berlangsung pembelajaran tatap muka ptm dalam keadaan kasu covid varian omikron sedang meningkat sumber http co wr sy cejw', 'pandemi covid yang mulai terjadi pada tahun akhir dan hingga saat ini belum mereda juga berdampak langsung pada sistem pendidikan yaitu mengharuskan sistem ppdb dilakukan secara onlin siap ppdb onlin di indonesia', 'beritasampit waspadai titik kriti penularan covid saat ptm ini kata tokoh muda pendidikan kotim http co btse asmkg sampit tokoh muda pendidikan kotawaringin timur http co eq dnyz qw', 'antisipasi covid varian omicron pemkot sasar dunia pendidikan saat ptm http co nuduoiqnaq', 'pemerintah provinsi dki jakarta mulai kembali menerapkan pembelajaran tatap muka ptm terbata pada hari ini senin penerapan ptm dilakukan setelah menyesuaikan kebijakan pemerintah pusat di saat masa pandemi covid kepala dina pendidikan provinsi dki jakarta http co lfsuujbzoi', 'situasi pandemi covid saat ini menuntut perubahan dalam berbagai aspek kehidupan termasuk dunia pendidikan sehingga melahirkan edutech http co ri kwhmoy', 'baekhyunibambi bersyukur karena saat covid masih bisa bertahan dan sembuh sampai sekarang lingkungan pendidikan dan atau kerjaan kakak dalam keadaan yang bagu shg bisa melalui semuanya di tahun ini makasih giveaway nya kak', 'problematika teknolog pendidikan yang menjadi solusi pada saat pandemi covid http co wznlt udn http co wznlt udn covid covid http co b bwsqlst', 'saat awal pandemi covid terjadi banyak sekolah swasta berinisiatif dan kreatif mensiasati agar pelayanan pendidikan terhdp peserta didik dpt tetap berlangsung kesadaran ttp surviv ditengah kesulitan menjd dorongan mereka utk teru berinovasi', 'kesehatan memburuk saat terkena covid billi eilish andai tidak divaksin aku bakal mati fajar pendidikan covid covid http co pmoago', 'perlu evaluasi standar nasion pendidikan saat dan pascapandemi covid http co nll fo b http co yaam nudbp http co eal jaatm', 'bantuan penanggulangan covid di pesantren rp miliar direktur jender pendidikan islam kemenag ali ramdhani mengatakan pesantren dan madrasah perlu memiliki ketahanan dalam menghadapi pandemi yg hingga saat ini masih belum usai http co sdmtu dtue', 'direktur jender pendidikan islam kemenag ali ramdhani mengatakan pesantren dan madrasah perlu memiliki ketahanan dalam menghadapi pandemi covid yang hingga saat ini masih belum usai http co omuh riz', 'penuhi hak ata pendidikan anak disabilita saat pandemi covid http co cd peroh n', 'dina pendidikan minta orang tua dan pelajar maklum tidak ada libur semest saat natal dan tahun baru covid http co b pzdu qo', 'pemerintah kabupaten manggarai mengapresiasi terhadap berbagai inovasi yang dilakukan lembaga pendidikan ini dalam kegiatan belajar saat pandemi covid kata bupati manggarai heribertu g l nabit dalam keterangan diterima di kupang rabu pdiperjuangan solidbergerak', 'saat jadi viru mematikan bagi penguasa http co ewaaobkyvv covid ada meningg rabu desemb terima kasih novemb hari aid sedunia habib jendral apri januari pendidikan putihkanjakarta putihkanjakarta', 'bupati kudu hartopo mengapresiasi kontribusi amal usaha muhammadiyah di beberapa sektor mulai dari pendidikan kesehatan dan sosial dalam melawan pandemi muhammadiyah menurutnya selalu mengulurkan tangan untuk masyarakat lua saat covid http co kw mwauv', 'guru adalah sumber kekuatan bangsa dalam memajukan sdm yang unggul terlebih di masa pandemi covid saat ini peran guru dalam mengaw pendidikan menjadi pilar utama dalam mencerdaskan kehidupan bangsa selamat hari guru nasion tahun http co ktjfmgsvju', 'guru adalah sumber kekuatan bangsa dalam memajukan sdm yang unggul terlebih di masa pandemi covid saat ini peran guru dalam mengaw pendidikan menjadi pilar utama dalam mencerdaskan kehidupan bangsa ayopakaimask ayosegeravaksin indonesia sehat ekonomi bangkit http co fezpyzlhyg', 'pendidikan menjadi salah satu sektor terdampak covid pembelajaran tatap muka diganti pembelajaran dare transisi itu memunculkan permasalahan baru seperti semangat belajar anak menurun saat kasu covid mulai landai pembelajaran tatap muka ptm terbata mulai dilakukan http co cebrjmq jw', 'penyebaran viru covid pada saat prose belajar mengajar tatap muka berlangsung program csr ini merupakan wujud komitmen ipcm dalam upaya mewujudkan salah satu tujuan dari sdg yaitu terlaksananya kegiatan pendidikan yang baik dan berkualita', 'rt bp statist bergerak dengan hati pulihkan pendidikan menjadi semangat bagi para pendidik yang saat ini tengah berjuang memajukan pendidikan indonesia di tengah pandemi covid selamat hari guru nasion cintadata haribesarnasion sela http co oazcn nbnb', 'rt bp statist bergerak dengan hati pulihkan pendidikan menjadi semangat bagi para pendidik yang saat ini tengah berjuang memajukan pendidikan indonesia di tengah pandemi covid selamat hari guru nasion cintadata haribesarnasion se http co oazcn nbnb', 'bergerak dengan hati pulihkan pendidikan menjadi semangat bagi para pendidik yang saat ini tengah berjuang memajukan pendidikan indonesia di tengah pandemi covid selamat hari guru nasion cintadata haribesarnasion selamatharigurunasion http co zdeeixhact', 'apresiasi tinggi patut diucapkan kepada para pendidik yang saat ini tetap berjuang untuk memberikan pendidikan terbaik bagi generasi bangsa di masa pandemi covid selamat hari guru novemb mari bergerak dengan hati pulihkan pendidikan http co nlmqncqd h', 'guru adalah sumber kekuatan bangsa dalam memajukan sdm yang unggul terlebih di masa pandemi covid saat ini peran guru dalam mengaw pendidikan menjadi pilar utama dalam mencerdaskan kehidupan bangsa selamat hari guru nasion tahun http co fku lfaapp', 'selamat hari guru nasion selamat hari guru untuk seluruh guru indonesia bergerak dgn hati pulihkan pendidikan pada tema ini mengingat dunia pendidikan saat ini tengah berjuang memberikan yg terbaik untk generasi muda bangsa ditengah masa pemulihan pasca pandemi covid http co dl pfo', 'guru adalah sumber kekuatan bangsa dalam memajukan sdm yang unggul terlebih di masa pandemi covid saat ini peran guru dalam mengaw pendidikan menjadi pilar utama dalam mencerdaskan kehidupan bangsa selamat hari guru nasion tahun bergerak dengan hati pulihkan p http co e e jqagym', 'guru adalah sumber kekuatan bangsa dalam memajukan sdm yang unggul terlebih di masa pandemi covid saat ini peran guru dalam mengaw pendidikan menjadi pilar utama dalam mencerdaskan kehidupan bangsa selamat hari guru nasion tahun bergerak dengan hati pulihkan p http co zimjmmzkld', 'hari guru nasion guru punya kedudukan dan peranan pent dalam pelaksanaan pembangunn nasion melalui pendidikan yang saat ini sedang berjuang memberikan pendidikan untuk generasi muda di masa pandemi covid bergerak dengan hati pulihkan pendidikan http co q g n pv', 'kopipait account temporarili unavail violat twitter media polici learn', 'pandemi covid telah membuat perubahan yang fundament dalam tata kehidupan masyarakat dan juga pembelajaran pendidikan jarak jauh menjadi salah satu opsi pembelajaran pada saat ini http co k vgul c', 'sanggau bersama dwp bkipm entikong turut memeriahkan hut dharma wanita persatuan kkp yang ke pada kegiatan bakti sosial di yayasan pendidikan agama islam al muallimin ditengah pandemi covid saat ini menterikelautandanperikanan bkipm rinajanwar http co mzpac zkk', 'agusyudhoyono semoga ma agu dan pemimpin muda lain menjadi lokomotif pemberdayaan sdm secara komprehensif untuk menyongsong indonesia loss gener dalam pendidikan efek dari covid perlu kerja kera agar generasi muda saat ini mampu bersa dengan negara maju di tantangan', 'sekretari daerah kabupaten kayong utara kku kalimantan barat hilaria yusnani menilai sangat pent gotong royong antara guru dan orang tua dalam pendidikan anaknya di saat pandemi covid agar bisa mencapai mutu pendidikan http co b lqiwecbh', 'saya selaku pimpinan daerah berharap pemakaian masker menjadi wujud disiplin di setiap satuan pendidikan saat ini dan seterusnya selalu menerapkan proke dimanapun kita berada karena menjadi faktor pent dalam penyebaran serta penularan viru covid pdiperjuangan', 'pendidikan faktor pendukung kedamaian dan kesejahteraan saat pandemi covid', 'mereka ini rakyat kecil mereka tidak bisa beralih ke industri baru yang perlu pendidikan dan sertifikasi saat pandemi covid ketika daya beli masyarakat melemah mereka haru bertahan hidup kondisi ini benar benar sulit tolakkenaikancukai', 'salah satu program yg dijalankan unicef saat ini bernama donasi untuk kembalikan juta anak ke sekolah karena adanya pandemi covid banyak sekali sekolah sekolah yang ditutup menyebabkan jt anak tidak mendapatkan pendidikan sekolah amp jt anak tidak bisa baca tuli', 'khususnya di tengah kondisi pandemi covid saat ini ruf berharap uin dapat menjadi lembaga pendidikan yang meningkatkan penelitian terkait dengan ajaran agama islam http co cdw nxahfj', 'kapolri jender listyo sigit prabwo mengatakan anak anak yang terdampak covid haru mendapat perlindungan ata kebutuhan dasar seperti sandang pangan papan pendidikan pelayanan kesehatan dan kesejahteraan polripedulianak bangkit saat pandemi', 'kapolri jender listyo sigit prabwo mengatakan anak anak yang terdampak covid haru mendapat perlindungan ata kebutuhan dasar seperti sandang pangan papan pendidikan pelayanan kesehatan dan kesejahteraan polripedulianak bangkit saat pandemi', 'kapolri jender listyo sigit prabowo mengatakan anak anak yang terdampak covid haru mendapat perlindungan ata kebutuhan dasar seperti sandang pangan papan pendidikan pelayanan kesehatan dan kesejahteraan polripedulianak bangkit saat pandemi http co rr wc zgw', 'presiden jokowi tegaskan perlu inovasi baru di bidang pendidikan saat pandemi covid jokowidodo nadiemmakarim http co l bmerbru http co bw lgvrchr', 'semoga kualita pendidikan indonesia tetap terjaga saat pandemi covid http co poqnxiead', 'sahabat demokrat kita haru peduli terhadap dunia pendidikan dan dengan adik adik kita yang saat ini masih duduk di bangku sekolah simak uraian ketum partai demokrat agusyudhoyono mengenai pendidikan indonesia ditengah pandemi covid media indonesia jumat mei http co n kekyyexq', 'assalamu alaikum warahmatullahi wabarakatuh saya mengucapkan selamat hari pendidikan nasion tahun kepada insan dunia pendidikan semangat ki hadjar dewantara haru teru kita hidupkan walaupun indonesia haru prihatin ata wabah covid yang sedang melanda saat ini http co jbx ybibm', 'ada kebiasaan baru di dunia pendidikan kita saat pandemi covid ini pendidikan yang tadinya hanya dilakukan sekolah sekarang bisa diaks onlin dari manapun kuncinya inovasi amp kolaborasi antara guru siswa amp orang tua demi keberhasilan pendidikan belajardaricovid http co uu bilsmfq', 'sobat cyber indonesia menyelenggarakan webinar dengan tema pemanfaatan teknolog informasi dan komunikasi dalam pendidikan saat covid yuk saksikan melalui live stream sobat cyber indonesia offici youtub pada jumat april pukul selesai wib http co qpbv v fw', 'mendikbud terbitkan se pelaksanaan kebijakan pendidikan saat covid http co viazw xov http co cax rvhjba', 'ini program pendidikan yang sedang dikerjakan saat oleh muhammadiyah semua untuk anak bangsa ada lagi bantuan pendidikan dampak covid sekolah terdampak bencana school kit dll tidak hanya bangun sekolah di palestina bahkan muhammadiyah sedang membangun sekolah di australia http co argc aawe', 'sintha dana utk membangun amal usaha sebanyak ini tentu tdk ada apa apanya dg dana yg disalurkan utk bantuan kemanusiaan dari muhammadiyah ke palestina juga daerah krisi kemanusiaan lain seperti gempa nepal badai filipina krisi rohingya dll http co e j dqlqkm', 'ayo mondok saat pandemi covid begini yg efektif pendidikan utk anak kita adlh pesantren mumpung masih bukan dan masih ada kuota utk jenjang smp di pesantren cendekia amanah depok yoookk daftarkan segera http co kaqlxbejba', 'pesantren sebagai aset pendidikan moral dan keagamaan yang sangat pent bagi bangsa indonesia saat ini sedang dalam kondisi rawan akibat covid fraksipksdprri bersamamelayanirakyat pksawasikabinet http co hx vlwm', 'simak perjuangan para guru yang menghadapi tantangan dalam mengajar dan memberikan pelayanan pendidikan bagi anak anak yang berkebutuhan khusu saat pandemi covid di melihatindonesiametrotv guru dikepung pandemi hari minggu pukul wib di metro tv http co izkqinlr', 'keluhan biaya pendidikan hallo sobat miko pandemi covid sangat berdampak dalam segala sektor kementerian advokasi bem stmm yk memberi wadah bagi mahasiswa untuk mengutarakan keluhan mengenai biaya pendidikan yg mungkin dirasa mahasiswa saat ini memberatkan c http co sprieldbu', 'agenda strategi di bidang mendasar dan berdampak besar bagi kehidupan rakyat haru teru berjalan seperti agenda bidang pendidikan peningkatan kualita sdm hingga kesehatan tidak boleh dilupakan begitu saja meski saat ini pemerintah tengah foku tangani pandemi covid http co jtpulfittb', 'ada kebiasaan baru di dunia pendidikan kita saat pandemi covid ini pendidikan yang tadinya hanya dilakukan sekolah sekarang bisa diaks onlin dari manapun kuncinya inovasi amp kolaborasi antara guru siswa amp orang tua demi keberhasilan pendidikan belajardaricovid http co rmdkp', 'selamat hari pendidikan nasion masdig amp mbakdig sesuai dengan kondisi pandemi saat ini hari pendidikan nasion tahun ini mengusung tema belajar dari covid semoga dalam kondisi apapun indonesia tetap dapat menciptakan generasi cerda berkarakt ya thread http co hetf sla', 'menteri pendidikan dan kebudayaan nadiem makarim mengatakan aturan penggunaan dana bo untuk pembelian kuota akan dikeluarkan dalam waktu dekat sehingga nantinya kepala sekolah memiliki pedoman dalam penggunaan dana bo saat pandemi covid topnew http co vzubjn kpt http co zhbwlsj', 'guru adalah sumber kekuatan bangsa dalam memajukan sdm unggul terlebih di masa pandemi covid saat ini peran guru dalam mengaw pendidikan menjadi pilar utama dalam mencerdaskan kehidupan bangsa selamat hari guru nasion bergerak dengan hati pulihkan pendidikan http co lc urpayft', 'guru adalah sumber kekuatan bangsa dalam memajukan sdm yang unggul terlebih di masa pandemi covid saat ini peran guru dalam mengaw pendidikan menjadi pilar utama dalam mencerdaskan kehidupan bangsa selamat hari guru nasion tahun bergerak dengan hati pulihkan p http co g fff azsj', 'nemu ini di tiktok chri hipkin ini menteri pendidikan di sini dan saat ada updat ttg covid doi suka muncul di konferensi per sama orang dijadiin bercandaan di tiktok kaya gini ttp santuy kalau di indo sekela menteri atau presiden diginiin ya tau sendiri lah ya http co njkvftgrp', 'saat ini kita menanggung beban yg berat krn pandemi covid kita hr berjuang menghadapi masalah kesehatan amp masalah ekonomi kita hr berjuang tetap melaksanakan prose pendidikan di tengah keterbatasan pertemuan dan interaksi ujar presiden jokowi forumrektorindonesia http co fnqzju kzv', 'himbauan tidak melakukan mudik pada hari raya idul fitri hijriah oleh kepala dina pendidikan dayah aceh zahrol fajri http co tcztdtgidt mh sebagai bagian dari memutu mata rantai penyebaran covid yang belum mereda sampai saat ini humasdayah humasaceh http co q sxlc f', 'sebagai bentuk kepedulian terhadap pandemi covid ikatan alumni pendidikan tinggi kepamongprajaan ikptk banyuwangi gow sambil membagikan masker kepada warga banyuwangi salam sehat tetap jaga jarak jangan lupa make masker dan cuci tangan setiap saat http co cxqdyb wob', 'kkn sendiri karena covid noura syarifa f fakulta kedokteran pendidikan dokter week report pembuatan materi tentang masker saat covid http co iypctv ls', 'situasi ditengah pandemi covid hari ini tidak hanya melemahkan sektor ekonomi namun juga berdampak pada sektor pendidikan pemberlakuan sistem pembelajaran jarak jauh pjj saat pandemi covid dilakukan untuk geramunj unjtolakspu bebaskanukt unj relaksasiukt http co duuxa ajq', 'digitalisasi pendidikan mendesak saat pandemi covid highlight primetim news metro tv http co ixacejm http co shkoistm', 'pak jokowi ini curhatan kami masayarakat bawah di tengah pandemi covid kami hanyalah mahasiswa yang berjuang untuk mendapatkan pendidikan demi memajukan bangsa ini saat ini kami membutuhkan bantuan dan ketegasan pemerintah agar kami mendapatkan keringanan untuk biaya spp http co wa ygnir', 'pandemi covid telah membuat aktivita pendidikan di negara ini berubah total simak dalam specialdialogmetrotv merdeka belajar di saat covid besama nadiem makarim mendikbud ri jumat pukul wib metrotv nadiemmakarim indonesiamelawancovid http co udrx yo um', 'sekedar remind saat kita peringati hari pendidikan nasion hari ini bhw yg pent diselamatkan bukan hanya dunia usaha dengan memberi stimulu ekonomi ttpi juga dunia pendidikan yq mayorita terpapar akibat covid http co ewclwwijbg', 'breakingnew siswa sekolah pembentukan perwira atau stukpa lembaga pendidikan polri sukabumi jabar melakukan rapid te covid dan menunjukan hasil positif pada siswa saat ini ratusan siswa setukpa tengah melakukan isolasi mandiri http co ns oyeyjew http co zhjepk bm', 'majunya suatu bangsa dimulai dengan kuatnya sistem pendidikan dan karakt generasi muda meski saat ini dunia sedang diterpa pandemi covid semangat belajar tak pernah surut kita terbukti adaptif di segala keterbatasan selamat hari pendidikan nasion hardikna http co whxdinnz', 'jarang ada film bertema pendidikan sperti angrezimedium atau versi internesyenel nya englishmedium ini film ini rili saat pandemi covid jadi sayang sekali kurang terekspo didalamnya juga dibintangi kareenakapoorkhan meski dlm screen time yg terbata http co f x yno', 'salam mahasura muda saat ini covid telah menjadi pandemi di seluruh dunia sehingga menyebabkan pendidikan saat ini haru dilakukan secara dare berikut saya kupa sisi nya maretuniv generasiun dariunsuntukindonesia mahasuramuda unspedulipendidikan http co vnzcelcuf', 'jumat agustu rumah detensi imigrasi semarang peduli terhadap pendidikan anak di indonesia saat pandemi covid dengan melakukan sosialisasi dan pembagian brosur tentang pemberian fasilita internet grati untuk belajar yang dapat diaks secara umum http co vjlu fjmb', 'jf jakarta bekerja sama dgn kedutaan besar jepang di indonesia mengadakan acara minna minato onlin pd tanggal juli peserta adalah para pelajar yang akan menempuh pendidikan di jepang yang saat ini masih menunggu prose keberangkatan ke jepang akibat pandemi covid http co tlafzxsr', 'pandemi covid ini juga merusak hiperealita pendidikan sehingga mengubah tatanan prose belajar mengajar yang dulu dengan saat ini maka rekayasa kurikulum bagi sekolah haru dirancang oleh guru untuk mendukung pendidikan pasca pandemi http co jwthjblnpm muhammadiyah http co pwumija n', 'ikuti specialdialogmetrotv merdeka belajar di saat covid besama nadiem makarim menteri pendidikan dan kebudayaan republik indonesia jumat pukul wib hanya di metro tv metrotv mendikbud nadiemmakarim hardikna indonesiamelawancovid mediagroupnew http co qajyw kdn', 'selamat hari pendidikan nasion saat ini misi pendidikan haru tetap berjalan meski pandemi covid mari tetap belajar dengan sistem pembelajaran jarak jauh belajardirumah http co ndpneuby', 'krisi komunikasi yang dihadirkan pemerintah republik indonesia kepada publik saat mengahadapi pandemi covid turut menjadi sorotan sejumlah akademisi dan institusi dari asosiasi pendidikan ilmu komunikasi peguruan tinggi muhammadiyah aisyiyah http co rlrijxxj http co la chph w', 'metrohariini calon perwira polisi dari polda sulawesi tenggara dinyatakan positif covid mereka dinyatakan positif saat jalani pendidikan di sekolah pembentukan perwira setukpa sukabumi jawa barat indonesiamelawancovid http co g yadwmci', 'anggota polri di kalbar positif covid diduga tertular saat pendidikan di sukabumi http co jvgmd oth http co fwibsxnrmq', 'transformasi digit presiden joko widodo mengakui bahwa pandemi covid telah ikut mempercepat terbentuknya pola pendidikan yang berbasi teknolog untuk itu saat ini indonesia haru bisa menjadi bagian dari produsen teknolog indonesiaroadto g kemkominfo platejohnni http co lgzucgvf v', 'buka konferensi fri presiden jokowi dorong lembaga pendidikan tinggi kembangkan inovasi saat pandemi pandemi covid telah berdampak besar pada sejumlah sektor kehidupan bukan hanya kesehatan dan ekonomi melainkan juga pada dunia pendidikan prose pendidikan haru http co koguqdrh', 'buka konferensi fri presiden jokowi dorong lembaga pendidikan tinggi kembangkan inovasi saat pandemi pandemi covid telah berdampak besar pada sejumlah sektor kehidupan bukan hanya kesehatan dan ekonomi melainkan juga pada dunia pendidikan http co jnee x q', 'buka konferensi fri presiden jokowi dorong lembaga pendidikan tinggi kembangkan inovasi saat pandemi pandemi covid telah berdampak besar pada sejumlah sektor kehidupan bukan hanya kesehatan dan ekonomi melainkan juga pada dunia pendidikan http co sdxvxjfhz', 'best aplikasi pembelajaran ga pake ribet hai sobat bsi perkembangan teknolog digit yang berkembang pesat saat ini memberikan kemudahan di berbagai aspek kehidupan tanpa terkecuali di dunia pendidikan di mana saat pandemi covid dengan memanfaatkan teknolog http co deuorcw lk', 'repost infobnn selamat hari pendidikan nasion mei pandemi covid yang melanda dunia saat ini tidak menyurutkan semangat bangsa indonesia untuk teru menimba ilmu dan memperoleh pendidikan yang berkualita dalam rangka mewujudkan generasi ema indonesia http co dpvhptliha', 'repost infobnn ri selamat hari pendidikan nasion mei pandemi covid yang melanda dunia saat ini tidak menyurutkan semangat bangsa indonesia untuk teru menimba ilmu dan memperoleh pendidikan yang berkualita dalam rangka mewujudkan http co attgxty', 'karolin ibu garda terdepan pendidikan keluarga saat pandemi covid http co lz qtjuupu http co l jnxd pf', 'debatpublikcilegon ratu ati marliati sokhidin dalam melakukan kebijakan bosda kami sudah mengalokasikan apbd untuk bidang pendidikan khusu pada saat covid seperti sekarang kalau kami dipilih kami akan teru menambah alokasi apbd ke bosda pemilihanserentak metrotv http co iyjxi fh', 'jangan sampai pendidikan terlupakan saat pandemi covid yuk sale jaga dan bantu mengajardarirumahkemdikbud gerakanmengubahperilakukemdikbud ditjendikti bpppdn offici http co zcw ptv xy', 'anggota batalyon b pelopor satbrimobda sulsel berjuang untuk mencerdaskan pendidikan di saat pandemi covid melalui brain agar kelak anak anak indonesia bisa menggapai cita cita nya setinggi tingginya brimob untuk indonesia http co wicemltxaq', 'direktur pendidikan diniyah dan pondok pesantren kemenag waryono abdul ghofur memastikan bahwa seluruh pesantren di tanah air membentuk gugu tuga atau saat ini satga penanganan covid simak direktur pendidikan diniyah dan pondok pesantren kemenag waryono abdul ghofur http co kai nj yo', 'pendidikan di saat pandemi covid kebijakan khusu lebih tepat http co qqe sbjhk http co ur kqrhmz', 'selamat hari sumpah pemuda ke karena semangat sumpah pemuda kita bisa berdiri tegak hingga detik ini melawan penjajah di masa lalu dan melawan pandemi covid saat ini sumpah pemuda bersatu bangkit dan tumbuh dr inayatullah pd kepala dina pendidikan kota bekasi http co xaqkvcm db', 'menteri pendidikan kebudayaan riset teknolog indonesia nadiem kariem mendonorkan darah nya di kediaman beliau pada beliau menghimbau kepada seluruh masyarakat indonesia u donor darah guna menambah stok darah pmi yang saat ini sedang kosong akibat pendemi covid http co rfewl rp', 'takut disuntik vaksin covid kepsek di lombok timur nyari pingsan momen itu tertangkap kamera saat berlangsungnya pelaksanaan vaksinasi tenaga pendidikan di lombok timur lengkapcepatberitanya beritaterkini newsupd http co vqaoszov', 'kota new york tampak berduka saat memperingati satu tahun sejak pertama kali diumumkannya kasu covid momentum kelam yang langsung diikuti penutupan sektor bisni dan pendidikan metrosiang knowledgetoelev http co p gbyizhth', 'fraksi pan mendesak pemerintah agar menguru pendidikan dengan baik dan benar libatkan pihak yg sudah berpengalaman seperti muhammadiyah nu pgri dan lptk pengalaman mereka akan sangat berguna bagi dunia pendidikan kita terutama di masa pandemi covid saat ini suarapan http co ocvmi uqgm', 'gugu tuga covid dan dina pendidikan dan kebudayaan kota banda aceh menutup tiga sd di banda aceh minggu ketiga sd tersebut dinilai tak menerapkan protokol kesehatan yang ketat saat prose belajar tatap muka region videokompa http co x nnvt mmp', 'oktob salah satu isu priorita yang dimiliki oleh desa bayan rt rw sendiri saat adanya dampak covid sendiri yaitu adalah di dunia pendidikan kk kkn kkntkersodarma kkntkersodarma kkntkersodarma lppmiqinsurakarta lp ms http co csjhx ssw', 'sobat bsi di masa kebiasaan baru seperti saat ini ingat untuk mencegah terhadap resiko terinfeksi covid yaitu dengan menggunakan masker mencuci tangan dengan sabun dan air mengalir menjaga jarak meter sumber kementrian pendidikan dan kebudayaan http co k ph xcpre', 'repost huma ubsi di masa kebiasaan baru seperti saat ini ingat untuk mencegah terhadap resiko terinfeksi covid yaitu dengan menggunakan masker mencuci tangan dengan sabun dan air mengalir menjaga jarak meter sumber kementrian pendidikan dan kebudayaan http co ehtryudqc', 'di masa kebiasaan baru seperti saat ini ingat untuk mencegah terhadap resiko terinfeksi covid yaitu dengan menggunakan masker mencuci tangan dengan sabun dan air mengalir menjaga jarak meter sumber kementrian pendidikan dan kebudayaan http co u w sndqe', 'nelangsa begitulah kondisi para pelajar di perbatasan pada saat pandemi covid saat ini pembelajaran jarak jauh masih jadi masalah jangankan jaringan internet sambungan listrik saja belum merata siaran pendidikan tvri pun sulit tertangkap http co yixtbtvm http co ycjxhromnf', 'dampak covid juga dialami akademi milit magelang jawa tengah saat upacara penutupan pendidikan dan wisuda akademi cnnidaft http co ns oyeyjew http co rviaw bcyg', 'pt jaya alam persada jaya mika sebagai distributor acryl adiwarna mika mengucapkan selamat hari pendidikan nasion tanggal mei pengajar amp pelajar untuk tetap semangat meskipun kegiatan belajar mengajar dilakukan di rumah saat pandemi covid http co ekmk k http co ix vkkz', 'semangat hardikna adlh utk melahirkan generasi muda berprestasi kreatif amp inovatif dlm memaksimalkan potensi intelektualnya khususnya dlm kondisi saat ini belajar dari covid selamat hari pendidikan nasion hardikna belajardaricovid inidiplomasi indonesianway http co w dd v n', 'th lalu kesana saat buat rumah baca g bisa dibayangkan warga yg merantau k malaysia melakukan mudik lalu terdapat warga sana yg positif covid minim fasilita kesehatan amp pendidikan aks pun sangat sulit walau video th lalu tp kondisinya samp skrg g berubah http co fhfatxwu v', 'best aplikasi pembelajaran ga pake ribet hai sobat bsi perkembangan teknolog digit yang berkembang pesat saat ini memberikan kemudahan di berbagai aspek kehidupan tanpa terkecuali di dunia pendidikan di mana saat pandemi covid http co p u espgto http co wlrubwi zf', 'best aplikasi pembelajaran ga pake ribet hai sobat bsi perkembangan teknolog digit yang berkembang pesat saat ini memberikan kemudahan di berbagai aspek kehidupan tanpa terkecuali di dunia pendidikan di mana saat pandemi covid http co ihm jsbkzp http co gf h gm', 'presiden jokowi membuka fri tahun presiden dorong lembaga pendidikan tinggi kembangkan inovasi saat pandemi menurut beliau pandemi covid merupakan rangkaian serial disrupsi dan menambah disrupsi yang sebelumnya dipicu revolusi industri http co hxh v njz http co vu lwgyxq', 'best aplikasi pembelajaran ga pake ribet hai sobat bsi perkembangan teknolog digit yang berkembang pesat saat ini memberikan kemudahan di berbagai aspek kehidupan tanpa terkecuali di dunia pendidikan di mana saat pandemi covid http co iqd wayuii', 'best aplikasi pembelajaran ga pake ribet hai sobat bsi perkembangan teknolog digit yang berkembang pesat saat ini memberikan kemudahan di berbagai aspek kehidupan tanpa terkecuali di dunia pendidikan di mana saat pandemi covid dengan memanfaatkan teknolog http co ou rklje', 'best aplikasi pembelajaran ga pake ribet hai sobat bsi perkembangan teknolog digit yang berkembang pesat saat ini memberikan kemudahan di berbagai aspek kehidupan tanpa terkecuali di dunia pendidikan di mana saat pandemi covid dengan http co ljnh va rl http co ccjknltmiq', 'hari pendidikan nasion saat pandemi covid teknolog digit bermanfaat saat haru belajar di rumah http co crkxdypxw http co gpxtkbl l', 'pesan mendikbud di hari pendidikan nasion saat pandemi covid http co qz umeh q http co bysokr jyf', 'sekolah karakt gi kembangkan pendidikan menyenangkan saat covid http co qe vidya http co kszhmg jnb', 'sistem pembelajaran onlin mata kuliah cultur studi di masa pandemi covid http co rsxc hjox']\n"
     ]
    }
   ],
   "source": [
    "print(corpus)"
   ]
  },
  {
   "cell_type": "markdown",
   "id": "04db2e98",
   "metadata": {},
   "source": [
    "# ## Creating the Bag of Words model"
   ]
  },
  {
   "cell_type": "code",
   "execution_count": 20,
   "id": "3d96fb73",
   "metadata": {},
   "outputs": [],
   "source": [
    "from sklearn.feature_extraction.text import CountVectorizer\n",
    "cv = CountVectorizer(max_features = 1500)\n",
    "X_ = cv.fit_transform(corpus).toarray()\n",
    "y = dataset.iloc[:, -1].values"
   ]
  },
  {
   "cell_type": "code",
   "execution_count": 21,
   "id": "348362b8",
   "metadata": {},
   "outputs": [
    {
     "data": {
      "text/plain": [
       "array([[0, 0, 0, ..., 0, 0, 0],\n",
       "       [0, 0, 0, ..., 0, 0, 0],\n",
       "       [0, 0, 0, ..., 0, 0, 0],\n",
       "       ...,\n",
       "       [0, 0, 0, ..., 0, 0, 0],\n",
       "       [0, 0, 0, ..., 0, 0, 0],\n",
       "       [0, 0, 0, ..., 0, 0, 0]], dtype=int64)"
      ]
     },
     "execution_count": 21,
     "metadata": {},
     "output_type": "execute_result"
    }
   ],
   "source": [
    "X_"
   ]
  },
  {
   "cell_type": "markdown",
   "id": "2741c8a6",
   "metadata": {},
   "source": [
    "# splitting dataset"
   ]
  },
  {
   "cell_type": "code",
   "execution_count": 22,
   "id": "ea28f2dd",
   "metadata": {},
   "outputs": [],
   "source": [
    "from sklearn.model_selection import train_test_split\n",
    "X_train, X_test, y_train, y_test = train_test_split(X_, y, test_size = 0.20, random_state = 0)"
   ]
  },
  {
   "cell_type": "markdown",
   "id": "a78e0378",
   "metadata": {},
   "source": [
    "# Training Dan Testing Dataset "
   ]
  },
  {
   "cell_type": "code",
   "execution_count": 23,
   "id": "61a64ffa",
   "metadata": {},
   "outputs": [
    {
     "data": {
      "text/html": [
       "<style>#sk-container-id-1 {color: black;background-color: white;}#sk-container-id-1 pre{padding: 0;}#sk-container-id-1 div.sk-toggleable {background-color: white;}#sk-container-id-1 label.sk-toggleable__label {cursor: pointer;display: block;width: 100%;margin-bottom: 0;padding: 0.3em;box-sizing: border-box;text-align: center;}#sk-container-id-1 label.sk-toggleable__label-arrow:before {content: \"▸\";float: left;margin-right: 0.25em;color: #696969;}#sk-container-id-1 label.sk-toggleable__label-arrow:hover:before {color: black;}#sk-container-id-1 div.sk-estimator:hover label.sk-toggleable__label-arrow:before {color: black;}#sk-container-id-1 div.sk-toggleable__content {max-height: 0;max-width: 0;overflow: hidden;text-align: left;background-color: #f0f8ff;}#sk-container-id-1 div.sk-toggleable__content pre {margin: 0.2em;color: black;border-radius: 0.25em;background-color: #f0f8ff;}#sk-container-id-1 input.sk-toggleable__control:checked~div.sk-toggleable__content {max-height: 200px;max-width: 100%;overflow: auto;}#sk-container-id-1 input.sk-toggleable__control:checked~label.sk-toggleable__label-arrow:before {content: \"▾\";}#sk-container-id-1 div.sk-estimator input.sk-toggleable__control:checked~label.sk-toggleable__label {background-color: #d4ebff;}#sk-container-id-1 div.sk-label input.sk-toggleable__control:checked~label.sk-toggleable__label {background-color: #d4ebff;}#sk-container-id-1 input.sk-hidden--visually {border: 0;clip: rect(1px 1px 1px 1px);clip: rect(1px, 1px, 1px, 1px);height: 1px;margin: -1px;overflow: hidden;padding: 0;position: absolute;width: 1px;}#sk-container-id-1 div.sk-estimator {font-family: monospace;background-color: #f0f8ff;border: 1px dotted black;border-radius: 0.25em;box-sizing: border-box;margin-bottom: 0.5em;}#sk-container-id-1 div.sk-estimator:hover {background-color: #d4ebff;}#sk-container-id-1 div.sk-parallel-item::after {content: \"\";width: 100%;border-bottom: 1px solid gray;flex-grow: 1;}#sk-container-id-1 div.sk-label:hover label.sk-toggleable__label {background-color: #d4ebff;}#sk-container-id-1 div.sk-serial::before {content: \"\";position: absolute;border-left: 1px solid gray;box-sizing: border-box;top: 0;bottom: 0;left: 50%;z-index: 0;}#sk-container-id-1 div.sk-serial {display: flex;flex-direction: column;align-items: center;background-color: white;padding-right: 0.2em;padding-left: 0.2em;position: relative;}#sk-container-id-1 div.sk-item {position: relative;z-index: 1;}#sk-container-id-1 div.sk-parallel {display: flex;align-items: stretch;justify-content: center;background-color: white;position: relative;}#sk-container-id-1 div.sk-item::before, #sk-container-id-1 div.sk-parallel-item::before {content: \"\";position: absolute;border-left: 1px solid gray;box-sizing: border-box;top: 0;bottom: 0;left: 50%;z-index: -1;}#sk-container-id-1 div.sk-parallel-item {display: flex;flex-direction: column;z-index: 1;position: relative;background-color: white;}#sk-container-id-1 div.sk-parallel-item:first-child::after {align-self: flex-end;width: 50%;}#sk-container-id-1 div.sk-parallel-item:last-child::after {align-self: flex-start;width: 50%;}#sk-container-id-1 div.sk-parallel-item:only-child::after {width: 0;}#sk-container-id-1 div.sk-dashed-wrapped {border: 1px dashed gray;margin: 0 0.4em 0.5em 0.4em;box-sizing: border-box;padding-bottom: 0.4em;background-color: white;}#sk-container-id-1 div.sk-label label {font-family: monospace;font-weight: bold;display: inline-block;line-height: 1.2em;}#sk-container-id-1 div.sk-label-container {text-align: center;}#sk-container-id-1 div.sk-container {/* jupyter's `normalize.less` sets `[hidden] { display: none; }` but bootstrap.min.css set `[hidden] { display: none !important; }` so we also need the `!important` here to be able to override the default hidden behavior on the sphinx rendered scikit-learn.org. See: https://github.com/scikit-learn/scikit-learn/issues/21755 */display: inline-block !important;position: relative;}#sk-container-id-1 div.sk-text-repr-fallback {display: none;}</style><div id=\"sk-container-id-1\" class=\"sk-top-container\"><div class=\"sk-text-repr-fallback\"><pre>GaussianNB()</pre><b>In a Jupyter environment, please rerun this cell to show the HTML representation or trust the notebook. <br />On GitHub, the HTML representation is unable to render, please try loading this page with nbviewer.org.</b></div><div class=\"sk-container\" hidden><div class=\"sk-item\"><div class=\"sk-estimator sk-toggleable\"><input class=\"sk-toggleable__control sk-hidden--visually\" id=\"sk-estimator-id-1\" type=\"checkbox\" checked><label for=\"sk-estimator-id-1\" class=\"sk-toggleable__label sk-toggleable__label-arrow\">GaussianNB</label><div class=\"sk-toggleable__content\"><pre>GaussianNB()</pre></div></div></div></div></div>"
      ],
      "text/plain": [
       "GaussianNB()"
      ]
     },
     "execution_count": 23,
     "metadata": {},
     "output_type": "execute_result"
    }
   ],
   "source": [
    "#mengimport modul untuk eksekusi algoritma Naive Bayes\n",
    "from sklearn.naive_bayes import GaussianNB\n",
    "classifier= GaussianNB()\n",
    "classifier.fit(X_train, y_train) #melatih model dari data training yang ada"
   ]
  },
  {
   "cell_type": "code",
   "execution_count": 24,
   "id": "876cef39",
   "metadata": {},
   "outputs": [
    {
     "name": "stdout",
     "output_type": "stream",
     "text": [
      "[[0 3]\n",
      " [3 0]\n",
      " [0 0]\n",
      " [3 2]\n",
      " [3 1]\n",
      " [2 2]\n",
      " [2 1]\n",
      " [0 3]\n",
      " [0 2]\n",
      " [1 0]\n",
      " [0 3]\n",
      " [1 1]\n",
      " [0 0]\n",
      " [1 0]\n",
      " [3 3]\n",
      " [0 0]\n",
      " [1 1]\n",
      " [2 0]\n",
      " [1 3]\n",
      " [1 2]\n",
      " [2 0]\n",
      " [1 1]\n",
      " [3 3]\n",
      " [1 1]\n",
      " [0 1]\n",
      " [2 1]\n",
      " [1 1]\n",
      " [0 1]\n",
      " [0 0]\n",
      " [2 1]\n",
      " [0 3]\n",
      " [3 2]\n",
      " [3 3]\n",
      " [3 0]\n",
      " [3 3]\n",
      " [0 0]\n",
      " [2 3]\n",
      " [3 2]\n",
      " [2 0]\n",
      " [2 1]\n",
      " [2 1]\n",
      " [3 3]\n",
      " [0 0]\n",
      " [3 1]\n",
      " [0 1]\n",
      " [3 3]\n",
      " [1 2]\n",
      " [0 1]\n",
      " [2 2]\n",
      " [2 0]\n",
      " [0 0]\n",
      " [2 3]\n",
      " [0 0]\n",
      " [1 2]\n",
      " [3 3]\n",
      " [3 3]\n",
      " [3 1]\n",
      " [3 0]\n",
      " [2 0]\n",
      " [3 0]\n",
      " [2 2]\n",
      " [0 2]\n",
      " [2 0]\n",
      " [3 0]\n",
      " [2 1]\n",
      " [1 2]\n",
      " [2 0]\n",
      " [2 2]\n",
      " [2 3]\n",
      " [3 1]\n",
      " [2 2]\n",
      " [1 1]\n",
      " [0 1]\n",
      " [3 1]\n",
      " [1 3]\n",
      " [3 1]\n",
      " [2 3]\n",
      " [2 2]\n",
      " [0 2]\n",
      " [2 1]\n",
      " [3 3]\n",
      " [2 1]\n",
      " [2 1]\n",
      " [3 0]\n",
      " [0 0]\n",
      " [0 2]\n",
      " [2 2]\n",
      " [1 1]\n",
      " [1 3]\n",
      " [3 3]\n",
      " [1 2]\n",
      " [2 2]\n",
      " [0 3]\n",
      " [1 0]\n",
      " [0 1]\n",
      " [1 0]\n",
      " [1 0]\n",
      " [1 3]\n",
      " [3 2]\n",
      " [0 1]\n",
      " [2 2]\n",
      " [3 0]\n",
      " [3 1]\n",
      " [1 2]\n",
      " [2 1]\n",
      " [2 2]\n",
      " [1 0]\n",
      " [0 1]\n",
      " [2 0]\n",
      " [0 1]\n",
      " [3 3]\n",
      " [0 3]\n",
      " [3 0]\n",
      " [3 3]\n",
      " [1 3]\n",
      " [3 0]\n",
      " [1 1]\n",
      " [1 0]\n",
      " [1 1]\n",
      " [2 1]\n",
      " [1 1]\n",
      " [1 1]\n",
      " [0 2]\n",
      " [3 0]\n",
      " [2 3]\n",
      " [1 0]\n",
      " [0 0]\n",
      " [3 1]\n",
      " [2 3]\n",
      " [0 2]\n",
      " [0 0]\n",
      " [1 1]\n",
      " [2 1]\n",
      " [3 1]\n",
      " [2 1]\n",
      " [0 0]\n",
      " [3 0]\n",
      " [0 1]\n",
      " [0 0]\n",
      " [2 1]\n",
      " [2 1]\n",
      " [0 3]\n",
      " [2 1]\n",
      " [0 3]\n",
      " [2 2]\n",
      " [3 3]\n",
      " [3 3]\n",
      " [3 3]\n",
      " [1 1]\n",
      " [0 2]\n",
      " [3 3]\n",
      " [1 2]\n",
      " [3 3]\n",
      " [2 3]\n",
      " [3 0]\n",
      " [2 1]\n",
      " [1 2]\n",
      " [3 3]\n",
      " [3 3]\n",
      " [1 2]\n",
      " [1 0]\n",
      " [0 1]\n",
      " [1 0]\n",
      " [3 2]\n",
      " [2 3]\n",
      " [2 1]\n",
      " [2 1]\n",
      " [3 0]\n",
      " [3 1]\n",
      " [0 3]\n",
      " [0 2]\n",
      " [3 2]\n",
      " [3 1]\n",
      " [2 0]\n",
      " [1 0]\n",
      " [2 1]\n",
      " [3 0]\n",
      " [3 3]\n",
      " [3 3]\n",
      " [3 2]\n",
      " [3 3]\n",
      " [3 3]\n",
      " [3 2]\n",
      " [2 0]\n",
      " [2 2]\n",
      " [1 1]\n",
      " [0 1]\n",
      " [0 0]\n",
      " [0 1]\n",
      " [1 1]\n",
      " [1 1]\n",
      " [0 2]\n",
      " [2 3]\n",
      " [0 3]\n",
      " [2 1]\n",
      " [1 2]\n",
      " [1 1]\n",
      " [3 3]]\n"
     ]
    }
   ],
   "source": [
    "#testing dan prediksi\n",
    "y_pred = classifier.predict(X_test)\n",
    "print(np.concatenate((y_pred.reshape(len(y_pred),1), y_test.reshape(len(y_test),1)),1)) #output"
   ]
  },
  {
   "cell_type": "code",
   "execution_count": 25,
   "id": "93ff69fa",
   "metadata": {},
   "outputs": [
    {
     "name": "stdout",
     "output_type": "stream",
     "text": [
      "[[14 11 10 14]\n",
      " [13 17 21 11]\n",
      " [ 9 10 12  8]\n",
      " [10  5  9 24]]\n",
      "skor akurasi adalah :  0.3383838383838384\n"
     ]
    }
   ],
   "source": [
    "#kalkulasi akurasi \n",
    "from sklearn.metrics import confusion_matrix, accuracy_score\n",
    "cm = confusion_matrix(y_test,y_pred)\n",
    "print(cm)\n",
    "print(\"skor akurasi adalah : \", accuracy_score(y_test,y_pred))"
   ]
  },
  {
   "cell_type": "code",
   "execution_count": 27,
   "id": "dd8c1a0d",
   "metadata": {},
   "outputs": [
    {
     "name": "stdout",
     "output_type": "stream",
     "text": [
      "              precision    recall  f1-score   support\n",
      "\n",
      "           0       0.30      0.29      0.29        49\n",
      "           1       0.40      0.27      0.32        62\n",
      "           2       0.23      0.31      0.26        39\n",
      "           3       0.42      0.50      0.46        48\n",
      "\n",
      "    accuracy                           0.34       198\n",
      "   macro avg       0.34      0.34      0.33       198\n",
      "weighted avg       0.35      0.34      0.34       198\n",
      "\n"
     ]
    }
   ],
   "source": [
    "from sklearn.metrics import classification_report\n",
    "print(classification_report(y_test, y_pred))"
   ]
  },
  {
   "cell_type": "markdown",
   "id": "1c12f470",
   "metadata": {},
   "source": [
    "# mari kita coba melakukan resampling"
   ]
  },
  {
   "cell_type": "raw",
   "id": "ec2a49ee",
   "metadata": {},
   "source": [
    "Ada beberapa teknik resampling, namun pada kali ini yang akan dipakai adalah teknik oversampling"
   ]
  },
  {
   "cell_type": "code",
   "execution_count": 28,
   "id": "1ea5d9ae",
   "metadata": {},
   "outputs": [],
   "source": [
    "from imblearn.over_sampling import RandomOverSampler"
   ]
  },
  {
   "cell_type": "code",
   "execution_count": 29,
   "id": "fc61b094",
   "metadata": {},
   "outputs": [],
   "source": [
    "X_= dataset['full_text'].values.reshape(-1,1)"
   ]
  },
  {
   "cell_type": "code",
   "execution_count": 30,
   "id": "59b15539",
   "metadata": {},
   "outputs": [],
   "source": [
    "y= dataset['kategori']"
   ]
  },
  {
   "cell_type": "code",
   "execution_count": 31,
   "id": "226e8b3f",
   "metadata": {},
   "outputs": [
    {
     "name": "stdout",
     "output_type": "stream",
     "text": [
      "terdapat 238 titik/raw data yang di-resampling\n"
     ]
    }
   ],
   "source": [
    "from imblearn.over_sampling import RandomOverSampler\n",
    "\n",
    "ros = RandomOverSampler()\n",
    "X_ros, y_ros = ros.fit_resample(X_, y)\n",
    "\n",
    "print(\"terdapat\", X_ros.shape[0] - X.shape[0], 'titik/raw data yang di-resampling')"
   ]
  },
  {
   "cell_type": "code",
   "execution_count": 32,
   "id": "504353c5",
   "metadata": {},
   "outputs": [
    {
     "name": "stderr",
     "output_type": "stream",
     "text": [
      "C:\\Users\\ACER\\anaconda3\\lib\\site-packages\\seaborn\\_decorators.py:36: FutureWarning: Pass the following variable as a keyword arg: x. From version 0.12, the only valid positional argument will be `data`, and passing other arguments without an explicit keyword will result in an error or misinterpretation.\n",
      "  warnings.warn(\n"
     ]
    },
    {
     "data": {
      "text/plain": [
       "<AxesSubplot:xlabel='kategori', ylabel='count'>"
      ]
     },
     "execution_count": 32,
     "metadata": {},
     "output_type": "execute_result"
    },
    {
     "data": {
      "image/png": "[encoded data removed]",
      "text/plain": [
       "<Figure size 432x288 with 1 Axes>"
      ]
     },
     "metadata": {
      "needs_background": "light"
     },
     "output_type": "display_data"
    }
   ],
   "source": [
    "#mengecek distribusi data keseimbangan data\n",
    "sns.countplot(y_ros) #dapat dilihat bahwa data telah seimbang"
   ]
  },
  {
   "cell_type": "code",
   "execution_count": 33,
   "id": "b4cff741",
   "metadata": {},
   "outputs": [
    {
     "data": {
      "text/html": [
       "<div>\n",
       "<style scoped>\n",
       "    .dataframe tbody tr th:only-of-type {\n",
       "        vertical-align: middle;\n",
       "    }\n",
       "\n",
       "    .dataframe tbody tr th {\n",
       "        vertical-align: top;\n",
       "    }\n",
       "\n",
       "    .dataframe thead th {\n",
       "        text-align: right;\n",
       "    }\n",
       "</style>\n",
       "<table border=\"1\" class=\"dataframe\">\n",
       "  <thead>\n",
       "    <tr style=\"text-align: right;\">\n",
       "      <th></th>\n",
       "      <th>kategori</th>\n",
       "    </tr>\n",
       "  </thead>\n",
       "  <tbody>\n",
       "    <tr>\n",
       "      <th>0</th>\n",
       "      <td>2</td>\n",
       "    </tr>\n",
       "    <tr>\n",
       "      <th>1</th>\n",
       "      <td>3</td>\n",
       "    </tr>\n",
       "    <tr>\n",
       "      <th>2</th>\n",
       "      <td>0</td>\n",
       "    </tr>\n",
       "    <tr>\n",
       "      <th>3</th>\n",
       "      <td>0</td>\n",
       "    </tr>\n",
       "    <tr>\n",
       "      <th>4</th>\n",
       "      <td>0</td>\n",
       "    </tr>\n",
       "    <tr>\n",
       "      <th>...</th>\n",
       "      <td>...</td>\n",
       "    </tr>\n",
       "    <tr>\n",
       "      <th>1223</th>\n",
       "      <td>3</td>\n",
       "    </tr>\n",
       "    <tr>\n",
       "      <th>1224</th>\n",
       "      <td>3</td>\n",
       "    </tr>\n",
       "    <tr>\n",
       "      <th>1225</th>\n",
       "      <td>3</td>\n",
       "    </tr>\n",
       "    <tr>\n",
       "      <th>1226</th>\n",
       "      <td>3</td>\n",
       "    </tr>\n",
       "    <tr>\n",
       "      <th>1227</th>\n",
       "      <td>3</td>\n",
       "    </tr>\n",
       "  </tbody>\n",
       "</table>\n",
       "<p>1228 rows × 1 columns</p>\n",
       "</div>"
      ],
      "text/plain": [
       "      kategori\n",
       "0            2\n",
       "1            3\n",
       "2            0\n",
       "3            0\n",
       "4            0\n",
       "...        ...\n",
       "1223         3\n",
       "1224         3\n",
       "1225         3\n",
       "1226         3\n",
       "1227         3\n",
       "\n",
       "[1228 rows x 1 columns]"
      ]
     },
     "execution_count": 33,
     "metadata": {},
     "output_type": "execute_result"
    }
   ],
   "source": [
    "#mengecek jumlah rawdata\n",
    "data_sampling = pd.DataFrame({\"kategori\": y_ros})\n",
    "data_sampling"
   ]
  },
  {
   "cell_type": "markdown",
   "id": "6af4be8d",
   "metadata": {},
   "source": [
    "Terdapat 1228 raw data, informasi ini penting untuk eksekusi text pada blok di bawah"
   ]
  },
  {
   "cell_type": "code",
   "execution_count": 34,
   "id": "300f8193",
   "metadata": {},
   "outputs": [
    {
     "name": "stderr",
     "output_type": "stream",
     "text": [
      "[nltk_data] Downloading package stopwords to\n",
      "[nltk_data]     C:\\Users\\ACER\\AppData\\Roaming\\nltk_data...\n",
      "[nltk_data]   Package stopwords is already up-to-date!\n"
     ]
    }
   ],
   "source": [
    "import re\n",
    "import nltk\n",
    "nltk.download('stopwords')\n",
    "from nltk.corpus import stopwords\n",
    "from nltk.stem.porter import PorterStemmer\n",
    "corpus = []\n",
    "for i in range(0, 1228): #isi range harus sesuai dengan berapa banyak row data yang dimiliki, (awalnya 1070, namun setelah didrop missing valuenya menjadi 990)\n",
    "  review = re.sub('[^a-zA-Z]', ' ', str(X_ros[i])) #sumbu X harus berbentuk string sehingga X-ros dicovert menjadi string\n",
    "  review = review.lower()\n",
    "  review = review.split()\n",
    "  ps = PorterStemmer()\n",
    "  all_stopwords = stopwords.words('english')\n",
    "  all_stopwords.remove('not')\n",
    "  review = [ps.stem(word) for word in review if not word in set(all_stopwords)]\n",
    "  review = ' '.join(review)\n",
    "  corpus.append(review)"
   ]
  },
  {
   "cell_type": "code",
   "execution_count": 35,
   "id": "3fff0339",
   "metadata": {},
   "outputs": [],
   "source": [
    "from sklearn.feature_extraction.text import CountVectorizer\n",
    "cv = CountVectorizer(max_features = 1500)\n",
    "X_ = cv.fit_transform(corpus).toarray()\n",
    "y = y_ros"
   ]
  },
  {
   "cell_type": "code",
   "execution_count": 36,
   "id": "96e8d325",
   "metadata": {},
   "outputs": [],
   "source": [
    "from sklearn.model_selection import train_test_split\n",
    "X_train, X_test, y_train, y_test = train_test_split(X_, y, test_size = 0.20, random_state = 0)"
   ]
  },
  {
   "cell_type": "code",
   "execution_count": 37,
   "id": "e5f59d2c",
   "metadata": {},
   "outputs": [
    {
     "data": {
      "text/html": [
       "<style>#sk-container-id-2 {color: black;background-color: white;}#sk-container-id-2 pre{padding: 0;}#sk-container-id-2 div.sk-toggleable {background-color: white;}#sk-container-id-2 label.sk-toggleable__label {cursor: pointer;display: block;width: 100%;margin-bottom: 0;padding: 0.3em;box-sizing: border-box;text-align: center;}#sk-container-id-2 label.sk-toggleable__label-arrow:before {content: \"▸\";float: left;margin-right: 0.25em;color: #696969;}#sk-container-id-2 label.sk-toggleable__label-arrow:hover:before {color: black;}#sk-container-id-2 div.sk-estimator:hover label.sk-toggleable__label-arrow:before {color: black;}#sk-container-id-2 div.sk-toggleable__content {max-height: 0;max-width: 0;overflow: hidden;text-align: left;background-color: #f0f8ff;}#sk-container-id-2 div.sk-toggleable__content pre {margin: 0.2em;color: black;border-radius: 0.25em;background-color: #f0f8ff;}#sk-container-id-2 input.sk-toggleable__control:checked~div.sk-toggleable__content {max-height: 200px;max-width: 100%;overflow: auto;}#sk-container-id-2 input.sk-toggleable__control:checked~label.sk-toggleable__label-arrow:before {content: \"▾\";}#sk-container-id-2 div.sk-estimator input.sk-toggleable__control:checked~label.sk-toggleable__label {background-color: #d4ebff;}#sk-container-id-2 div.sk-label input.sk-toggleable__control:checked~label.sk-toggleable__label {background-color: #d4ebff;}#sk-container-id-2 input.sk-hidden--visually {border: 0;clip: rect(1px 1px 1px 1px);clip: rect(1px, 1px, 1px, 1px);height: 1px;margin: -1px;overflow: hidden;padding: 0;position: absolute;width: 1px;}#sk-container-id-2 div.sk-estimator {font-family: monospace;background-color: #f0f8ff;border: 1px dotted black;border-radius: 0.25em;box-sizing: border-box;margin-bottom: 0.5em;}#sk-container-id-2 div.sk-estimator:hover {background-color: #d4ebff;}#sk-container-id-2 div.sk-parallel-item::after {content: \"\";width: 100%;border-bottom: 1px solid gray;flex-grow: 1;}#sk-container-id-2 div.sk-label:hover label.sk-toggleable__label {background-color: #d4ebff;}#sk-container-id-2 div.sk-serial::before {content: \"\";position: absolute;border-left: 1px solid gray;box-sizing: border-box;top: 0;bottom: 0;left: 50%;z-index: 0;}#sk-container-id-2 div.sk-serial {display: flex;flex-direction: column;align-items: center;background-color: white;padding-right: 0.2em;padding-left: 0.2em;position: relative;}#sk-container-id-2 div.sk-item {position: relative;z-index: 1;}#sk-container-id-2 div.sk-parallel {display: flex;align-items: stretch;justify-content: center;background-color: white;position: relative;}#sk-container-id-2 div.sk-item::before, #sk-container-id-2 div.sk-parallel-item::before {content: \"\";position: absolute;border-left: 1px solid gray;box-sizing: border-box;top: 0;bottom: 0;left: 50%;z-index: -1;}#sk-container-id-2 div.sk-parallel-item {display: flex;flex-direction: column;z-index: 1;position: relative;background-color: white;}#sk-container-id-2 div.sk-parallel-item:first-child::after {align-self: flex-end;width: 50%;}#sk-container-id-2 div.sk-parallel-item:last-child::after {align-self: flex-start;width: 50%;}#sk-container-id-2 div.sk-parallel-item:only-child::after {width: 0;}#sk-container-id-2 div.sk-dashed-wrapped {border: 1px dashed gray;margin: 0 0.4em 0.5em 0.4em;box-sizing: border-box;padding-bottom: 0.4em;background-color: white;}#sk-container-id-2 div.sk-label label {font-family: monospace;font-weight: bold;display: inline-block;line-height: 1.2em;}#sk-container-id-2 div.sk-label-container {text-align: center;}#sk-container-id-2 div.sk-container {/* jupyter's `normalize.less` sets `[hidden] { display: none; }` but bootstrap.min.css set `[hidden] { display: none !important; }` so we also need the `!important` here to be able to override the default hidden behavior on the sphinx rendered scikit-learn.org. See: https://github.com/scikit-learn/scikit-learn/issues/21755 */display: inline-block !important;position: relative;}#sk-container-id-2 div.sk-text-repr-fallback {display: none;}</style><div id=\"sk-container-id-2\" class=\"sk-top-container\"><div class=\"sk-text-repr-fallback\"><pre>GaussianNB()</pre><b>In a Jupyter environment, please rerun this cell to show the HTML representation or trust the notebook. <br />On GitHub, the HTML representation is unable to render, please try loading this page with nbviewer.org.</b></div><div class=\"sk-container\" hidden><div class=\"sk-item\"><div class=\"sk-estimator sk-toggleable\"><input class=\"sk-toggleable__control sk-hidden--visually\" id=\"sk-estimator-id-2\" type=\"checkbox\" checked><label for=\"sk-estimator-id-2\" class=\"sk-toggleable__label sk-toggleable__label-arrow\">GaussianNB</label><div class=\"sk-toggleable__content\"><pre>GaussianNB()</pre></div></div></div></div></div>"
      ],
      "text/plain": [
       "GaussianNB()"
      ]
     },
     "execution_count": 37,
     "metadata": {},
     "output_type": "execute_result"
    }
   ],
   "source": [
    "from sklearn.naive_bayes import GaussianNB\n",
    "classifier = GaussianNB()\n",
    "classifier.fit(X_train, y_train)"
   ]
  },
  {
   "cell_type": "code",
   "execution_count": 38,
   "id": "1c2b5736",
   "metadata": {},
   "outputs": [],
   "source": [
    "y_pred = classifier.predict(X_test)"
   ]
  },
  {
   "cell_type": "code",
   "execution_count": 39,
   "id": "f52be7b4",
   "metadata": {},
   "outputs": [
    {
     "data": {
      "text/html": [
       "<div>\n",
       "<style scoped>\n",
       "    .dataframe tbody tr th:only-of-type {\n",
       "        vertical-align: middle;\n",
       "    }\n",
       "\n",
       "    .dataframe tbody tr th {\n",
       "        vertical-align: top;\n",
       "    }\n",
       "\n",
       "    .dataframe thead th {\n",
       "        text-align: right;\n",
       "    }\n",
       "</style>\n",
       "<table border=\"1\" class=\"dataframe\">\n",
       "  <thead>\n",
       "    <tr style=\"text-align: right;\">\n",
       "      <th></th>\n",
       "      <th>nilai_sebenarnya</th>\n",
       "      <th>hasil_prediksi</th>\n",
       "    </tr>\n",
       "  </thead>\n",
       "  <tbody>\n",
       "    <tr>\n",
       "      <th>18</th>\n",
       "      <td>0</td>\n",
       "      <td>3</td>\n",
       "    </tr>\n",
       "    <tr>\n",
       "      <th>546</th>\n",
       "      <td>3</td>\n",
       "      <td>0</td>\n",
       "    </tr>\n",
       "    <tr>\n",
       "      <th>268</th>\n",
       "      <td>1</td>\n",
       "      <td>1</td>\n",
       "    </tr>\n",
       "    <tr>\n",
       "      <th>1221</th>\n",
       "      <td>3</td>\n",
       "      <td>3</td>\n",
       "    </tr>\n",
       "    <tr>\n",
       "      <th>874</th>\n",
       "      <td>2</td>\n",
       "      <td>3</td>\n",
       "    </tr>\n",
       "    <tr>\n",
       "      <th>...</th>\n",
       "      <td>...</td>\n",
       "      <td>...</td>\n",
       "    </tr>\n",
       "    <tr>\n",
       "      <th>945</th>\n",
       "      <td>1</td>\n",
       "      <td>0</td>\n",
       "    </tr>\n",
       "    <tr>\n",
       "      <th>283</th>\n",
       "      <td>3</td>\n",
       "      <td>1</td>\n",
       "    </tr>\n",
       "    <tr>\n",
       "      <th>349</th>\n",
       "      <td>1</td>\n",
       "      <td>0</td>\n",
       "    </tr>\n",
       "    <tr>\n",
       "      <th>333</th>\n",
       "      <td>1</td>\n",
       "      <td>2</td>\n",
       "    </tr>\n",
       "    <tr>\n",
       "      <th>589</th>\n",
       "      <td>1</td>\n",
       "      <td>3</td>\n",
       "    </tr>\n",
       "  </tbody>\n",
       "</table>\n",
       "<p>246 rows × 2 columns</p>\n",
       "</div>"
      ],
      "text/plain": [
       "      nilai_sebenarnya  hasil_prediksi\n",
       "18                   0               3\n",
       "546                  3               0\n",
       "268                  1               1\n",
       "1221                 3               3\n",
       "874                  2               3\n",
       "...                ...             ...\n",
       "945                  1               0\n",
       "283                  3               1\n",
       "349                  1               0\n",
       "333                  1               2\n",
       "589                  1               3\n",
       "\n",
       "[246 rows x 2 columns]"
      ]
     },
     "execution_count": 39,
     "metadata": {},
     "output_type": "execute_result"
    }
   ],
   "source": [
    "#kita tabulasi nilai sebenarnya dan nilai prediksi\n",
    "\n",
    "output= pd.DataFrame({\"nilai_sebenarnya\" : y_test, \"hasil_prediksi\" : y_pred})\n",
    "output"
   ]
  },
  {
   "cell_type": "code",
   "execution_count": 40,
   "id": "7d57e2ae",
   "metadata": {},
   "outputs": [
    {
     "name": "stdout",
     "output_type": "stream",
     "text": [
      "[[19 12  9 18]\n",
      " [16 16  8 18]\n",
      " [ 8  6 42 11]\n",
      " [ 6  9  3 45]]\n",
      "tingkat akurasi prediksi dengan naive bayes adalah : 0.4959349593495935\n"
     ]
    }
   ],
   "source": [
    "#agar lebih jelas secara matematis,maka dilakukan perhitungan akurasi dengan confussion matriks dan akurasi\n",
    "from sklearn.metrics import confusion_matrix, accuracy_score\n",
    "cm = confusion_matrix(y_test, y_pred)\n",
    "print(cm)\n",
    "print(\"tingkat akurasi prediksi dengan naive bayes adalah :\", accuracy_score(y_test, y_pred))"
   ]
  },
  {
   "cell_type": "raw",
   "id": "30e3d45a",
   "metadata": {},
   "source": [
    "Dapat dilihat bahwa, dengan melakukan resampling akurasi dari model naive bayes meningkat dibandingkan dengan tanpa resampling"
   ]
  },
  {
   "cell_type": "code",
   "execution_count": 41,
   "id": "6bfc334a",
   "metadata": {},
   "outputs": [
    {
     "name": "stdout",
     "output_type": "stream",
     "text": [
      "              precision    recall  f1-score   support\n",
      "\n",
      "           0       0.39      0.33      0.36        58\n",
      "           1       0.37      0.28      0.32        58\n",
      "           2       0.68      0.63      0.65        67\n",
      "           3       0.49      0.71      0.58        63\n",
      "\n",
      "    accuracy                           0.50       246\n",
      "   macro avg       0.48      0.49      0.48       246\n",
      "weighted avg       0.49      0.50      0.48       246\n",
      "\n"
     ]
    }
   ],
   "source": [
    "print(classification_report(y_test, y_pred))"
   ]
  },
  {
   "cell_type": "code",
   "execution_count": null,
   "id": "13060ec8",
   "metadata": {},
   "outputs": [],
   "source": []
  }
 ],
 "metadata": {
  "kernelspec": {
   "display_name": "Python 3 (ipykernel)",
   "language": "python",
   "name": "python3"
  },
  "language_info": {
   "codemirror_mode": {
    "name": "ipython",
    "version": 3
   },
   "file_extension": ".py",
   "mimetype": "text/x-python",
   "name": "python",
   "nbconvert_exporter": "python",
   "pygments_lexer": "ipython3",
   "version": "3.9.12"
  }
 },
 "nbformat": 4,
 "nbformat_minor": 5
}
